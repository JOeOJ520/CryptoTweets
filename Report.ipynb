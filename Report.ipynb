{
  "cells": [
    {
      "cell_type": "markdown",
      "metadata": {
        "deletable": false,
        "id": "L40eXcn6C1GU",
        "tags": [
          "instructions"
        ]
      },
      "source": [
        "### Text Classification and Data Anaylsis on Cryptocurrency Related Tweets in PySpark Enviorment\n",
        "---"
      ]
    },
    {
      "cell_type": "markdown",
      "metadata": {
        "deletable": false,
        "id": "zbZw9WlgC1GZ",
        "tags": [
          "instructions"
        ]
      },
      "source": [
        "#### Disclaimer and Background\n",
        "This project is an improvement of the final project of upper year CS course \"Data-Intensive Distributed Analytics\" at the University of Waterloo by [Hugh Chung](https://github.com/hughyyyy) , [Joe Liang](https://github.com/JOeOJ520), and [Shawn Li](https://github.com/Shawn-Personal). The codes for setting up the Pyspark environments in this project are credited to [Ali Abedi](https://cs.uwaterloo.ca/~a2abedi/), the instructor in Winter 2022.\n",
        "\n",
        "Data in this project is from the Kaggle post \"Bitcoin Tweets\" under CC0: Public Domain license. The data includes tweets that have #Bitcoin and #btc hashtags from 2016. Additional information about this dataset can be found [here](https://www.kaggle.com/datasets/kaushiksuresh147/bitcoin-tweets).\n",
        "\n",
        "[Cryptocurrency](https://en.wikipedia.org/wiki/Cryptocurrency) becomes a popular topic in social media and the financial market. On 30 November 2020, bitcoin hit a new all-time high of $19,860. NLP Analysis on the posts related to cryptocurrency in social media could be an interest area of study.  \n",
        "\n",
        "The goal of this project is to demonstrate the ability to use Pyspark and big data computing in text data analysis and supervised learning: tweets text classification. And using the trained model to construct an automatic hash-tagging system for incoming tweets.\n",
        "\n",
        "The environment and programming language used in this project mainly focus on [Pyspark](https://spark.apache.org/docs/latest/api/python/#:~:text=PySpark%20is%20an%20interface%20for,data%20in%20a%20distributed%20environment) with its RDD and Data Frame interface. Also, [Keras](https://keras.io/) in Tensorflow with [Pandas](https://pandas.pydata.org/) is used to train neural network models."
      ]
    },
    {
      "cell_type": "markdown",
      "metadata": {
        "deletable": false,
        "id": "GLVpHfc7C1Ga",
        "tags": [
          "instructions"
        ]
      },
      "source": [
        "\n",
        "#### Pyspark Environment\n"
      ]
    },
    {
      "cell_type": "markdown",
      "metadata": {
        "id": "Tuc3ipMjPasS"
      },
      "source": [
        "Cloning from Github to obtain needed files."
      ]
    },
    {
      "cell_type": "code",
      "execution_count": null,
      "metadata": {
        "id": "PKMddol2pECf"
      },
      "outputs": [],
      "source": [
        "import shutil, os\n",
        "if os.path.isdir('CryptoTweets'):\n",
        "    shutil.rmtree('CryptoTweets')\n",
        "! git clone https://github.com/JOeOJ520/CryptoTweets.git"
      ]
    },
    {
      "cell_type": "markdown",
      "source": [
        "To get started, let's initialize Spark."
      ],
      "metadata": {
        "id": "tEOk6GYA7GOi"
      }
    },
    {
      "cell_type": "code",
      "execution_count": null,
      "metadata": {
        "deletable": false,
        "id": "NWzWM_87C1Gb",
        "tags": [
          "setup"
        ]
      },
      "outputs": [],
      "source": [
        "!apt-get update -qq > /dev/null\n",
        "!apt-get install openjdk-8-jdk-headless -qq > /dev/null\n",
        "!wget -q https://downloads.apache.org/spark/spark-2.4.8/spark-2.4.8-bin-hadoop2.7.tgz\n",
        "!tar xf spark-2.4.8-bin-hadoop2.7.tgz\n",
        "!pip install -q findspark\n",
        "!tar -xzf CryptoTweets/sql-data.tgz\n",
        "# install required packages\n",
        "!pip install pycountry\n",
        "!pip install pyecharts"
      ]
    },
    {
      "cell_type": "markdown",
      "metadata": {
        "deletable": false,
        "id": "FT4V7xlCC1Gc",
        "tags": [
          "instructions"
        ]
      },
      "source": [
        "To use Spark SQL and the DataFrame interface, creating a `SparkSession`."
      ]
    },
    {
      "cell_type": "code",
      "execution_count": 2,
      "metadata": {
        "deletable": false,
        "id": "NyH7WzP0C1Gc",
        "tags": [
          "setup"
        ]
      },
      "outputs": [],
      "source": [
        "import os\n",
        "os.environ[\"JAVA_HOME\"] = \"/usr/lib/jvm/java-8-openjdk-amd64\"\n",
        "os.environ[\"SPARK_HOME\"] = \"/content/spark-2.4.8-bin-hadoop2.7\"\n",
        "\n",
        "import findspark\n",
        "findspark.init()\n",
        "\n",
        "from pyspark.sql import SparkSession\n",
        "import random\n",
        "\n",
        "spark = SparkSession.builder.appName(\"YourTest\").master(\"local[2]\").\\\n",
        "config('spark.ui.port', random.randrange(4000,5000)).config(\"spark.driver.memory\", \"9g\").getOrCreate()"
      ]
    },
    {
      "cell_type": "markdown",
      "metadata": {
        "id": "-YSU9sArPasU"
      },
      "source": [
        "#### Data Preprocessing\n",
        "The bitcoin-tweets.csv contains total 1.09G of tweets regarding bitcoins and crpytocurrecies. The below section requires a [kaggle.json](https://www.kaggle.com/docs/api) for authentication purposes in order to download the file. "
      ]
    },
    {
      "cell_type": "code",
      "execution_count": null,
      "metadata": {
        "id": "NM8kqFNCPasV"
      },
      "outputs": [],
      "source": [
        "from google.colab import files\n",
        "\n",
        "uploaded = files.upload()\n",
        "\n",
        "#Upload kaggle account verification\n",
        "for fn in uploaded.keys():\n",
        "  print('User uploaded file \"{name}\" with length {length} bytes'.format(\n",
        "      name=fn, length=len(uploaded[fn])))\n",
        "  \n",
        "# Then move kaggle.json into the folder where the API expects to find it.\n",
        "!mkdir -p ~/.kaggle/ && mv kaggle.json ~/.kaggle/ && chmod 600 ~/.kaggle/kaggle.json\n",
        "\n",
        "#Download dataset\n",
        "!kaggle datasets download \"kaushiksuresh147/bitcoin-tweets\"\n",
        "#unzips\n",
        "!unzip bitcoin-tweets.zip"
      ]
    },
    {
      "cell_type": "markdown",
      "metadata": {
        "id": "UfccFLqePasW"
      },
      "source": [
        "Using Pyspark SQL Interface to obtain dataframe from Bitcoin_tweets.csv and first 10 rows of the dataset are showed below."
      ]
    },
    {
      "cell_type": "code",
      "execution_count": 5,
      "metadata": {
        "colab": {
          "base_uri": "https://localhost:8080/"
        },
        "deletable": false,
        "id": "RWktEcnhC1Gd",
        "outputId": "3c921432-bac3-400b-83da-0d65932b55d6",
        "tags": [
          "test"
        ]
      },
      "outputs": [
        {
          "output_type": "stream",
          "name": "stdout",
          "text": [
            "+--------------------+--------------------+--------------------+-------------------+--------------+------------+-------------------+--------------------+-------------------+--------------------+--------------------+--------------------+-------------------+\n",
            "|           user_name|       user_location|    user_description|       user_created|user_followers|user_friends|    user_favourites|       user_verified|               date|                text|            hashtags|              source|         is_retweet|\n",
            "+--------------------+--------------------+--------------------+-------------------+--------------+------------+-------------------+--------------------+-------------------+--------------------+--------------------+--------------------+-------------------+\n",
            "|       DeSota Wilson|         Atlanta, GA|Biz Consultant, r...|2009-04-26 20:05:09|        8534.0|        7605|               4838|               False|2021-02-10 23:59:04|Blue Ridge Bank s...|         ['bitcoin']|     Twitter Web App|              False|\n",
            "|            CryptoND|                null|😎 BITCOINLIVE is...|2019-10-17 20:12:10|        6769.0|        1532|              25483|               False|2021-02-10 23:58:48|\"😎 Today, that's...| #Btc #wallet #se...|['Thursday', 'Btc...|Twitter for Android|\n",
            "|           Tdlmatias|     London, England|IM Academy : The ...|2014-11-10 10:50:37|         128.0|         332|                924|               False|2021-02-10 23:54:48|Guys evening, I h...|                null|     Twitter Web App|              False|\n",
            "|Crypto is the future|                null|I will post a lot...|2019-09-28 16:48:12|         625.0|         129|                 14|               False|2021-02-10 23:54:33|$BTC A big chance...|['Bitcoin', 'FX',...|             dlvr.it|              False|\n",
            "|Alex Kirchmaier ?...|              Europa|Co-founder @RENJE...|               null|          null|        null|               null|                null|               null|                null|                null|                null|               null|\n",
            "|           #Bitcoin\"| 2016-02-03 13:15:55|              1249.0|               1472|         10482|       False|2021-02-10 23:54:06|This network is s...|            ['BTC']|     Twitter Web App|               False|                null|               null|\n",
            "| ZerrBenz™ ⚔ ✪ 20732|       Bkk, Thailand|I'm a cat slave ?...|2010-01-12 07:00:04|         742.0|         716|               2444|               False|2021-02-10 23:53:30|💹 Trade #Crypto ...|                null|                null|               null|\n",
            "|📌 Enjoy #Cashbac...|                null|                null|               null|          null|        null|               null|                null|               null|                null|                null|                null|               null|\n",
            "|📌 Sign up link ?...|['Crypto', 'Binan...|     Twitter Web App|              False|          null|        null|               null|                null|               null|                null|                null|                null|               null|\n",
            "|         Bitcoin-Bot|        Florida, USA|Bot to generate B...|2019-12-23 16:49:16|         131.0|          84|               5728|               False|2021-02-10 23:53:17|&lt;'fire' &amp; ...|                null|                null|               null|\n",
            "+--------------------+--------------------+--------------------+-------------------+--------------+------------+-------------------+--------------------+-------------------+--------------------+--------------------+--------------------+-------------------+\n",
            "only showing top 10 rows\n",
            "\n"
          ]
        }
      ],
      "source": [
        "#Read the csv and construct pyspark dataframe\n",
        "tweets_raw = spark.read.format(\"csv\").option(\"header\",\"true\").load(\"Bitcoin_tweets.csv\")\n",
        "#tweets_raw = spark.read.csv(\"./Bitcoin_tweets.csv\")\n",
        "tweets_raw.show(10)\n",
        "#Create view\n",
        "tweets_raw.createOrReplaceTempView(\"tweet\")"
      ]
    },
    {
      "cell_type": "markdown",
      "source": [
        "The dimension of raw dataset is (row =  11176654, columns = 13). The sample size exceeds the need of our project goal, which might lead to extremely high computational cost. "
      ],
      "metadata": {
        "id": "ftCAj80zQYx7"
      }
    },
    {
      "cell_type": "code",
      "source": [
        "print((tweets_raw.count(), len(tweets_raw.columns)))"
      ],
      "metadata": {
        "colab": {
          "base_uri": "https://localhost:8080/"
        },
        "id": "_oVFgI64QRvb",
        "outputId": "b800ff68-abcc-45ad-a024-7b19a7256a16"
      },
      "execution_count": 6,
      "outputs": [
        {
          "output_type": "stream",
          "name": "stdout",
          "text": [
            "(11804338, 13)\n"
          ]
        }
      ]
    },
    {
      "cell_type": "markdown",
      "metadata": {
        "id": "1y5Cx7NCPasX"
      },
      "source": [
        "Therefore, we cleans up the dataframe by removing samples with missing value and performs type conversion on multiple columns. "
      ]
    },
    {
      "cell_type": "code",
      "execution_count": 7,
      "metadata": {
        "colab": {
          "base_uri": "https://localhost:8080/"
        },
        "id": "JOSGNVxwTygm",
        "outputId": "9debb431-54a7-486d-81c4-54b0d194a9d7"
      },
      "outputs": [
        {
          "output_type": "stream",
          "name": "stdout",
          "text": [
            "The total number of tweets is: 11804338\n",
            "The total number of tweets after cleaning the data types is 497152\n",
            "Percentage of tweets removed:  0.9578839575755964\n"
          ]
        }
      ],
      "source": [
        "import pyspark.sql.functions as F\n",
        "from pyspark.sql.types import IntegerType\n",
        "#Remove all null rows\n",
        "tweets = spark.sql(\"SELECT * FROM tweet WHERE user_name != 'null' AND user_description != 'null' \\\n",
        "AND user_location != 'null' AND user_created != 'null' AND user_followers != 'null' AND user_friends != 'null' \\\n",
        "AND user_favourites != 'null' AND user_verified != 'null' AND date != 'null' AND text != 'null'  AND hashtags != 'null' \\\n",
        "AND source != 'null' AND is_retweet != 'null'\")\n",
        "#Convert string into datetime for date col\n",
        "tweets = tweets.withColumn('date', F.to_timestamp('date', 'yyyy-MM-dd'))\n",
        "tweets = tweets.withColumn('user_created', F.to_timestamp('user_created', 'yyyy-MM-dd'))\n",
        "#Convert string to Number/Int\n",
        "tweets = tweets.withColumn(\"user_followers\", tweets[\"user_followers\"].cast(IntegerType()))\n",
        "tweets = tweets.withColumn(\"user_friends\", tweets[\"user_friends\"].cast(IntegerType()))\n",
        "tweets = tweets.withColumn(\"user_favourites\", tweets[\"user_favourites\"].cast(IntegerType()))\n",
        "#Remove all null convertions that occured\n",
        "tweets = tweets.filter(\"date is not NULL AND user_created is not NULL AND user_followers is not NULL AND user_friends is not NULL\")\n",
        "#Tweet left after cleaning\n",
        "tweets_left = tweets.count()\n",
        "#Total tweet\n",
        "tweets_total = tweets_raw.count()\n",
        "print(\"The total number of tweets is: \" + str(tweets_total))\n",
        "print(\"The total number of tweets after cleaning the data types is \" + str(tweets_left))\n",
        "print(\"Percentage of tweets removed: \", 1 - (tweets_left / tweets_total))"
      ]
    },
    {
      "cell_type": "markdown",
      "metadata": {
        "id": "U9WYfF1NPasa"
      },
      "source": [
        "#### Explanatory Data Analysis\n",
        "##### Categorical Data\n",
        "Standardlizing the \"user_location\" columns into countries using \"pycountry\" package. Using Pyspark RDDs interface to achieve parallel computing in the calculation of the frequencies of words in \"hashtage\", \"locations\", and \"source\", and \"user_name\""
      ]
    },
    {
      "cell_type": "code",
      "execution_count": 8,
      "metadata": {
        "id": "hlzGguljPasb"
      },
      "outputs": [],
      "source": [
        "from nltk.stem import PorterStemmer\n",
        "from CryptoTweets.otherstr import *\n",
        "from CryptoTweets.simple_tokenize import *\n",
        "\n",
        "# Functions can be found in otherstr.py file in Github\n",
        "# sources\n",
        "sor = source(tweets).collect()\n",
        "# Hashtages\n",
        "hashs =hashtags(tweets).collect()\n",
        "# verification\n",
        "verified = user_verified(tweets).collect()\n",
        "# user name\n",
        "name = user_name(tweets).collect()\n",
        "# Locations\n",
        "loca = user_location(tweets).collect()"
      ]
    },
    {
      "cell_type": "markdown",
      "source": [
        "Here is an example of the results from the above calculations. The number indicates the frequency of each category in the dataset."
      ],
      "metadata": {
        "id": "h1QDPJNHX3-L"
      }
    },
    {
      "cell_type": "code",
      "source": [
        "loca[:10]"
      ],
      "metadata": {
        "colab": {
          "base_uri": "https://localhost:8080/"
        },
        "id": "SUySA3bHVm9W",
        "outputId": "130184b2-7452-4513-fa96-250abb725c81"
      },
      "execution_count": 9,
      "outputs": [
        {
          "output_type": "execute_result",
          "data": {
            "text/plain": [
              "[('others', 397175),\n",
              " ('United States', 13592),\n",
              " ('United Kingdom', 9272),\n",
              " ('Canada', 8544),\n",
              " ('India', 7791),\n",
              " ('Australia', 4415),\n",
              " ('Bangladesh', 3545),\n",
              " ('South Africa', 3314),\n",
              " ('Niger', 3206),\n",
              " ('France', 2697)]"
            ]
          },
          "metadata": {},
          "execution_count": 9
        }
      ]
    },
    {
      "cell_type": "markdown",
      "metadata": {
        "id": "SnqImmNfPasc"
      },
      "source": [
        "Source (platform of original tweets)"
      ]
    },
    {
      "cell_type": "code",
      "execution_count": 10,
      "metadata": {
        "colab": {
          "base_uri": "https://localhost:8080/",
          "height": 297
        },
        "id": "IkT7g9M8Pasd",
        "outputId": "568dbc7f-90c8-4188-f739-5358f105cddf"
      },
      "outputs": [
        {
          "output_type": "display_data",
          "data": {
            "text/plain": [
              "<Figure size 432x288 with 1 Axes>"
            ],
            "image/png": "[encoded data removed]"
          },
          "metadata": {}
        }
      ],
      "source": [
        "import matplotlib.pyplot as plt\n",
        "# Plots for tweet source\n",
        "x_t,y_t = zip(*sor)\n",
        "\n",
        "fig1, ax1 = plt.subplots()\n",
        "explode = (0.05,0,0,0)\n",
        "colors = ['#8B0000','#db6777','#e6d1d4','#e8dcde']\n",
        "ax1.pie(y_t,labels=x_t, colors = colors,  autopct='%1.1f%%', startangle=90, pctdistance=0.85, explode = explode)\n",
        "\n",
        "#draw circle\n",
        "centre_circle = plt.Circle((0,0),0.70,fc='white')\n",
        "fig = plt.gcf()\n",
        "fig.gca().add_artist(centre_circle)\n",
        "\n",
        "# Equal aspect ratio ensures that pie is drawn as a circle\n",
        "ax1.axis('equal')  \n",
        "plt.tight_layout()\n",
        "plt.show()\n",
        "\n",
        "plt.show()"
      ]
    },
    {
      "cell_type": "markdown",
      "source": [
        "User Location"
      ],
      "metadata": {
        "id": "T1jG0AhHaqT0"
      }
    },
    {
      "cell_type": "code",
      "execution_count": 13,
      "metadata": {
        "colab": {
          "base_uri": "https://localhost:8080/",
          "height": 537
        },
        "id": "llSmIz6IPasd",
        "outputId": "bb6f36be-c9e5-4e28-e46f-d07018bc373b"
      },
      "outputs": [
        {
          "output_type": "execute_result",
          "data": {
            "text/plain": [
              "<pyecharts.render.display.HTML at 0x7f06494e3350>"
            ],
            "text/html": [
              "\n",
              "<script>\n",
              "    require.config({\n",
              "        paths: {\n",
              "            'echarts':'https://assets.pyecharts.org/assets/echarts.min'\n",
              "        }\n",
              "    });\n",
              "</script>\n",
              "\n",
              "        <div id=\"cd28205a43cc48c5995d4ec26cfd4652\" style=\"width:900px; height:500px;\"></div>\n",
              "\n",
              "<script>\n",
              "        require(['echarts'], function(echarts) {\n",
              "                var chart_cd28205a43cc48c5995d4ec26cfd4652 = echarts.init(\n",
              "                    document.getElementById('cd28205a43cc48c5995d4ec26cfd4652'), 'white', {renderer: 'canvas'});\n",
              "                var option_cd28205a43cc48c5995d4ec26cfd4652 = {\n",
              "    \"animation\": true,\n",
              "    \"animationThreshold\": 2000,\n",
              "    \"animationDuration\": 1000,\n",
              "    \"animationEasing\": \"cubicOut\",\n",
              "    \"animationDelay\": 0,\n",
              "    \"animationDurationUpdate\": 300,\n",
              "    \"animationEasingUpdate\": \"cubicOut\",\n",
              "    \"animationDelayUpdate\": 0,\n",
              "    \"color\": [\n",
              "        \"#c23531\",\n",
              "        \"#2f4554\",\n",
              "        \"#61a0a8\",\n",
              "        \"#d48265\",\n",
              "        \"#749f83\",\n",
              "        \"#ca8622\",\n",
              "        \"#bda29a\",\n",
              "        \"#6e7074\",\n",
              "        \"#546570\",\n",
              "        \"#c4ccd3\",\n",
              "        \"#f05b72\",\n",
              "        \"#ef5b9c\",\n",
              "        \"#f47920\",\n",
              "        \"#905a3d\",\n",
              "        \"#fab27b\",\n",
              "        \"#2a5caa\",\n",
              "        \"#444693\",\n",
              "        \"#726930\",\n",
              "        \"#b2d235\",\n",
              "        \"#6d8346\",\n",
              "        \"#ac6767\",\n",
              "        \"#1d953f\",\n",
              "        \"#6950a1\",\n",
              "        \"#918597\"\n",
              "    ],\n",
              "    \"series\": [\n",
              "        {\n",
              "            \"type\": \"bar\",\n",
              "            \"name\": \"Frequency\",\n",
              "            \"legendHoverLink\": true,\n",
              "            \"data\": [\n",
              "                13592,\n",
              "                9272,\n",
              "                8544,\n",
              "                7791,\n",
              "                4415,\n",
              "                3545,\n",
              "                3314,\n",
              "                3206,\n",
              "                2697,\n",
              "                2642\n",
              "            ],\n",
              "            \"showBackground\": false,\n",
              "            \"barMinHeight\": 0,\n",
              "            \"barCategoryGap\": \"20%\",\n",
              "            \"barGap\": \"30%\",\n",
              "            \"large\": false,\n",
              "            \"largeThreshold\": 400,\n",
              "            \"seriesLayoutBy\": \"column\",\n",
              "            \"datasetIndex\": 0,\n",
              "            \"clip\": true,\n",
              "            \"zlevel\": 0,\n",
              "            \"z\": 2,\n",
              "            \"label\": {\n",
              "                \"show\": true,\n",
              "                \"position\": \"top\",\n",
              "                \"margin\": 8\n",
              "            }\n",
              "        }\n",
              "    ],\n",
              "    \"legend\": [\n",
              "        {\n",
              "            \"data\": [\n",
              "                \"Frequency\"\n",
              "            ],\n",
              "            \"selected\": {\n",
              "                \"Frequency\": true\n",
              "            },\n",
              "            \"show\": true,\n",
              "            \"padding\": 5,\n",
              "            \"itemGap\": 10,\n",
              "            \"itemWidth\": 25,\n",
              "            \"itemHeight\": 14\n",
              "        }\n",
              "    ],\n",
              "    \"tooltip\": {\n",
              "        \"show\": true,\n",
              "        \"trigger\": \"item\",\n",
              "        \"triggerOn\": \"mousemove|click\",\n",
              "        \"axisPointer\": {\n",
              "            \"type\": \"line\"\n",
              "        },\n",
              "        \"showContent\": true,\n",
              "        \"alwaysShowContent\": false,\n",
              "        \"showDelay\": 0,\n",
              "        \"hideDelay\": 100,\n",
              "        \"textStyle\": {\n",
              "            \"fontSize\": 14\n",
              "        },\n",
              "        \"borderWidth\": 0,\n",
              "        \"padding\": 5\n",
              "    },\n",
              "    \"xAxis\": [\n",
              "        {\n",
              "            \"show\": true,\n",
              "            \"scale\": false,\n",
              "            \"nameLocation\": \"end\",\n",
              "            \"nameGap\": 15,\n",
              "            \"gridIndex\": 0,\n",
              "            \"inverse\": false,\n",
              "            \"offset\": 0,\n",
              "            \"splitNumber\": 5,\n",
              "            \"minInterval\": 0,\n",
              "            \"splitLine\": {\n",
              "                \"show\": false,\n",
              "                \"lineStyle\": {\n",
              "                    \"show\": true,\n",
              "                    \"width\": 1,\n",
              "                    \"opacity\": 1,\n",
              "                    \"curveness\": 0,\n",
              "                    \"type\": \"solid\"\n",
              "                }\n",
              "            },\n",
              "            \"data\": [\n",
              "                \"United States\",\n",
              "                \"United Kingdom\",\n",
              "                \"Canada\",\n",
              "                \"India\",\n",
              "                \"Australia\",\n",
              "                \"Bangladesh\",\n",
              "                \"South Africa\",\n",
              "                \"Niger\",\n",
              "                \"France\",\n",
              "                \"Germany\"\n",
              "            ]\n",
              "        }\n",
              "    ],\n",
              "    \"yAxis\": [\n",
              "        {\n",
              "            \"show\": true,\n",
              "            \"scale\": false,\n",
              "            \"nameLocation\": \"end\",\n",
              "            \"nameGap\": 15,\n",
              "            \"gridIndex\": 0,\n",
              "            \"inverse\": false,\n",
              "            \"offset\": 0,\n",
              "            \"splitNumber\": 5,\n",
              "            \"minInterval\": 0,\n",
              "            \"splitLine\": {\n",
              "                \"show\": false,\n",
              "                \"lineStyle\": {\n",
              "                    \"show\": true,\n",
              "                    \"width\": 1,\n",
              "                    \"opacity\": 1,\n",
              "                    \"curveness\": 0,\n",
              "                    \"type\": \"solid\"\n",
              "                }\n",
              "            }\n",
              "        }\n",
              "    ],\n",
              "    \"title\": [\n",
              "        {\n",
              "            \"text\": \"Top 10 User Location\",\n",
              "            \"subtext\": \"standardization and removed others\",\n",
              "            \"padding\": 5,\n",
              "            \"itemGap\": 10\n",
              "        }\n",
              "    ]\n",
              "};\n",
              "                chart_cd28205a43cc48c5995d4ec26cfd4652.setOption(option_cd28205a43cc48c5995d4ec26cfd4652);\n",
              "        });\n",
              "    </script>\n"
            ]
          },
          "metadata": {},
          "execution_count": 13
        }
      ],
      "source": [
        "# Importing required library\n",
        "from pyecharts.charts import Bar\n",
        "from pyecharts import options as opts\n",
        "\n",
        "\n",
        "# Obtaining x and y axis from Location lists\n",
        "x_hash,y_hash = zip(*loca)\n",
        "bar = (\n",
        " Bar(init_opts=opts.InitOpts())\n",
        " .add_xaxis(x_hash[1:11])\n",
        " .add_yaxis(\"Frequency\",y_hash[1:11])\n",
        " .set_global_opts(title_opts=opts.TitleOpts(title=\"Top 10 User Location\", subtitle=\"standardization and removed others\"))\n",
        ")\n",
        "bar.render_notebook()\n"
      ]
    },
    {
      "cell_type": "markdown",
      "source": [
        "User Verification"
      ],
      "metadata": {
        "id": "tuxQmvQvjpKt"
      }
    },
    {
      "cell_type": "code",
      "execution_count": 14,
      "metadata": {
        "colab": {
          "base_uri": "https://localhost:8080/",
          "height": 307
        },
        "id": "p0dqZLi1Pase",
        "outputId": "09a4d327-01b2-4556-bd58-c3a23d0997be"
      },
      "outputs": [
        {
          "output_type": "display_data",
          "data": {
            "text/plain": [
              "<Figure size 432x288 with 1 Axes>"
            ],
            "image/png": "[encoded data removed]"
          },
          "metadata": {}
        }
      ],
      "source": [
        "# Plots for verified\n",
        "x_t,y_t = zip(*verified)\n",
        "\n",
        "fig1, ax1 = plt.subplots()\n",
        "explode = (0, 0)\n",
        "colors = ['#6067e0','#fc0303']\n",
        "ax1.pie(y_t,labels=x_t, colors = colors, explode = explode, autopct='%1.1f%%',\n",
        "        shadow=True, startangle=90)\n",
        "ax1.axis('equal')  # Equal aspect ratio ensures that pie is drawn as a circle.\n",
        "#draw circle\n",
        "centre_circle = plt.Circle((0,0),0.70,fc='white')\n",
        "fig = plt.gcf()\n",
        "fig.gca().add_artist(centre_circle)\n",
        "\n",
        "# Equal aspect ratio ensures that pie is drawn as a circle\n",
        "ax1.axis('equal')  \n",
        "plt.tight_layout()\n",
        "plt.show()\n",
        "\n",
        "plt.show()"
      ]
    },
    {
      "cell_type": "markdown",
      "source": [
        "Hashtag (Response Variable)"
      ],
      "metadata": {
        "id": "kLd3_MyRq5pw"
      }
    },
    {
      "cell_type": "code",
      "source": [
        "# Counting the frequency of each hashtags\n",
        "x_hash,y_hash = zip(*hashs)\n",
        "bar = (\n",
        " Bar(init_opts=opts.InitOpts())\n",
        " .add_xaxis(x_hash[1:11])\n",
        " .add_yaxis(\"Frequency\",y_hash[1:11])\n",
        " .set_global_opts(title_opts=opts.TitleOpts(title=\"Top 10 Hashtags in the Tweets\"))\n",
        ")\n",
        "bar.render_notebook()"
      ],
      "metadata": {
        "colab": {
          "base_uri": "https://localhost:8080/",
          "height": 537
        },
        "id": "FbbO8pDeaXpO",
        "outputId": "e484fccd-ca40-4ca0-a178-3298be9bb2c6"
      },
      "execution_count": 15,
      "outputs": [
        {
          "output_type": "execute_result",
          "data": {
            "text/plain": [
              "<pyecharts.render.display.HTML at 0x7f0649cc1050>"
            ],
            "text/html": [
              "\n",
              "<script>\n",
              "    require.config({\n",
              "        paths: {\n",
              "            'echarts':'https://assets.pyecharts.org/assets/echarts.min'\n",
              "        }\n",
              "    });\n",
              "</script>\n",
              "\n",
              "        <div id=\"45cabb202966469e9b6e9f0c2b9ea1d8\" style=\"width:900px; height:500px;\"></div>\n",
              "\n",
              "<script>\n",
              "        require(['echarts'], function(echarts) {\n",
              "                var chart_45cabb202966469e9b6e9f0c2b9ea1d8 = echarts.init(\n",
              "                    document.getElementById('45cabb202966469e9b6e9f0c2b9ea1d8'), 'white', {renderer: 'canvas'});\n",
              "                var option_45cabb202966469e9b6e9f0c2b9ea1d8 = {\n",
              "    \"animation\": true,\n",
              "    \"animationThreshold\": 2000,\n",
              "    \"animationDuration\": 1000,\n",
              "    \"animationEasing\": \"cubicOut\",\n",
              "    \"animationDelay\": 0,\n",
              "    \"animationDurationUpdate\": 300,\n",
              "    \"animationEasingUpdate\": \"cubicOut\",\n",
              "    \"animationDelayUpdate\": 0,\n",
              "    \"color\": [\n",
              "        \"#c23531\",\n",
              "        \"#2f4554\",\n",
              "        \"#61a0a8\",\n",
              "        \"#d48265\",\n",
              "        \"#749f83\",\n",
              "        \"#ca8622\",\n",
              "        \"#bda29a\",\n",
              "        \"#6e7074\",\n",
              "        \"#546570\",\n",
              "        \"#c4ccd3\",\n",
              "        \"#f05b72\",\n",
              "        \"#ef5b9c\",\n",
              "        \"#f47920\",\n",
              "        \"#905a3d\",\n",
              "        \"#fab27b\",\n",
              "        \"#2a5caa\",\n",
              "        \"#444693\",\n",
              "        \"#726930\",\n",
              "        \"#b2d235\",\n",
              "        \"#6d8346\",\n",
              "        \"#ac6767\",\n",
              "        \"#1d953f\",\n",
              "        \"#6950a1\",\n",
              "        \"#918597\"\n",
              "    ],\n",
              "    \"series\": [\n",
              "        {\n",
              "            \"type\": \"bar\",\n",
              "            \"name\": \"Frequency\",\n",
              "            \"legendHoverLink\": true,\n",
              "            \"data\": [\n",
              "                171516,\n",
              "                76007,\n",
              "                41042,\n",
              "                33246,\n",
              "                22127,\n",
              "                20762,\n",
              "                18837,\n",
              "                17877,\n",
              "                14717,\n",
              "                12045\n",
              "            ],\n",
              "            \"showBackground\": false,\n",
              "            \"barMinHeight\": 0,\n",
              "            \"barCategoryGap\": \"20%\",\n",
              "            \"barGap\": \"30%\",\n",
              "            \"large\": false,\n",
              "            \"largeThreshold\": 400,\n",
              "            \"seriesLayoutBy\": \"column\",\n",
              "            \"datasetIndex\": 0,\n",
              "            \"clip\": true,\n",
              "            \"zlevel\": 0,\n",
              "            \"z\": 2,\n",
              "            \"label\": {\n",
              "                \"show\": true,\n",
              "                \"position\": \"top\",\n",
              "                \"margin\": 8\n",
              "            }\n",
              "        }\n",
              "    ],\n",
              "    \"legend\": [\n",
              "        {\n",
              "            \"data\": [\n",
              "                \"Frequency\"\n",
              "            ],\n",
              "            \"selected\": {\n",
              "                \"Frequency\": true\n",
              "            },\n",
              "            \"show\": true,\n",
              "            \"padding\": 5,\n",
              "            \"itemGap\": 10,\n",
              "            \"itemWidth\": 25,\n",
              "            \"itemHeight\": 14\n",
              "        }\n",
              "    ],\n",
              "    \"tooltip\": {\n",
              "        \"show\": true,\n",
              "        \"trigger\": \"item\",\n",
              "        \"triggerOn\": \"mousemove|click\",\n",
              "        \"axisPointer\": {\n",
              "            \"type\": \"line\"\n",
              "        },\n",
              "        \"showContent\": true,\n",
              "        \"alwaysShowContent\": false,\n",
              "        \"showDelay\": 0,\n",
              "        \"hideDelay\": 100,\n",
              "        \"textStyle\": {\n",
              "            \"fontSize\": 14\n",
              "        },\n",
              "        \"borderWidth\": 0,\n",
              "        \"padding\": 5\n",
              "    },\n",
              "    \"xAxis\": [\n",
              "        {\n",
              "            \"show\": true,\n",
              "            \"scale\": false,\n",
              "            \"nameLocation\": \"end\",\n",
              "            \"nameGap\": 15,\n",
              "            \"gridIndex\": 0,\n",
              "            \"inverse\": false,\n",
              "            \"offset\": 0,\n",
              "            \"splitNumber\": 5,\n",
              "            \"minInterval\": 0,\n",
              "            \"splitLine\": {\n",
              "                \"show\": false,\n",
              "                \"lineStyle\": {\n",
              "                    \"show\": true,\n",
              "                    \"width\": 1,\n",
              "                    \"opacity\": 1,\n",
              "                    \"curveness\": 0,\n",
              "                    \"type\": \"solid\"\n",
              "                }\n",
              "            },\n",
              "            \"data\": [\n",
              "                \"cryptocurrency\",\n",
              "                \"etherenum\",\n",
              "                \"dogecoin\",\n",
              "                \"binanc\",\n",
              "                \"nft\",\n",
              "                \"blockchain\",\n",
              "                \"gift\",\n",
              "                \"shop\",\n",
              "                \"altcoin\",\n",
              "                \"affiliatemarket\"\n",
              "            ]\n",
              "        }\n",
              "    ],\n",
              "    \"yAxis\": [\n",
              "        {\n",
              "            \"show\": true,\n",
              "            \"scale\": false,\n",
              "            \"nameLocation\": \"end\",\n",
              "            \"nameGap\": 15,\n",
              "            \"gridIndex\": 0,\n",
              "            \"inverse\": false,\n",
              "            \"offset\": 0,\n",
              "            \"splitNumber\": 5,\n",
              "            \"minInterval\": 0,\n",
              "            \"splitLine\": {\n",
              "                \"show\": false,\n",
              "                \"lineStyle\": {\n",
              "                    \"show\": true,\n",
              "                    \"width\": 1,\n",
              "                    \"opacity\": 1,\n",
              "                    \"curveness\": 0,\n",
              "                    \"type\": \"solid\"\n",
              "                }\n",
              "            }\n",
              "        }\n",
              "    ],\n",
              "    \"title\": [\n",
              "        {\n",
              "            \"text\": \"Top 10 Hashtags in the Tweets\",\n",
              "            \"padding\": 5,\n",
              "            \"itemGap\": 10\n",
              "        }\n",
              "    ]\n",
              "};\n",
              "                chart_45cabb202966469e9b6e9f0c2b9ea1d8.setOption(option_45cabb202966469e9b6e9f0c2b9ea1d8);\n",
              "        });\n",
              "    </script>\n"
            ]
          },
          "metadata": {},
          "execution_count": 15
        }
      ]
    },
    {
      "cell_type": "markdown",
      "source": [
        "We decides to use four of the most frequent hashtags and \"bitcoin\" as our five response variables for text classification in supervised learning. Therefore, the goal is to classify each tweet into one of the five categories using the trained model in the future sections. "
      ],
      "metadata": {
        "id": "ZNPWRTfNq_5S"
      }
    },
    {
      "cell_type": "markdown",
      "metadata": {
        "id": "_bT8bWmRPasg"
      },
      "source": [
        "##### Numerical Variables\n",
        "Performing calculation on numerical variables in the dataset, such as \"Post date\", \"user created date\", \"Number of followers\", and others. Obtaining the frequency of possible values in the samples."
      ]
    },
    {
      "cell_type": "markdown",
      "metadata": {
        "id": "WdjkoD3WPasi"
      },
      "source": [
        "Number of tweets in recent two years"
      ]
    },
    {
      "cell_type": "code",
      "source": [
        "date_count = tweets.select(\"date\").rdd.flatMap(lambda row: [(row[0], 1)]).\\\n",
        "    reduceByKey(lambda x,y: x+y).sortBy(lambda x: x[0]).collect()\n",
        "date_x, date_y = zip(*date_count)\n",
        "plt.figure(figsize=(15, 5))\n",
        "plt.plot(date_x, date_y)\n",
        "plt.title('Total tweets by Date')\n",
        "plt.xlabel('Date')\n",
        "plt.ylabel('Number of Tweets')\n",
        "plt.show()"
      ],
      "metadata": {
        "colab": {
          "base_uri": "https://localhost:8080/",
          "height": 347
        },
        "id": "ve6Sy2tooMS1",
        "outputId": "feb22efa-4f42-4603-8bc3-bf9f496157c0"
      },
      "execution_count": 22,
      "outputs": [
        {
          "output_type": "display_data",
          "data": {
            "text/plain": [
              "<Figure size 1080x360 with 1 Axes>"
            ],
            "image/png": "[encoded data removed]"
          },
          "metadata": {
            "needs_background": "light"
          }
        }
      ]
    },
    {
      "cell_type": "markdown",
      "source": [
        "We also performed the time series decomposition on the samples to check possible seasonal patterns and trends.\n",
        "\n",
        "\n"
      ],
      "metadata": {
        "id": "j8JqypRF9qpe"
      }
    },
    {
      "cell_type": "code",
      "source": [
        "import pandas as pd\n",
        "from statsmodels.tsa.seasonal import seasonal_decompose\n",
        "series = pd.DataFrame(date_count)\n",
        "result = seasonal_decompose(series[1], model='additive', freq=12)\n",
        "result.plot()\n",
        "plt.show()"
      ],
      "metadata": {
        "colab": {
          "base_uri": "https://localhost:8080/",
          "height": 297
        },
        "id": "TIKARYcV2Rg7",
        "outputId": "35001605-e7ef-46ed-9b4f-2e803c6c6434"
      },
      "execution_count": 24,
      "outputs": [
        {
          "output_type": "display_data",
          "data": {
            "text/plain": [
              "<Figure size 432x288 with 4 Axes>"
            ],
            "image/png": "[encoded data removed]"
          },
          "metadata": {
            "needs_background": "light"
          }
        }
      ]
    },
    {
      "cell_type": "markdown",
      "source": [
        "There is an increasing trend at the beginning of the plot with a very low residual. However, there is no clear pattern after 07/2021."
      ],
      "metadata": {
        "id": "wsS3C3JzABnL"
      }
    },
    {
      "cell_type": "markdown",
      "source": [
        "Account Created Date\n",
        "\n",
        "Applying Log transformation to the number of account."
      ],
      "metadata": {
        "id": "Kjilxrzq_DRm"
      }
    },
    {
      "cell_type": "code",
      "source": [
        "from numpy import log as ln\n",
        "created_count = tweets.select(\"user_created\").rdd.flatMap(lambda row: [(row[0], 1)]).\\\n",
        "reduceByKey(lambda x,y: x+y).sortBy(lambda x: x[0]).collect()\n",
        "#Convert list of tuple into two lists\n",
        "date_x, date_y = zip(*created_count )\n",
        "plt.figure(figsize=(15, 5))\n",
        "plt.plot(date_x, ln(date_y))\n",
        "plt.title('Total Account Created by Date')\n",
        "plt.xlabel('Date')\n",
        "plt.ylabel('Number of Account')\n",
        "plt.show()"
      ],
      "metadata": {
        "colab": {
          "base_uri": "https://localhost:8080/",
          "height": 350
        },
        "id": "JH2GaHEn_q1Y",
        "outputId": "9ea099aa-4fe6-4294-b967-9bf3bfa45772"
      },
      "execution_count": 31,
      "outputs": [
        {
          "output_type": "display_data",
          "data": {
            "text/plain": [
              "<Figure size 1080x360 with 1 Axes>"
            ],
            "image/png": "[encoded data removed]"
          },
          "metadata": {
            "needs_background": "light"
          }
        }
      ]
    },
    {
      "cell_type": "code",
      "source": [
        "series = pd.DataFrame(created_count)\n",
        "result = seasonal_decompose(ln(series[1]), model='additive', freq=12)\n",
        "result.plot()\n",
        "plt.show()"
      ],
      "metadata": {
        "colab": {
          "base_uri": "https://localhost:8080/",
          "height": 297
        },
        "id": "7pEUwNOFlv_X",
        "outputId": "c7228438-c3d3-4f82-b7a3-4b910825eee4"
      },
      "execution_count": 33,
      "outputs": [
        {
          "output_type": "display_data",
          "data": {
            "text/plain": [
              "<Figure size 432x288 with 4 Axes>"
            ],
            "image/png": "[encoded data removed]"
          },
          "metadata": {
            "needs_background": "light"
          }
        }
      ]
    },
    {
      "cell_type": "markdown",
      "source": [
        "There is no significant evidence in the time series decomposition to support the existence of a seasonal pattern in the samples."
      ],
      "metadata": {
        "id": "UrN1Fy-Fnu7M"
      }
    },
    {
      "cell_type": "markdown",
      "source": [
        "Number of followers of each tweet user"
      ],
      "metadata": {
        "id": "3LA2ShFyZMO9"
      }
    },
    {
      "cell_type": "code",
      "execution_count": 36,
      "metadata": {
        "colab": {
          "base_uri": "https://localhost:8080/",
          "height": 312
        },
        "id": "sSlLa0caPasj",
        "outputId": "3efb3e5f-efb9-4184-e693-1fb72586c4eb"
      },
      "outputs": [
        {
          "output_type": "display_data",
          "data": {
            "text/plain": [
              "<Figure size 432x288 with 1 Axes>"
            ],
            "image/png": "[encoded data removed]"
          },
          "metadata": {}
        }
      ],
      "source": [
        "#Get the count of number of friends for the accounts\n",
        "def checker(x):\n",
        "  if x[0] < 50:\n",
        "    return ('1',x[1])\n",
        "  elif x[0] < 100:\n",
        "    return ('2',x[1])\n",
        "  elif x[0] < 200:\n",
        "    return ('3',x[1])\n",
        "  elif x[0] < 1000:\n",
        "    return ('4',x[1])\n",
        "  else:\n",
        "    return ('5',x[1])\n",
        "friends = tweets.select(\"user_friends\").rdd.flatMap(lambda row: [(row[0], 1)])\\\n",
        "    .map(lambda x: checker(x)).reduceByKey(lambda x,y: x+y).collect()\n",
        "#Convert list of tuple into two lists\n",
        "friends_x, friends_y = zip(*friends)\n",
        "fig1, ax1 = plt.subplots()\n",
        "colors = ['#ffbaba','#ff7b7b','#ff5252','#ff0000','#a70000']\n",
        "ax1.pie(friends_y,labels=['< 50','50-100','100-200','200-1000','>1000'], \\\n",
        "        autopct='%1.1f%%', colors = colors, startangle=90, pctdistance=0.85)\n",
        "\n",
        "#draw circle\n",
        "centre_circle = plt.Circle((0,0),0.70,fc='white')\n",
        "fig = plt.gcf()\n",
        "fig.gca().add_artist(centre_circle)\n",
        "\n",
        "# Equal aspect ratio ensures that pie is drawn as a circle\n",
        "ax1.axis('equal')  \n",
        "\n",
        "plt.tight_layout()\n",
        "plt.title('Total number of followers')\n",
        "plt.show()"
      ]
    },
    {
      "cell_type": "markdown",
      "source": [
        "#### Data cleaning for text classification\n",
        "After data analysis, we found that some variables can be cleaned into a more suitable format for machine learning. For example, the response variables \"hashtag\" can be eliminated into five categories. And the variable \"sources\" is a categorical variable with four levels. We converted it into indicator variables.\n"
      ],
      "metadata": {
        "id": "FZd8dGAwiRX_"
      }
    },
    {
      "cell_type": "code",
      "source": [
        "from pyspark.sql.functions import when\n",
        "from pyspark.sql.functions import monotonically_increasing_id\n",
        "from pyspark.sql.functions import udf\n",
        "from pyspark.sql.functions import year,month\n",
        "from pyspark.sql import functions as F\n",
        "\n",
        "# Cleaning response variables\n",
        "tweet_ml = tweets.withColumn('hashtags', when(tweets.hashtags.contains(\"dog\"),'Dogecoin').\\\n",
        "                              when(tweets.hashtags.contains(\"eth\"),'Etherenum').\\\n",
        "                              when(tweets.hashtags.contains(\"bnb\"),\"binance\").\\\n",
        "                              when(tweets.hashtags.contains(\"bin\"),\"binance\").\\\n",
        "                              when(tweets.hashtags.contains(\"crypto\"),'Cryptocurrency').\\\n",
        "                              when(tweets.hashtags.contains(\"btc\"),'Bitcoin').\\\n",
        "                              otherwise('other'))\n",
        "\n",
        "# Assigning unique_id to each row\n",
        "unique_id = monotonically_increasing_id()\n",
        "tweet_ml = tweet_ml.select(\"*\").withColumn(\"id\", unique_id)\n",
        "\n",
        "# Cleaning locations\n",
        "import pycountry\n",
        "def get_country(x):\n",
        "  for country in pycountry.countries:\n",
        "    if country.name in x:\n",
        "      return country.name\n",
        "  return \"others\"\n",
        "get_countryudf = udf(lambda z: get_country(z))\n",
        "\n",
        "#Creating indicator variables for categorical variables data\n",
        "tweet_ml = tweet_ml.na.drop().withColumn(\"user_location\", get_countryudf(\"user_location\"))\\\n",
        ".withColumn('user_verified', when(tweets.user_verified.contains(\"True\"),1).otherwise(0))\\\n",
        ".withColumn(\"source_Iphone\", when(tweets.source.contains(\"iPhone\"),1).otherwise(0))\\\n",
        ".withColumn(\"source_Web\", when(tweets.source.contains(\"Web\"),1).otherwise(0))\\\n",
        ".withColumn(\"source_Android\", when(tweets.source.contains(\"Android\"),1).otherwise(0))\\\n",
        ".withColumn(\"post_year\",year(tweet_ml.date))\\\n",
        ".withColumn(\"post_month\",month(tweet_ml.date))\\\n",
        ".withColumn(\"created_year\",year(tweet_ml.user_created))\\\n",
        ".withColumn(\"created_month\",month(tweet_ml.user_created)).drop('is_retweet','user_name',\"user_created\",\"date\",\"source\")\n",
        "\n",
        "tweet_ml.show(10)"
      ],
      "metadata": {
        "colab": {
          "base_uri": "https://localhost:8080/"
        },
        "id": "x4KnIw_VjN6s",
        "outputId": "65309165-1d5e-43a8-b0b1-8373afd1918a"
      },
      "execution_count": 37,
      "outputs": [
        {
          "output_type": "stream",
          "name": "stdout",
          "text": [
            "+-------------+--------------------+--------------+------------+---------------+-------------+--------------------+--------------+---+-------------+----------+--------------+---------+----------+------------+-------------+\n",
            "|user_location|    user_description|user_followers|user_friends|user_favourites|user_verified|                text|      hashtags| id|source_Iphone|source_Web|source_Android|post_year|post_month|created_year|created_month|\n",
            "+-------------+--------------------+--------------+------------+---------------+-------------+--------------------+--------------+---+-------------+----------+--------------+---------+----------+------------+-------------+\n",
            "|       others|Biz Consultant, r...|          8534|        7605|           4838|            0|Blue Ridge Bank s...|         other|  0|            0|         1|             0|     2021|         2|        2009|            4|\n",
            "|       others|Biz Consultant, r...|          8534|        7605|           4838|            0|.@Tesla’s #bitcoi...|Cryptocurrency|  1|            0|         1|             0|     2021|         2|        2009|            4|\n",
            "|       others|Persistent. to th...|          1159|        2185|          30852|            0|Annnd #btc #Bitco...|       Bitcoin|  2|            0|         1|             0|     2021|         2|        2009|            1|\n",
            "|       others|            #Bitcoin|             4|          32|            139|            0|Buy #Bitcoin with...|Cryptocurrency|  3|            0|         1|             0|     2021|         2|        2010|            7|\n",
            "|       others|Biz Consultant, r...|          8534|        7605|           4838|            0|#Bitcoin institut...|Cryptocurrency|  4|            0|         1|             0|     2021|         2|        2009|            4|\n",
            "|       others|CEO & PRESIDENT S...|            62|         288|           2656|            0|#Bitcoin #BTC #AD...|         other|  5|            1|         0|             0|     2021|         2|        2009|            6|\n",
            "|       others|Biz Consultant, r...|          8534|        7605|           4838|            0|After @Tesla: @Tw...|         other|  6|            0|         1|             0|     2021|         2|        2009|            4|\n",
            "|     Portugal|#bitcoin Entrepre...|           872|         158|           1080|            0|#BTC/USD 4H. #Bit...|         other|  7|            0|         0|             0|     2021|         2|        2020|            9|\n",
            "|       others|Biz Consultant, r...|          8534|        7605|           4838|            0|The @Grayscale #B...|         other|  8|            0|         1|             0|     2021|         2|        2009|            4|\n",
            "|       others|One bet every day...|          2019|         104|             71|            0|We accept #Bitcoi...|      Dogecoin|  9|            0|         1|             0|     2021|         2|        2014|           12|\n",
            "+-------------+--------------------+--------------+------------+---------------+-------------+--------------------+--------------+---+-------------+----------+--------------+---------+----------+------------+-------------+\n",
            "only showing top 10 rows\n",
            "\n"
          ]
        }
      ]
    },
    {
      "cell_type": "markdown",
      "source": [
        "#### Nature Language Processing on user descriptions and tweets: Tokens\n",
        "The user descriptions and tweets can be considered natural human language. They both share some same characteristics: long sentences, emojis, and containing some unwanted symbols.\n",
        "\n",
        "To analyze these two variables, we first convert all texts into bags of words, including stemming, converting to lowercase, and deleting all possible stopwords.\n",
        "\n",
        "Then we calculate the Frequency for each words and selected the highest 20 words to be included in our text classification model.\n"
      ],
      "metadata": {
        "id": "Bcwia5M6etY8"
      }
    },
    {
      "cell_type": "code",
      "execution_count": 38,
      "metadata": {
        "id": "SqzNPuzKtv6q"
      },
      "outputs": [],
      "source": [
        "from simple_tokenize import simple_tokenize\n",
        "from nltk.stem import PorterStemmer\n",
        "import re\n",
        "# Top 20 words\n",
        "n = 20\n",
        "#Take the text\n",
        "tweets_text = tweet_ml.select(\"text\")\n",
        "#Take the user description\n",
        "tweets_ud = tweet_ml.select(\"user_description\")\n",
        "# Stemming using Porter Stemmer\n",
        "st = PorterStemmer()\n",
        "#stop words\n",
        "with open('CS431FP/CommonEnglishWord.txt') as f:\n",
        "  lines = f.readlines()\n",
        "  lst = list(map(lambda x: x[0:len(x)-1].lower(),lines))\n",
        "  lst.append('')\n",
        "  lst.append('-')\n",
        "  lst.append(\"it's\")\n",
        "  lst.append(\"going\")\n",
        "  lst.append(\"it’s\")\n",
        "  lst.append(\"via\")\n",
        "  lst.append(\"|\")\n",
        "  lst.append(\"&\")\n",
        "  lst.append(\"/\")\n",
        "  lst.append('•')\n",
        "  lst.append('http')\n",
        "# Remove emoji since it beyonds the scope of this scope\n",
        "def deEmojify(text):\n",
        "    regrex_pattern = re.compile(pattern = \"[\"\n",
        "        u\"\\U0001F600-\\U0001F64F\"  # emoticons\n",
        "        u\"\\U0001F300-\\U0001F5FF\"  # symbols & pictographs\n",
        "        u\"\\U0001F680-\\U0001F6FF\"  # transport & map symbols\n",
        "        u\"\\U0001F1E0-\\U0001F1FF\"  # flags (iOS)\n",
        "                           \"]+\", flags = re.UNICODE)\n",
        "    return regrex_pattern.sub(r'',text)\n",
        "# Bag of words, stemming, lowercase, stop words\n",
        "rddtext = tweets_text.rdd.flatMap(lambda x: simple_tokenize(deEmojify(x[0]))).\\\n",
        "  map(lambda x: st.stem(x)).filter(lambda x: x not in lst).filter(lambda x: len(x) > 1).\\\n",
        "  map(lambda x: (x.lower(),1)).reduceByKey(lambda x,y: x+y).sortBy(lambda x: x[1],ascending=False).cache()"
      ]
    },
    {
      "cell_type": "markdown",
      "source": [
        "Then we created variables for each of top 20 words. The value indicate the Term Frequency of each words in current text. The following table shows the resulted variables of first ten samples."
      ],
      "metadata": {
        "id": "epbsIQru1SNx"
      }
    },
    {
      "cell_type": "code",
      "source": [
        "# Calculate the frequency and return the result as tuple\n",
        "def calcfreq(t):\n",
        "  wordtup = t[1]\n",
        "  wordlist = []\n",
        "  tweet = t[0].lower()\n",
        "  for i in wordtup:\n",
        "    wordlist.append(list(i))\n",
        "  for i in wordlist:\n",
        "    if i[0] in tweet:\n",
        "      i[1] += 1\n",
        "  result = [t[0]]\n",
        "  for i in wordlist:\n",
        "    result.append(i[1])\n",
        "  return tuple(result)\n",
        "  \n",
        "reinit_list = rddtext.map(lambda x: (x[0], 0)).take(n)\n",
        "most_frequent_tweet = rddtext.take(n)\n",
        "words, freq = zip(*most_frequent_tweet)\n",
        "words = list(words)\n",
        "words.insert(0,'text')\n",
        "reinit_rdd = tweets_text.rdd.map(lambda x:x[0]).map(lambda x: (x, reinit_list))\n",
        "calc = reinit_rdd.map(lambda x: calcfreq(x))\n",
        "table_tweet = calc.toDF(words)\n",
        "table_tweet.show(10)"
      ],
      "metadata": {
        "colab": {
          "base_uri": "https://localhost:8080/"
        },
        "id": "PJyUmbfMrNzb",
        "outputId": "d4d296db-3deb-45fa-94c7-0958388b0cff"
      },
      "execution_count": 39,
      "outputs": [
        {
          "output_type": "stream",
          "name": "stdout",
          "text": [
            "+--------------------+-------+---+---+------+---+----------+---+--------+-----+---+------+----------+--------+---+----+---+---+------+-------+----+\n",
            "|                text|bitcoin| co|btc|crypto|thi|cryptocurr|eth|ethereum|price|nft|binanc|blockchain|dogecoin| ha|gift|amp| wa|invest|altcoin|doge|\n",
            "+--------------------+-------+---+---+------+---+----------+---+--------+-----+---+------+----------+--------+---+----+---+---+------+-------+----+\n",
            "|Blue Ridge Bank s...|      1|  1|  0|     0|  0|         0|  0|       0|    0|  0|     0|         0|       0|  1|   0|  0|  0|     0|      0|   0|\n",
            "|.@Tesla’s #bitcoi...|      1|  1|  0|     1|  0|         0|  0|       0|    0|  0|     0|         0|       0|  0|   0|  0|  0|     1|      0|   0|\n",
            "|Annnd #btc #Bitco...|      1|  1|  1|     0|  0|         0|  0|       0|    0|  0|     0|         0|       0|  1|   0|  0|  0|     0|      0|   0|\n",
            "|Buy #Bitcoin with...|      1|  1|  0|     1|  0|         1|  0|       0|    0|  0|     0|         0|       0|  1|   0|  0|  0|     0|      0|   0|\n",
            "|#Bitcoin institut...|      1|  1|  1|     1|  0|         1|  0|       0|    0|  0|     0|         0|       0|  0|   0|  0|  1|     0|      0|   0|\n",
            "|#Bitcoin #BTC #AD...|      1|  1|  1|     1|  1|         0|  0|       0|    0|  0|     0|         0|       0|  1|   0|  0|  0|     0|      0|   0|\n",
            "|After @Tesla: @Tw...|      1|  1|  0|     0|  0|         0|  0|       0|    0|  0|     0|         0|       0|  0|   0|  0|  0|     0|      0|   0|\n",
            "|#BTC/USD 4H. #Bit...|      1|  1|  1|     0|  0|         0|  0|       0|    0|  0|     0|         0|       0|  0|   0|  0|  0|     0|      0|   0|\n",
            "|The @Grayscale #B...|      1|  1|  1|     0|  0|         0|  0|       0|    0|  0|     0|         0|       0|  1|   0|  0|  0|     0|      0|   0|\n",
            "|We accept #Bitcoi...|      1|  1|  0|     0|  0|         0|  1|       1|    0|  0|     0|         0|       1|  0|   0|  0|  0|     0|      0|   1|\n",
            "+--------------------+-------+---+---+------+---+----------+---+--------+-----+---+------+----------+--------+---+----+---+---+------+-------+----+\n",
            "only showing top 10 rows\n",
            "\n"
          ]
        }
      ]
    },
    {
      "cell_type": "markdown",
      "source": [
        "The follow plot shows the frequency distribution of top 20 words"
      ],
      "metadata": {
        "id": "lTCS17K0NsKu"
      }
    },
    {
      "cell_type": "code",
      "source": [
        "x_t,y_t = zip(*most_frequent_tweet)\n",
        "bar = (\n",
        " Bar(init_opts=opts.InitOpts())\n",
        " .add_xaxis(x_t)\n",
        " .add_yaxis(\"Frequency\",y_t)\n",
        " .set_global_opts(title_opts=opts.TitleOpts(title=\"Top 20 words in the Tweets\"))\n",
        ")\n",
        "bar.render_notebook()"
      ],
      "metadata": {
        "colab": {
          "base_uri": "https://localhost:8080/",
          "height": 537
        },
        "id": "UV9whfieN68p",
        "outputId": "62bcce9f-89d8-47af-cc36-1ad17d4a3139"
      },
      "execution_count": 40,
      "outputs": [
        {
          "output_type": "execute_result",
          "data": {
            "text/plain": [
              "<pyecharts.render.display.HTML at 0x7f06417cd510>"
            ],
            "text/html": [
              "\n",
              "<script>\n",
              "    require.config({\n",
              "        paths: {\n",
              "            'echarts':'https://assets.pyecharts.org/assets/echarts.min'\n",
              "        }\n",
              "    });\n",
              "</script>\n",
              "\n",
              "        <div id=\"200751961631469e8c986ee840392b32\" style=\"width:900px; height:500px;\"></div>\n",
              "\n",
              "<script>\n",
              "        require(['echarts'], function(echarts) {\n",
              "                var chart_200751961631469e8c986ee840392b32 = echarts.init(\n",
              "                    document.getElementById('200751961631469e8c986ee840392b32'), 'white', {renderer: 'canvas'});\n",
              "                var option_200751961631469e8c986ee840392b32 = {\n",
              "    \"animation\": true,\n",
              "    \"animationThreshold\": 2000,\n",
              "    \"animationDuration\": 1000,\n",
              "    \"animationEasing\": \"cubicOut\",\n",
              "    \"animationDelay\": 0,\n",
              "    \"animationDurationUpdate\": 300,\n",
              "    \"animationEasingUpdate\": \"cubicOut\",\n",
              "    \"animationDelayUpdate\": 0,\n",
              "    \"color\": [\n",
              "        \"#c23531\",\n",
              "        \"#2f4554\",\n",
              "        \"#61a0a8\",\n",
              "        \"#d48265\",\n",
              "        \"#749f83\",\n",
              "        \"#ca8622\",\n",
              "        \"#bda29a\",\n",
              "        \"#6e7074\",\n",
              "        \"#546570\",\n",
              "        \"#c4ccd3\",\n",
              "        \"#f05b72\",\n",
              "        \"#ef5b9c\",\n",
              "        \"#f47920\",\n",
              "        \"#905a3d\",\n",
              "        \"#fab27b\",\n",
              "        \"#2a5caa\",\n",
              "        \"#444693\",\n",
              "        \"#726930\",\n",
              "        \"#b2d235\",\n",
              "        \"#6d8346\",\n",
              "        \"#ac6767\",\n",
              "        \"#1d953f\",\n",
              "        \"#6950a1\",\n",
              "        \"#918597\"\n",
              "    ],\n",
              "    \"series\": [\n",
              "        {\n",
              "            \"type\": \"bar\",\n",
              "            \"name\": \"Frequency\",\n",
              "            \"legendHoverLink\": true,\n",
              "            \"data\": [\n",
              "                442749,\n",
              "                326597,\n",
              "                228976,\n",
              "                104846,\n",
              "                71983,\n",
              "                68579,\n",
              "                44451,\n",
              "                36081,\n",
              "                33958,\n",
              "                28528,\n",
              "                26239,\n",
              "                25499,\n",
              "                22375,\n",
              "                20703,\n",
              "                19922,\n",
              "                18472,\n",
              "                18026,\n",
              "                17181,\n",
              "                16820,\n",
              "                16101\n",
              "            ],\n",
              "            \"showBackground\": false,\n",
              "            \"barMinHeight\": 0,\n",
              "            \"barCategoryGap\": \"20%\",\n",
              "            \"barGap\": \"30%\",\n",
              "            \"large\": false,\n",
              "            \"largeThreshold\": 400,\n",
              "            \"seriesLayoutBy\": \"column\",\n",
              "            \"datasetIndex\": 0,\n",
              "            \"clip\": true,\n",
              "            \"zlevel\": 0,\n",
              "            \"z\": 2,\n",
              "            \"label\": {\n",
              "                \"show\": true,\n",
              "                \"position\": \"top\",\n",
              "                \"margin\": 8\n",
              "            }\n",
              "        }\n",
              "    ],\n",
              "    \"legend\": [\n",
              "        {\n",
              "            \"data\": [\n",
              "                \"Frequency\"\n",
              "            ],\n",
              "            \"selected\": {\n",
              "                \"Frequency\": true\n",
              "            },\n",
              "            \"show\": true,\n",
              "            \"padding\": 5,\n",
              "            \"itemGap\": 10,\n",
              "            \"itemWidth\": 25,\n",
              "            \"itemHeight\": 14\n",
              "        }\n",
              "    ],\n",
              "    \"tooltip\": {\n",
              "        \"show\": true,\n",
              "        \"trigger\": \"item\",\n",
              "        \"triggerOn\": \"mousemove|click\",\n",
              "        \"axisPointer\": {\n",
              "            \"type\": \"line\"\n",
              "        },\n",
              "        \"showContent\": true,\n",
              "        \"alwaysShowContent\": false,\n",
              "        \"showDelay\": 0,\n",
              "        \"hideDelay\": 100,\n",
              "        \"textStyle\": {\n",
              "            \"fontSize\": 14\n",
              "        },\n",
              "        \"borderWidth\": 0,\n",
              "        \"padding\": 5\n",
              "    },\n",
              "    \"xAxis\": [\n",
              "        {\n",
              "            \"show\": true,\n",
              "            \"scale\": false,\n",
              "            \"nameLocation\": \"end\",\n",
              "            \"nameGap\": 15,\n",
              "            \"gridIndex\": 0,\n",
              "            \"inverse\": false,\n",
              "            \"offset\": 0,\n",
              "            \"splitNumber\": 5,\n",
              "            \"minInterval\": 0,\n",
              "            \"splitLine\": {\n",
              "                \"show\": false,\n",
              "                \"lineStyle\": {\n",
              "                    \"show\": true,\n",
              "                    \"width\": 1,\n",
              "                    \"opacity\": 1,\n",
              "                    \"curveness\": 0,\n",
              "                    \"type\": \"solid\"\n",
              "                }\n",
              "            },\n",
              "            \"data\": [\n",
              "                \"bitcoin\",\n",
              "                \"co\",\n",
              "                \"btc\",\n",
              "                \"crypto\",\n",
              "                \"thi\",\n",
              "                \"cryptocurr\",\n",
              "                \"eth\",\n",
              "                \"ethereum\",\n",
              "                \"price\",\n",
              "                \"nft\",\n",
              "                \"binanc\",\n",
              "                \"blockchain\",\n",
              "                \"dogecoin\",\n",
              "                \"ha\",\n",
              "                \"gift\",\n",
              "                \"amp\",\n",
              "                \"wa\",\n",
              "                \"invest\",\n",
              "                \"altcoin\",\n",
              "                \"doge\"\n",
              "            ]\n",
              "        }\n",
              "    ],\n",
              "    \"yAxis\": [\n",
              "        {\n",
              "            \"show\": true,\n",
              "            \"scale\": false,\n",
              "            \"nameLocation\": \"end\",\n",
              "            \"nameGap\": 15,\n",
              "            \"gridIndex\": 0,\n",
              "            \"inverse\": false,\n",
              "            \"offset\": 0,\n",
              "            \"splitNumber\": 5,\n",
              "            \"minInterval\": 0,\n",
              "            \"splitLine\": {\n",
              "                \"show\": false,\n",
              "                \"lineStyle\": {\n",
              "                    \"show\": true,\n",
              "                    \"width\": 1,\n",
              "                    \"opacity\": 1,\n",
              "                    \"curveness\": 0,\n",
              "                    \"type\": \"solid\"\n",
              "                }\n",
              "            }\n",
              "        }\n",
              "    ],\n",
              "    \"title\": [\n",
              "        {\n",
              "            \"text\": \"Top 20 words in the Tweets\",\n",
              "            \"padding\": 5,\n",
              "            \"itemGap\": 10\n",
              "        }\n",
              "    ]\n",
              "};\n",
              "                chart_200751961631469e8c986ee840392b32.setOption(option_200751961631469e8c986ee840392b32);\n",
              "        });\n",
              "    </script>\n"
            ]
          },
          "metadata": {},
          "execution_count": 40
        }
      ]
    },
    {
      "cell_type": "code",
      "source": [
        "table_tweet = table_tweet.select(\"*\").withColumn(\"idtweet\", unique_id)\n",
        "tweet_ml = tweet_ml.join(table_tweet,tweet_ml.id == table_tweet.idtweet,'inner').drop('text','_1','idtweet')"
      ],
      "metadata": {
        "id": "tDPOIHBj77c8"
      },
      "execution_count": 41,
      "outputs": []
    },
    {
      "cell_type": "markdown",
      "source": [
        "Similiar preparation and variable creations for variable \"user description\""
      ],
      "metadata": {
        "id": "yb1iDhMc51Mr"
      }
    },
    {
      "cell_type": "code",
      "source": [
        "udrdd = tweets_ud.rdd.flatMap(lambda x: simple_tokenize(deEmojify(x[0]))).\\\n",
        "  map(lambda x: st.stem(x)).filter(lambda x: x not in lst).filter(lambda x: len(x) > 1).\\\n",
        "  map(lambda x: (x.lower(),1)).reduceByKey(lambda x,y: x+y).sortBy(lambda x: x[1],ascending=False).cache()\n",
        "reinit_udlist = udrdd.map(lambda x: (x[0],0)).take(n)\n",
        "most_frequent_ud = udrdd.take(n)\n",
        "words, freq = zip(*most_frequent_ud)\n",
        "words = list(words)\n",
        "words.insert(0,'text')\n",
        "reinit_udrdd = tweets_ud.rdd.map(lambda x:x[0]).map(lambda x: (x, reinit_udlist))\n",
        "calcud = reinit_udrdd.map(lambda x: calcfreq(x))\n",
        "table_ud = calcud.toDF(words)\n",
        "table_ud = table_ud.select(\"*\").withColumn(\"idud\", unique_id)\n",
        "table_ud = table_ud.select([F.col(c).alias(\"ud\"+c) for c in table_ud.columns])\n",
        "tweet_ml = tweet_ml.join(table_ud,tweet_ml.id == table_ud.udidud,'inner').drop('udtext','ud_1','udidud').cache()"
      ],
      "metadata": {
        "id": "YkLqz6TMp6Jm"
      },
      "execution_count": 43,
      "outputs": []
    },
    {
      "cell_type": "code",
      "source": [
        "x_t,y_t = zip(*most_frequent_ud)\n",
        "bar = (\n",
        " Bar(init_opts=opts.InitOpts())\n",
        " .add_xaxis(x_t)\n",
        " .add_yaxis(\"Frequency\",y_t)\n",
        " .set_global_opts(title_opts=opts.TitleOpts(title=\"Top 20 words in the User Descriptions\"))\n",
        ")\n",
        "bar.render_notebook()"
      ],
      "metadata": {
        "colab": {
          "base_uri": "https://localhost:8080/",
          "height": 537
        },
        "id": "uRSscJ6_urst",
        "outputId": "5dee1439-2f04-4691-8f22-4446db545a51"
      },
      "execution_count": 44,
      "outputs": [
        {
          "output_type": "execute_result",
          "data": {
            "text/plain": [
              "<pyecharts.render.display.HTML at 0x7f0641a82050>"
            ],
            "text/html": [
              "\n",
              "<script>\n",
              "    require.config({\n",
              "        paths: {\n",
              "            'echarts':'https://assets.pyecharts.org/assets/echarts.min'\n",
              "        }\n",
              "    });\n",
              "</script>\n",
              "\n",
              "        <div id=\"8567f28b86734ab18968278ff39b4ff6\" style=\"width:900px; height:500px;\"></div>\n",
              "\n",
              "<script>\n",
              "        require(['echarts'], function(echarts) {\n",
              "                var chart_8567f28b86734ab18968278ff39b4ff6 = echarts.init(\n",
              "                    document.getElementById('8567f28b86734ab18968278ff39b4ff6'), 'white', {renderer: 'canvas'});\n",
              "                var option_8567f28b86734ab18968278ff39b4ff6 = {\n",
              "    \"animation\": true,\n",
              "    \"animationThreshold\": 2000,\n",
              "    \"animationDuration\": 1000,\n",
              "    \"animationEasing\": \"cubicOut\",\n",
              "    \"animationDelay\": 0,\n",
              "    \"animationDurationUpdate\": 300,\n",
              "    \"animationEasingUpdate\": \"cubicOut\",\n",
              "    \"animationDelayUpdate\": 0,\n",
              "    \"color\": [\n",
              "        \"#c23531\",\n",
              "        \"#2f4554\",\n",
              "        \"#61a0a8\",\n",
              "        \"#d48265\",\n",
              "        \"#749f83\",\n",
              "        \"#ca8622\",\n",
              "        \"#bda29a\",\n",
              "        \"#6e7074\",\n",
              "        \"#546570\",\n",
              "        \"#c4ccd3\",\n",
              "        \"#f05b72\",\n",
              "        \"#ef5b9c\",\n",
              "        \"#f47920\",\n",
              "        \"#905a3d\",\n",
              "        \"#fab27b\",\n",
              "        \"#2a5caa\",\n",
              "        \"#444693\",\n",
              "        \"#726930\",\n",
              "        \"#b2d235\",\n",
              "        \"#6d8346\",\n",
              "        \"#ac6767\",\n",
              "        \"#1d953f\",\n",
              "        \"#6950a1\",\n",
              "        \"#918597\"\n",
              "    ],\n",
              "    \"series\": [\n",
              "        {\n",
              "            \"type\": \"bar\",\n",
              "            \"name\": \"Frequency\",\n",
              "            \"legendHoverLink\": true,\n",
              "            \"data\": [\n",
              "                210136,\n",
              "                129333,\n",
              "                78451,\n",
              "                59091,\n",
              "                58586,\n",
              "                50059,\n",
              "                43675,\n",
              "                42968,\n",
              "                34820,\n",
              "                32164,\n",
              "                31355,\n",
              "                27193,\n",
              "                24923,\n",
              "                24729,\n",
              "                21688,\n",
              "                21052,\n",
              "                20221,\n",
              "                19947,\n",
              "                18904,\n",
              "                17492\n",
              "            ],\n",
              "            \"showBackground\": false,\n",
              "            \"barMinHeight\": 0,\n",
              "            \"barCategoryGap\": \"20%\",\n",
              "            \"barGap\": \"30%\",\n",
              "            \"large\": false,\n",
              "            \"largeThreshold\": 400,\n",
              "            \"seriesLayoutBy\": \"column\",\n",
              "            \"datasetIndex\": 0,\n",
              "            \"clip\": true,\n",
              "            \"zlevel\": 0,\n",
              "            \"z\": 2,\n",
              "            \"label\": {\n",
              "                \"show\": true,\n",
              "                \"position\": \"top\",\n",
              "                \"margin\": 8\n",
              "            }\n",
              "        }\n",
              "    ],\n",
              "    \"legend\": [\n",
              "        {\n",
              "            \"data\": [\n",
              "                \"Frequency\"\n",
              "            ],\n",
              "            \"selected\": {\n",
              "                \"Frequency\": true\n",
              "            },\n",
              "            \"show\": true,\n",
              "            \"padding\": 5,\n",
              "            \"itemGap\": 10,\n",
              "            \"itemWidth\": 25,\n",
              "            \"itemHeight\": 14\n",
              "        }\n",
              "    ],\n",
              "    \"tooltip\": {\n",
              "        \"show\": true,\n",
              "        \"trigger\": \"item\",\n",
              "        \"triggerOn\": \"mousemove|click\",\n",
              "        \"axisPointer\": {\n",
              "            \"type\": \"line\"\n",
              "        },\n",
              "        \"showContent\": true,\n",
              "        \"alwaysShowContent\": false,\n",
              "        \"showDelay\": 0,\n",
              "        \"hideDelay\": 100,\n",
              "        \"textStyle\": {\n",
              "            \"fontSize\": 14\n",
              "        },\n",
              "        \"borderWidth\": 0,\n",
              "        \"padding\": 5\n",
              "    },\n",
              "    \"xAxis\": [\n",
              "        {\n",
              "            \"show\": true,\n",
              "            \"scale\": false,\n",
              "            \"nameLocation\": \"end\",\n",
              "            \"nameGap\": 15,\n",
              "            \"gridIndex\": 0,\n",
              "            \"inverse\": false,\n",
              "            \"offset\": 0,\n",
              "            \"splitNumber\": 5,\n",
              "            \"minInterval\": 0,\n",
              "            \"splitLine\": {\n",
              "                \"show\": false,\n",
              "                \"lineStyle\": {\n",
              "                    \"show\": true,\n",
              "                    \"width\": 1,\n",
              "                    \"opacity\": 1,\n",
              "                    \"curveness\": 0,\n",
              "                    \"type\": \"solid\"\n",
              "                }\n",
              "            },\n",
              "            \"data\": [\n",
              "                \"bitcoin\",\n",
              "                \"crypto\",\n",
              "                \"co\",\n",
              "                \"btc\",\n",
              "                \"cryptocurr\",\n",
              "                \"blockchain\",\n",
              "                \"financi\",\n",
              "                \"news\",\n",
              "                \"eth\",\n",
              "                \"advic\",\n",
              "                \"investor\",\n",
              "                \"trader\",\n",
              "                \"tweet\",\n",
              "                \"nft\",\n",
              "                \"busi\",\n",
              "                \"ethereum\",\n",
              "                \"enthusiast\",\n",
              "                \"invest\",\n",
              "                \"latest\",\n",
              "                \"doge\"\n",
              "            ]\n",
              "        }\n",
              "    ],\n",
              "    \"yAxis\": [\n",
              "        {\n",
              "            \"show\": true,\n",
              "            \"scale\": false,\n",
              "            \"nameLocation\": \"end\",\n",
              "            \"nameGap\": 15,\n",
              "            \"gridIndex\": 0,\n",
              "            \"inverse\": false,\n",
              "            \"offset\": 0,\n",
              "            \"splitNumber\": 5,\n",
              "            \"minInterval\": 0,\n",
              "            \"splitLine\": {\n",
              "                \"show\": false,\n",
              "                \"lineStyle\": {\n",
              "                    \"show\": true,\n",
              "                    \"width\": 1,\n",
              "                    \"opacity\": 1,\n",
              "                    \"curveness\": 0,\n",
              "                    \"type\": \"solid\"\n",
              "                }\n",
              "            }\n",
              "        }\n",
              "    ],\n",
              "    \"title\": [\n",
              "        {\n",
              "            \"text\": \"Top 20 words in the User Descriptions\",\n",
              "            \"padding\": 5,\n",
              "            \"itemGap\": 10\n",
              "        }\n",
              "    ]\n",
              "};\n",
              "                chart_8567f28b86734ab18968278ff39b4ff6.setOption(option_8567f28b86734ab18968278ff39b4ff6);\n",
              "        });\n",
              "    </script>\n"
            ]
          },
          "metadata": {},
          "execution_count": 44
        }
      ]
    },
    {
      "cell_type": "markdown",
      "source": [
        "Here is the first ten samples after natural language processing"
      ],
      "metadata": {
        "id": "zGrTJZ5-R6wR"
      }
    },
    {
      "cell_type": "code",
      "source": [
        "tweet_ml = tweet_ml.drop('user_description')\n",
        "tweet_ml.show(10)"
      ],
      "metadata": {
        "colab": {
          "base_uri": "https://localhost:8080/"
        },
        "id": "cy5vHAtUSA3i",
        "outputId": "e9dbdd6a-c937-4e1b-b624-07f095a6f377"
      },
      "execution_count": 146,
      "outputs": [
        {
          "output_type": "stream",
          "name": "stdout",
          "text": [
            "+-------------+--------------+------------+---------------+-------------+--------+-------------+----------+--------------+---------+----------+------------+-------------+-------+---+---+------+---+----------+---+--------+-----+---+------+----------+--------+---+----+---+---+------+-------+----+---------+--------+----+-----+------------+------------+---------+------+-----+-------+----------+--------+-------+-----+------+----------+------------+--------+--------+------+\n",
            "|user_location|user_followers|user_friends|user_favourites|user_verified|hashtags|source_Iphone|source_Web|source_Android|post_year|post_month|created_year|created_month|bitcoin| co|btc|crypto|thi|cryptocurr|eth|ethereum|price|nft|binanc|blockchain|dogecoin| ha|gift|amp| wa|invest|altcoin|doge|udbitcoin|udcrypto|udco|udbtc|udcryptocurr|udblockchain|udfinanci|udnews|udeth|udadvic|udinvestor|udtrader|udtweet|udnft|udbusi|udethereum|udenthusiast|udinvest|udlatest|uddoge|\n",
            "+-------------+--------------+------------+---------------+-------------+--------+-------------+----------+--------------+---------+----------+------------+-------------+-------+---+---+------+---+----------+---+--------+-----+---+------+----------+--------+---+----+---+---+------+-------+----+---------+--------+----+-----+------------+------------+---------+------+-----+-------+----------+--------+-------+-----+------+----------+------------+--------+--------+------+\n",
            "|       others|             8|           0|             49|            0|Dogecoin|            1|         0|             0|     2021|         2|        2019|           10|      1|  1|  1|     0|  0|         0|  1|       1|    0|  0|     0|         0|       1|  1|   0|  0|  0|     0|      0|   1|        0|       0|   0|    1|           0|           0|        0|     0|    1|      0|         0|       0|      1|    0|     0|         0|           0|       0|       0|     0|\n",
            "|       others|            94|         189|            753|            0|   other|            1|         0|             0|     2021|         2|        2020|            6|      0|  1|  1|     0|  1|         0|  0|       0|    0|  0|     0|         0|       0|  1|   0|  0|  1|     1|      0|   0|        1|       0|   1|    0|           0|           0|        0|     0|    0|      0|         0|       0|      0|    0|     0|         0|           0|       0|       0|     1|\n",
            "|       others|          5366|         927|          34484|            0|   other|            1|         0|             0|     2021|         2|        2010|            3|      1|  1|  1|     0|  0|         0|  0|       0|    0|  0|     1|         0|       0|  0|   0|  0|  0|     0|      0|   0|        1|       0|   1|    0|           0|           0|        1|     0|    0|      0|         1|       1|      0|    0|     0|         0|           0|       1|       0|     0|\n",
            "|United States|            68|          84|            427|            0|   other|            1|         0|             0|     2021|         2|        2018|            8|      1|  1|  0|     0|  0|         0|  0|       0|    0|  0|     0|         0|       0|  0|   0|  0|  1|     0|      0|   0|        0|       0|   0|    0|           0|           0|        0|     0|    1|      0|         0|       0|      0|    0|     0|         0|           0|       0|       0|     0|\n",
            "|       others|           275|         789|           3654|            0|   other|            1|         0|             0|     2021|         2|        2019|            6|      1|  1|  0|     0|  0|         0|  0|       0|    0|  0|     0|         0|       0|  0|   0|  0|  0|     0|      0|   0|        1|       1|   1|    1|           1|           0|        0|     0|    0|      0|         0|       0|      0|    0|     0|         0|           0|       0|       0|     0|\n",
            "|       others|            82|          81|           1419|            0| Bitcoin|            1|         0|             0|     2021|         2|        2009|            3|      0|  1|  1|     0|  1|         0|  0|       0|    0|  0|     0|         0|       0|  0|   0|  0|  0|     0|      0|   0|        0|       0|   0|    0|           0|           0|        0|     0|    0|      0|         0|       0|      0|    0|     0|         0|           0|       1|       0|     0|\n",
            "|       others|        184610|         345|           3626|            1| Bitcoin|            0|         0|             0|     2021|         2|        2017|            8|      1|  1|  1|     0|  0|         0|  0|       0|    0|  0|     0|         0|       0|  1|   0|  0|  0|     0|      0|   0|        0|       0|   0|    0|           0|           1|        0|     1|    0|      0|         0|       0|      0|    0|     0|         0|           0|       0|       0|     0|\n",
            "|       others|           515|          32|            324|            0|   other|            0|         0|             0|     2021|         2|        2019|            4|      1|  1|  1|     0|  0|         0|  0|       0|    0|  0|     0|         0|       1|  0|   0|  0|  0|     0|      0|   1|        0|       1|   0|    0|           0|           1|        0|     1|    0|      0|         0|       0|      0|    0|     0|         0|           0|       0|       1|     0|\n",
            "|       others|         54889|       13380|           4496|            0|   other|            0|         0|             0|     2021|         2|        2014|            1|      1|  1|  1|     1|  0|         0|  0|       0|    0|  0|     0|         0|       0|  0|   0|  0|  0|     0|      0|   0|        1|       1|   1|    1|           1|           1|        0|     1|    1|      0|         0|       0|      0|    0|     0|         1|           0|       0|       0|     0|\n",
            "|       Canada|           740|        1166|           3133|            0|   other|            0|         0|             0|     2021|         2|        2020|            4|      0|  1|  0|     1|  0|         0|  0|       0|    0|  0|     0|         0|       0|  1|   0|  0|  0|     0|      0|   0|        1|       1|   1|    0|           0|           0|        0|     0|    0|      0|         0|       0|      0|    0|     0|         0|           0|       1|       0|     0|\n",
            "+-------------+--------------+------------+---------------+-------------+--------+-------------+----------+--------------+---------+----------+------------+-------------+-------+---+---+------+---+----------+---+--------+-----+---+------+----------+--------+---+----+---+---+------+-------+----+---------+--------+----+-----+------------+------------+---------+------+-----+-------+----------+--------+-------+-----+------+----------+------------+--------+--------+------+\n",
            "only showing top 10 rows\n",
            "\n"
          ]
        }
      ]
    },
    {
      "cell_type": "markdown",
      "source": [
        "#### Training, Testing, and Validation Dataset\n",
        "Since not all samples belong to these five response variables (hashtags = 'other' in above table), we decided to use these un-classified samples as our testing dataset to demonstrate the outcome of our training model in future sections.\n"
      ],
      "metadata": {
        "id": "Mj4OVddGQRNx"
      }
    },
    {
      "cell_type": "code",
      "source": [
        "tweet_train = tweet_ml.filter(~tweet_ml.hashtags.contains('other')).cache()\n",
        "tweet_test = tweet_ml.filter(tweet_ml.hashtags.contains('other')).cache()"
      ],
      "metadata": {
        "id": "cJuIKw4Kaba8"
      },
      "execution_count": 153,
      "outputs": []
    },
    {
      "cell_type": "markdown",
      "source": [
        "\n",
        "Here is the final distribution of the response variables in the training set in text classifications."
      ],
      "metadata": {
        "id": "uNwn8nDKacNG"
      }
    },
    {
      "cell_type": "code",
      "execution_count": 154,
      "metadata": {
        "colab": {
          "base_uri": "https://localhost:8080/",
          "height": 321
        },
        "id": "GPMjkpn9Pasf",
        "outputId": "4951fd09-6f4f-4417-ca44-75aaa53544ea"
      },
      "outputs": [
        {
          "output_type": "display_data",
          "data": {
            "text/plain": [
              "<Figure size 432x288 with 1 Axes>"
            ],
            "image/png": "[encoded data removed]"
          },
          "metadata": {
            "needs_background": "light"
          }
        }
      ],
      "source": [
        "hashtag_ml =hashtags(tweet_train).collect()\n",
        "# Cleaned Hashtag\n",
        "x_hash = []\n",
        "y_hash = []\n",
        "for i in hashtag_ml:\n",
        "  x_hash.append(i[0])\n",
        "  y_hash.append(i[1])\n",
        "\n",
        "plt.xticks(\n",
        "    rotation=45, \n",
        "    horizontalalignment='right',\n",
        "    fontweight='light',\n",
        "    fontsize='x-large'  \n",
        ")\n",
        "\n",
        "plt.bar(x_hash[1:10], y_hash[1:10])\n",
        "plt.show()"
      ]
    },
    {
      "cell_type": "markdown",
      "metadata": {
        "id": "kcP9PSjiPasp"
      },
      "source": [
        "Then spliting training dataset into training data and validation data (80% and 20%) to test the performance of the training model."
      ]
    },
    {
      "cell_type": "markdown",
      "source": [
        "#### Multinomial Regression Model\n",
        "\n",
        "Setting up the Pyspark Machine Learning environments. Removing user locations since it has too many levels which leads to extremely high computational cost."
      ],
      "metadata": {
        "id": "VBEPbfDwWI8i"
      }
    },
    {
      "cell_type": "code",
      "execution_count": 155,
      "metadata": {
        "id": "PblQ_pcS3s05"
      },
      "outputs": [],
      "source": [
        "from pyspark.ml.classification import LogisticRegression\n",
        "from pyspark.ml.feature import VectorAssembler\n",
        "from pyspark.ml.feature import StringIndexer\n",
        "\n",
        "# Y-variables\n",
        "stringIndexer = StringIndexer(inputCol=\"hashtags\", outputCol=\"label\")\n",
        "model = stringIndexer.fit(tweet_train)\n",
        "td = model.transform(tweet_train)\n",
        "\n",
        "# X-variables\n",
        "assembler = VectorAssembler(outputCol= \"features\")\\\n",
        ".setInputCols(tweet_train.drop('hashtags','id','user_location').columns)\n",
        "\n",
        "# Setting up Multinomial Logistic Regression\n",
        "lr = LogisticRegression(maxIter=10,family=\"multinomial\")\n",
        "assembler_df = assembler.transform(td)\n",
        "train, validation = assembler_df.randomSplit([0.8,0.2],2022)"
      ]
    },
    {
      "cell_type": "markdown",
      "source": [
        "Fitted a Multinomial Logestic Regression model using training data"
      ],
      "metadata": {
        "id": "-CzaB2XIWvEb"
      }
    },
    {
      "cell_type": "code",
      "source": [
        "lrModel = lr.fit(train)"
      ],
      "metadata": {
        "id": "RP5ndi2UW45c"
      },
      "execution_count": 156,
      "outputs": []
    },
    {
      "cell_type": "markdown",
      "metadata": {
        "id": "kwtP1CZIPasr"
      },
      "source": [
        "Tuning the model and checking the performance using validation data"
      ]
    },
    {
      "cell_type": "code",
      "execution_count": 157,
      "metadata": {
        "colab": {
          "base_uri": "https://localhost:8080/"
        },
        "id": "2dRGhKf21Lh8",
        "outputId": "2a59ff28-6772-4b2f-d517-3f1ee26326f8"
      },
      "outputs": [
        {
          "output_type": "stream",
          "name": "stdout",
          "text": [
            "The accuracy of prediction in Validation Data 0.6520923316575798\n"
          ]
        }
      ],
      "source": [
        "predictions = lrModel.transform(validation)\n",
        "accuracy = predictions.filter(predictions.label == predictions.prediction).count()/float(predictions.count())\n",
        "print(\"The accuracy of prediction in Validation Data\",accuracy)"
      ]
    },
    {
      "cell_type": "markdown",
      "source": [
        "#### Random Forest\n",
        "Using the training set to train a Random Forest with 100 total trees, and number of sqrt(col) variables to choose in each trees."
      ],
      "metadata": {
        "id": "NsKKdGyqZIul"
      }
    },
    {
      "cell_type": "code",
      "source": [
        "from pyspark.ml.classification import RandomForestClassifier\n",
        "rf = RandomForestClassifier(featuresCol = 'features', labelCol = 'label',numTrees=100)\n",
        "rfModel = rf.fit(train)"
      ],
      "metadata": {
        "id": "D3VPW9v7ZT43"
      },
      "execution_count": 151,
      "outputs": []
    },
    {
      "cell_type": "markdown",
      "source": [
        "Checking the performance using validation data"
      ],
      "metadata": {
        "id": "FpneAfC1zNw9"
      }
    },
    {
      "cell_type": "code",
      "source": [
        "predictions = rfModel.transform(validation)\n",
        "accuracy = predictions.filter(predictions.label == predictions.prediction).count()/float(predictions.count())\n",
        "print(\"The accuracy of prediction in Validation Data\",accuracy)"
      ],
      "metadata": {
        "colab": {
          "base_uri": "https://localhost:8080/"
        },
        "id": "AXNJE7yKzM20",
        "outputId": "f17d39ab-d4d6-4f70-fa84-2906a3fbd4d8"
      },
      "execution_count": 152,
      "outputs": [
        {
          "output_type": "stream",
          "name": "stdout",
          "text": [
            "The accuracy of prediction in Validation Data 0.8439071018905332\n"
          ]
        }
      ]
    },
    {
      "cell_type": "markdown",
      "source": [
        "#### Neural Network with Keras API\n",
        "Converting to Pandas Dataframe for better compatibility with Keras Packages. And creating dummy variables for response variables \"hashtags\" since the neural network requires int variables for calculation."
      ],
      "metadata": {
        "id": "jRVE0FFZFBzQ"
      }
    },
    {
      "cell_type": "code",
      "source": [
        "train_df = tweet_train.drop('id').toPandas()\n",
        "response = train_df.pop('hashtags')\n",
        "train_df = train_df.drop(columns= 'user_location')\n",
        "response = pd.get_dummies(response)"
      ],
      "metadata": {
        "id": "oPET-qSx42Hh"
      },
      "execution_count": 185,
      "outputs": []
    },
    {
      "cell_type": "markdown",
      "source": [
        "Setting up the Keras environments and a neural network model with two hidden layers, have 128 and 256 node. Setting up the Relu activation functions for non-linearity, and softmax output function for multi-class classification."
      ],
      "metadata": {
        "id": "rMhH41E3GJ9Z"
      }
    },
    {
      "cell_type": "code",
      "source": [
        "import tensorflow as tf\n",
        "from tensorflow import keras\n",
        "from tensorflow.keras import layers\n",
        "\n",
        "inputs = keras.Input(shape=(51,))\n",
        "x = layers.Dense(128, activation=\"relu\", name=\"dense_1\")(inputs)\n",
        "x = layers.Dense(256, activation=\"relu\", name=\"dense_2\")(x)\n",
        "outputs = layers.Dense(5, activation=\"softmax\", name=\"classification\")(x)\n",
        "\n",
        "model = keras.Model(inputs=inputs, outputs=outputs)\n",
        "model.summary()"
      ],
      "metadata": {
        "colab": {
          "base_uri": "https://localhost:8080/"
        },
        "id": "8WKgcqpg6Nm4",
        "outputId": "ed2da4cd-e6f9-4573-d8d8-b87f57b4eb76"
      },
      "execution_count": 173,
      "outputs": [
        {
          "output_type": "stream",
          "name": "stdout",
          "text": [
            "Model: \"model_10\"\n",
            "_________________________________________________________________\n",
            " Layer (type)                Output Shape              Param #   \n",
            "=================================================================\n",
            " input_10 (InputLayer)       [(None, 51)]              0         \n",
            "                                                                 \n",
            " dense_1 (Dense)             (None, 128)               6656      \n",
            "                                                                 \n",
            " dense_2 (Dense)             (None, 256)               33024     \n",
            "                                                                 \n",
            " classification (Dense)      (None, 5)                 1285      \n",
            "                                                                 \n",
            "=================================================================\n",
            "Total params: 40,965\n",
            "Trainable params: 40,965\n",
            "Non-trainable params: 0\n",
            "_________________________________________________________________\n"
          ]
        }
      ]
    },
    {
      "cell_type": "markdown",
      "source": [
        "The above shows the structures of our final model. And fitting it with training data and tunning it with validation splits"
      ],
      "metadata": {
        "id": "Bm2Y6gQPGtkx"
      }
    },
    {
      "cell_type": "code",
      "source": [
        "model.compile(optimizer='adam',\n",
        "              loss='categorical_crossentropy')\n",
        "checkpoint_filepath = '/tmp/checkpoint'\n",
        "model_checkpoint_callback = tf.keras.callbacks.ModelCheckpoint(\n",
        "    filepath=checkpoint_filepath,\n",
        "    save_weights_only=True,\n",
        "    monitor='loss',\n",
        "    mode='max',\n",
        "    save_best_only=True)\n",
        "model.fit(train_df, response, batch_size=32, epochs=20, validation_split=0.2, callbacks=[model_checkpoint_callback])"
      ],
      "metadata": {
        "colab": {
          "base_uri": "https://localhost:8080/"
        },
        "id": "0v13sKBO-GBp",
        "outputId": "d1905954-43ba-4ea3-e2d9-dddc771b4d42"
      },
      "execution_count": 174,
      "outputs": [
        {
          "output_type": "stream",
          "name": "stdout",
          "text": [
            "Epoch 1/20\n",
            "3548/3548 [==============================] - 11s 3ms/step - loss: 96.7211 - val_loss: 98.0014\n",
            "Epoch 2/20\n",
            "3548/3548 [==============================] - 10s 3ms/step - loss: 6.7770 - val_loss: 1.2062\n",
            "Epoch 3/20\n",
            "3548/3548 [==============================] - 10s 3ms/step - loss: 1.2463 - val_loss: 0.8827\n",
            "Epoch 4/20\n",
            "3548/3548 [==============================] - 10s 3ms/step - loss: 0.9035 - val_loss: 0.8408\n",
            "Epoch 5/20\n",
            "3548/3548 [==============================] - 10s 3ms/step - loss: 0.9160 - val_loss: 1.0492\n",
            "Epoch 6/20\n",
            "3548/3548 [==============================] - 9s 3ms/step - loss: 0.7894 - val_loss: 0.6969\n",
            "Epoch 7/20\n",
            "3548/3548 [==============================] - 10s 3ms/step - loss: 0.7705 - val_loss: 0.6862\n",
            "Epoch 8/20\n",
            "3548/3548 [==============================] - 9s 3ms/step - loss: 0.7012 - val_loss: 0.6416\n",
            "Epoch 9/20\n",
            "3548/3548 [==============================] - 9s 3ms/step - loss: 0.6985 - val_loss: 0.6417\n",
            "Epoch 10/20\n",
            "3548/3548 [==============================] - 10s 3ms/step - loss: 0.6682 - val_loss: 0.7442\n",
            "Epoch 11/20\n",
            "3548/3548 [==============================] - 11s 3ms/step - loss: 0.6485 - val_loss: 0.6112\n",
            "Epoch 12/20\n",
            "3548/3548 [==============================] - 11s 3ms/step - loss: 0.6414 - val_loss: 0.5384\n",
            "Epoch 13/20\n",
            "3548/3548 [==============================] - 10s 3ms/step - loss: 0.6422 - val_loss: 0.6048\n",
            "Epoch 14/20\n",
            "3548/3548 [==============================] - 11s 3ms/step - loss: 0.6149 - val_loss: 0.6479\n",
            "Epoch 15/20\n",
            "3548/3548 [==============================] - 10s 3ms/step - loss: 0.5688 - val_loss: 0.5292\n",
            "Epoch 16/20\n",
            "3548/3548 [==============================] - 10s 3ms/step - loss: 0.5724 - val_loss: 0.6800\n",
            "Epoch 17/20\n",
            "3548/3548 [==============================] - 10s 3ms/step - loss: 0.5892 - val_loss: 0.5513\n",
            "Epoch 18/20\n",
            "3548/3548 [==============================] - 11s 3ms/step - loss: 0.5528 - val_loss: 0.5852\n",
            "Epoch 19/20\n",
            "3548/3548 [==============================] - 9s 3ms/step - loss: 0.5595 - val_loss: 0.5731\n",
            "Epoch 20/20\n",
            "3548/3548 [==============================] - 9s 3ms/step - loss: 0.5687 - val_loss: 0.5348\n"
          ]
        },
        {
          "output_type": "execute_result",
          "data": {
            "text/plain": [
              "<keras.callbacks.History at 0x7f0640dc8450>"
            ]
          },
          "metadata": {},
          "execution_count": 174
        }
      ]
    },
    {
      "cell_type": "markdown",
      "source": [
        "The above plot demonstrates the training process of the neural network model in each iteration. To avoid overfitting, we need to use the model with the lowest validated loss (val_loss) in the above result. This model is stored in memory by checkpoint functions and is callable for future usage."
      ],
      "metadata": {
        "id": "qf4Pjxd3Ouk_"
      }
    },
    {
      "cell_type": "markdown",
      "source": [
        "#### Prediction\n",
        "We will use the testing dataset to demonstrate the outcome of three trained models and how auto-hashtaging system works in incoming tweets.\n",
        "\n",
        "Logestic Regression"
      ],
      "metadata": {
        "id": "0stFLfpCHABa"
      }
    },
    {
      "cell_type": "code",
      "execution_count": 179,
      "metadata": {
        "colab": {
          "base_uri": "https://localhost:8080/"
        },
        "id": "bnyjLV5rPasy",
        "outputId": "e5582ceb-f675-4435-bd04-0630082e3559"
      },
      "outputs": [
        {
          "output_type": "stream",
          "name": "stdout",
          "text": [
            "+-------------------------------------------------------------------------------------------------------+\n",
            "|probability                                                                                            |\n",
            "+-------------------------------------------------------------------------------------------------------+\n",
            "|[0.30778448183565965,0.3716310500651434,0.16161771243592402,0.1589652925699206,1.4630933523579837E-6]  |\n",
            "|[0.3333537142687248,0.3741098133448035,0.1715010376349207,0.12103397160321819,1.4631483327761318E-6]   |\n",
            "|[0.3913919831998295,0.30272936813125695,0.1792155530970851,0.12666167790358085,1.4176682475158857E-6]  |\n",
            "|[0.3329974135218717,0.3273921487753029,0.16133842187071967,0.17827058720059538,1.4286315102385452E-6]  |\n",
            "|[0.36016288146661124,0.24749006328533799,0.1546517811419832,0.23769385990119002,1.414204877543298E-6]  |\n",
            "|[0.4249108782329619,0.26050991271097346,0.16350003108806135,0.15107784666919646,1.331298806697067E-6]  |\n",
            "|[0.4418877795502916,0.25275216168285536,0.1688220567204206,0.13653662711051257,1.3749359199248388E-6]  |\n",
            "|[0.45890542601269735,0.14609618446263425,0.2937053606666134,0.10129175947372894,1.2693843259150652E-6] |\n",
            "|[0.33221713075764303,0.37090837205866484,0.16393337873302447,0.1329397273073548,1.3911433128948252E-6] |\n",
            "|[0.30493926999620286,0.23617992656374404,0.26852455908398576,0.19035475749303818,1.4868630290784938E-6]|\n",
            "+-------------------------------------------------------------------------------------------------------+\n",
            "only showing top 10 rows\n",
            "\n"
          ]
        }
      ],
      "source": [
        "from pyspark.ml.feature import IndexToString\n",
        "test = assembler.transform(tweet_test)\n",
        "test_prediction = lrModel.transform(test)\n",
        "backtoshash = IndexToString(inputCol=\"prediction\", outputCol=\"hashes\",labels=['Cryptocurrency','Bitcoin','Dogecoin','Etherenum','binance'])\n",
        "test_prediction = backtoshash.transform(test_prediction)\n",
        "test_prediction.select('probability').show(10,False) "
      ]
    },
    {
      "cell_type": "markdown",
      "source": [
        "The hashtags with the highest probabilities will be the classified categories for the corresponding samples (optimal Bayes)"
      ],
      "metadata": {
        "id": "oxDx7I9kQuH7"
      }
    },
    {
      "cell_type": "code",
      "source": [
        "test_prediction.select('hashes').show(10,False) "
      ],
      "metadata": {
        "colab": {
          "base_uri": "https://localhost:8080/"
        },
        "id": "ykxWbzm8Q6R_",
        "outputId": "3e181ebe-62fb-4068-a064-3770d8a600d0"
      },
      "execution_count": 180,
      "outputs": [
        {
          "output_type": "stream",
          "name": "stdout",
          "text": [
            "+--------------+\n",
            "|hashes        |\n",
            "+--------------+\n",
            "|Bitcoin       |\n",
            "|Bitcoin       |\n",
            "|Cryptocurrency|\n",
            "|Cryptocurrency|\n",
            "|Cryptocurrency|\n",
            "|Cryptocurrency|\n",
            "|Cryptocurrency|\n",
            "|Cryptocurrency|\n",
            "|Bitcoin       |\n",
            "|Cryptocurrency|\n",
            "+--------------+\n",
            "only showing top 10 rows\n",
            "\n"
          ]
        }
      ]
    },
    {
      "cell_type": "markdown",
      "source": [
        "Random Forest\n",
        "Similiar for Random Forest model and Neural Network Model"
      ],
      "metadata": {
        "id": "c0HGgFQAHfFl"
      }
    },
    {
      "cell_type": "code",
      "source": [
        "test_prediction = rfModel.transform(test)\n",
        "backtoshash = IndexToString(inputCol=\"prediction\", outputCol=\"hashes\",labels=['Cryptocurrency','Bitcoin','Dogecoin','Etherenum','binance'])\n",
        "test_prediction = backtoshash.transform(test_prediction)\n",
        "test_prediction.select('id','probability').show(10,False) \n",
        "\n",
        "test_prediction.select('id','hashes').show(10,False) "
      ],
      "metadata": {
        "colab": {
          "base_uri": "https://localhost:8080/"
        },
        "id": "hKUvD6RVHhq0",
        "outputId": "26a4904c-a7d7-4a29-b4d6-320d1898801d"
      },
      "execution_count": 141,
      "outputs": [
        {
          "output_type": "stream",
          "name": "stdout",
          "text": [
            "+----+-----------------------------------------------------------------------------------------------------+\n",
            "|id  |probability                                                                                          |\n",
            "+----+-----------------------------------------------------------------------------------------------------+\n",
            "|29  |[0.09435890802488249,0.7582716429656888,0.05493783800012497,0.06160414515272831,0.030827465856575323]|\n",
            "|474 |[0.11255478206922115,0.6999061134688493,0.07540501335683984,0.03469994448816886,0.07743414661692073] |\n",
            "|964 |[0.2184709625496111,0.4078613906398543,0.18861018291137938,0.08705603836867488,0.0980014255304804]   |\n",
            "|1677|[0.2354330216328696,0.41165138907822363,0.1725981226759297,0.08955408797770611,0.09076337863527091]  |\n",
            "|1950|[0.05728613140768342,0.2067026231040679,0.034736357162703346,0.6834857395454945,0.0177891487800508]  |\n",
            "|2040|[0.6647779482332601,0.20745717645452166,0.0691193825034771,0.03269237796621494,0.02595311484252625]  |\n",
            "|2214|[0.6748252128693027,0.1728931596488035,0.08717465721037716,0.032540733017388156,0.032566237254128404]|\n",
            "|2453|[0.3777157107183089,0.02649626579972459,0.5509333059013223,0.03194837734590214,0.01290634023474211]  |\n",
            "|2509|[0.1043980975668346,0.7755291684186822,0.06166533240723226,0.02953711531886917,0.028870286288381765] |\n",
            "|2529|[0.143041635220384,0.15373498581726447,0.5924572342843172,0.05954955470895475,0.05121658996907961]   |\n",
            "+----+-----------------------------------------------------------------------------------------------------+\n",
            "only showing top 10 rows\n",
            "\n",
            "+----+--------------+\n",
            "|id  |hashes        |\n",
            "+----+--------------+\n",
            "|29  |Bitcoin       |\n",
            "|474 |Bitcoin       |\n",
            "|964 |Bitcoin       |\n",
            "|1677|Bitcoin       |\n",
            "|1950|Etherenum     |\n",
            "|2040|Cryptocurrency|\n",
            "|2214|Cryptocurrency|\n",
            "|2453|Dogecoin      |\n",
            "|2509|Bitcoin       |\n",
            "|2529|Dogecoin      |\n",
            "+----+--------------+\n",
            "only showing top 10 rows\n",
            "\n"
          ]
        }
      ]
    },
    {
      "cell_type": "markdown",
      "source": [
        "Neural Network"
      ],
      "metadata": {
        "id": "OiRLDgJCJJ71"
      }
    },
    {
      "cell_type": "code",
      "source": [
        "test_df = tweet_test.toPandas()\n",
        "response = test_df.pop('hashtags')\n",
        "test_df = test_df.drop(columns= 'user_location')\n",
        "model.load_weights(checkpoint_filepath)\n",
        "prediction = model.predict(test_df)\n",
        "prediction[:10]"
      ],
      "metadata": {
        "colab": {
          "base_uri": "https://localhost:8080/"
        },
        "id": "wZtw-mBzHupr",
        "outputId": "cd4735b9-5bd4-422d-c0b2-6360f52b81de"
      },
      "execution_count": 189,
      "outputs": [
        {
          "output_type": "execute_result",
          "data": {
            "text/plain": [
              "array([[4.0090967e-02, 9.2283279e-01, 6.3840480e-04, 3.5797615e-02,\n",
              "        6.4031023e-04],\n",
              "       [1.0000000e+00, 5.1956398e-37, 5.2178189e-17, 4.3587187e-10,\n",
              "        0.0000000e+00],\n",
              "       [8.1812264e-03, 9.0291202e-01, 8.0047140e-04, 7.8316398e-02,\n",
              "        9.7897695e-03],\n",
              "       [9.0804126e-05, 9.9990916e-01, 6.1961986e-10, 4.1065171e-08,\n",
              "        1.4062863e-08],\n",
              "       [2.5614072e-03, 9.2881650e-01, 2.2362829e-04, 6.2866800e-02,\n",
              "        5.5316212e-03],\n",
              "       [1.9398219e-18, 0.0000000e+00, 1.4154143e-10, 1.0000000e+00,\n",
              "        0.0000000e+00],\n",
              "       [5.9892616e-04, 9.9940050e-01, 4.2962217e-08, 5.8686703e-07,\n",
              "        2.3384263e-09],\n",
              "       [1.2263601e-10, 9.9999988e-01, 1.4239385e-10, 1.7541866e-07,\n",
              "        2.5965613e-10],\n",
              "       [2.2217000e-12, 1.0000000e+00, 1.7890312e-27, 4.2865566e-20,\n",
              "        2.1427297e-31],\n",
              "       [8.3586285e-03, 9.8236567e-01, 5.7860273e-03, 1.3139895e-03,\n",
              "        2.1756906e-03]], dtype=float32)"
            ]
          },
          "metadata": {},
          "execution_count": 189
        }
      ]
    },
    {
      "cell_type": "code",
      "source": [
        "import numpy as np\n",
        "label = ['Bitcoin','Cryptocurrency','Dogecoin','Etherenum','binance']\n",
        "hashtags = []\n",
        "for prob in prediction:\n",
        "  index_max = np.argmax(prob)\n",
        "  hashtags.append(label[index_max])\n",
        "hashtags[:10]"
      ],
      "metadata": {
        "colab": {
          "base_uri": "https://localhost:8080/"
        },
        "id": "qknkSnLgRZ71",
        "outputId": "43d2d684-fdee-473d-afbe-a56d599f16dc"
      },
      "execution_count": 187,
      "outputs": [
        {
          "output_type": "execute_result",
          "data": {
            "text/plain": [
              "['Cryptocurrency',\n",
              " 'Bitcoin',\n",
              " 'Cryptocurrency',\n",
              " 'Cryptocurrency',\n",
              " 'Cryptocurrency',\n",
              " 'Etherenum',\n",
              " 'Cryptocurrency',\n",
              " 'Cryptocurrency',\n",
              " 'Cryptocurrency',\n",
              " 'Cryptocurrency']"
            ]
          },
          "metadata": {},
          "execution_count": 187
        }
      ]
    },
    {
      "cell_type": "markdown",
      "source": [
        "#### Conclusion and Possible Improvement\n",
        "This project demonstrates data analysis of tweets and related information under Pyspark environments. And performing a simple text classification using three popular supervised learning models: logistic regression, Random Forest, and ANN. The Random forest model achieves 84% accuracy in the hashtag classification of the validation dataset. Therefore, the prediction can be an important metrics for an automatic tagging system for new tweets.\n",
        "\n",
        "There are alterative choices of machine learning models for text classification in this project. For exmaple, the vectorized version of the neural network, support vector machine, KNN, and others. Some of models might have a better performance than the above models. These can be a possible improvement of this project in future developments.\n",
        "\n",
        "Also, [Twitter API](https://developer.twitter.com/en/docs/twitter-api) provides more possibilities for data mining, such as but not limited to streaming, recent search,  and particular user search. Therefore, the Kaggle dataset in this project can be replace with other sources to improve the performance."
      ],
      "metadata": {
        "id": "kn2NKiPHTlh2"
      }
    }
  ],
  "metadata": {
    "colab": {
      "collapsed_sections": [],
      "name": "Report.ipynb",
      "provenance": []
    },
    "kernelspec": {
      "display_name": "Python 3",
      "language": "python",
      "name": "python3"
    },
    "language_info": {
      "codemirror_mode": {
        "name": "ipython",
        "version": 3
      },
      "file_extension": ".py",
      "mimetype": "text/x-python",
      "name": "python",
      "nbconvert_exporter": "python",
      "pygments_lexer": "ipython3",
      "version": "3.6.7"
    }
  },
  "nbformat": 4,
  "nbformat_minor": 0
}