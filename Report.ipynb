{
  "cells": [
    {
      "cell_type": "markdown",
      "metadata": {
        "deletable": false,
        "id": "L40eXcn6C1GU",
        "tags": [
          "instructions"
        ]
      },
      "source": [
        "### Text Classification and Data Anaylsis on Cryptocurrency Related Tweets in PySpark Enviorment\n",
        "---"
      ]
    },
    {
      "cell_type": "markdown",
      "metadata": {
        "deletable": false,
        "id": "zbZw9WlgC1GZ",
        "tags": [
          "instructions"
        ]
      },
      "source": [
        "#### Disclaimer and Background\n",
        "This project is an improvement of the final project of upper year CS course \"Data-Intensive Distributed Analytics\" at the University of Waterloo by [Hugh Chung](https://github.com/hughyyyy) , [Joe Liang](https://github.com/JOeOJ520), and [Shawn Li](https://github.com/Shawn-Personal). The codes for setting up the Pyspark environments in this project are credited to [Ali Abedi](https://cs.uwaterloo.ca/~a2abedi/), the instructor in Winter 2022.\n",
        "\n",
        "Data in this project is from the Kaggle post \"Bitcoin Tweets\" under CC0: Public Domain license. The data includes tweets that have #Bitcoin and #btc hashtags from 2016. Additional information about this dataset can be found [here](https://www.kaggle.com/datasets/kaushiksuresh147/bitcoin-tweets).\n",
        "\n",
        "[Cryptocurrency](https://en.wikipedia.org/wiki/Cryptocurrency) becomes a popular topic in social media and the financial market. On 30 November 2020, bitcoin hit a new all-time high of $19,860. NLP Analysis on the posts related to cryptocurrency in social media could be an interest area of study.  \n",
        "\n",
        "The goal of this project is to demonstrate the ability to use Pyspark and big data computing in text data analysis and supervised learning: tweets text classification. And using the trained model to construct an automatic hash-tagging system for incoming tweets.\n",
        "\n",
        "The environment and programming language used in this project mainly focus on [Pyspark](https://spark.apache.org/docs/latest/api/python/#:~:text=PySpark%20is%20an%20interface%20for,data%20in%20a%20distributed%20environment) with its RDD and Data Frame interface. Also, [Keras](https://keras.io/) in Tensorflow with [Pandas](https://pandas.pydata.org/) is used to train neural network models."
      ]
    },
    {
      "cell_type": "markdown",
      "metadata": {
        "deletable": false,
        "id": "GLVpHfc7C1Ga",
        "tags": [
          "instructions"
        ]
      },
      "source": [
        "\n",
        "#### Pyspark Environment\n"
      ]
    },
    {
      "cell_type": "markdown",
      "metadata": {
        "id": "Tuc3ipMjPasS"
      },
      "source": [
        "Cloning from Github to obtain needed files."
      ]
    },
    {
      "cell_type": "code",
      "execution_count": 32,
      "metadata": {
        "colab": {
          "base_uri": "https://localhost:8080/"
        },
        "id": "PKMddol2pECf",
        "outputId": "2e39a740-a006-44c2-ec5e-25dd45a9ef75"
      },
      "outputs": [
        {
          "output_type": "stream",
          "name": "stdout",
          "text": [
            "Cloning into 'CryptoTweets'...\n",
            "remote: Enumerating objects: 33, done.\u001b[K\n",
            "remote: Counting objects:   3% (1/33)\u001b[K\rremote: Counting objects:   6% (2/33)\u001b[K\rremote: Counting objects:   9% (3/33)\u001b[K\rremote: Counting objects:  12% (4/33)\u001b[K\rremote: Counting objects:  15% (5/33)\u001b[K\rremote: Counting objects:  18% (6/33)\u001b[K\rremote: Counting objects:  21% (7/33)\u001b[K\rremote: Counting objects:  24% (8/33)\u001b[K\rremote: Counting objects:  27% (9/33)\u001b[K\rremote: Counting objects:  30% (10/33)\u001b[K\rremote: Counting objects:  33% (11/33)\u001b[K\rremote: Counting objects:  36% (12/33)\u001b[K\rremote: Counting objects:  39% (13/33)\u001b[K\rremote: Counting objects:  42% (14/33)\u001b[K\rremote: Counting objects:  45% (15/33)\u001b[K\rremote: Counting objects:  48% (16/33)\u001b[K\rremote: Counting objects:  51% (17/33)\u001b[K\rremote: Counting objects:  54% (18/33)\u001b[K\rremote: Counting objects:  57% (19/33)\u001b[K\rremote: Counting objects:  60% (20/33)\u001b[K\rremote: Counting objects:  63% (21/33)\u001b[K\rremote: Counting objects:  66% (22/33)\u001b[K\rremote: Counting objects:  69% (23/33)\u001b[K\rremote: Counting objects:  72% (24/33)\u001b[K\rremote: Counting objects:  75% (25/33)\u001b[K\rremote: Counting objects:  78% (26/33)\u001b[K\rremote: Counting objects:  81% (27/33)\u001b[K\rremote: Counting objects:  84% (28/33)\u001b[K\rremote: Counting objects:  87% (29/33)\u001b[K\rremote: Counting objects:  90% (30/33)\u001b[K\rremote: Counting objects:  93% (31/33)\u001b[K\rremote: Counting objects:  96% (32/33)\u001b[K\rremote: Counting objects: 100% (33/33)\u001b[K\rremote: Counting objects: 100% (33/33), done.\u001b[K\n",
            "remote: Compressing objects: 100% (30/30), done.\u001b[K\n",
            "remote: Total 33 (delta 11), reused 0 (delta 0), pack-reused 0\u001b[K\n",
            "Unpacking objects: 100% (33/33), done.\n"
          ]
        }
      ],
      "source": [
        "import shutil, os\n",
        "if os.path.isdir('CryptoTweets'):\n",
        "    shutil.rmtree('CryptoTweets')\n",
        "! git clone https://github.com/JOeOJ520/CryptoTweets.git"
      ]
    },
    {
      "cell_type": "markdown",
      "source": [
        "To get started, let's initialize Spark."
      ],
      "metadata": {
        "id": "tEOk6GYA7GOi"
      }
    },
    {
      "cell_type": "code",
      "execution_count": null,
      "metadata": {
        "deletable": false,
        "id": "NWzWM_87C1Gb",
        "tags": [
          "setup"
        ]
      },
      "outputs": [],
      "source": [
        "!apt-get update -qq > /dev/null\n",
        "!apt-get install openjdk-8-jdk-headless -qq > /dev/null\n",
        "!wget -q https://downloads.apache.org/spark/spark-2.4.8/spark-2.4.8-bin-hadoop2.7.tgz\n",
        "!tar xf spark-2.4.8-bin-hadoop2.7.tgz\n",
        "!pip install -q findspark\n",
        "!tar -xzf CryptoTweets/sql-data.tgz\n",
        "# install required packages\n",
        "!pip install pycountry\n",
        "!pip install pyecharts"
      ]
    },
    {
      "cell_type": "markdown",
      "metadata": {
        "deletable": false,
        "id": "FT4V7xlCC1Gc",
        "tags": [
          "instructions"
        ]
      },
      "source": [
        "To use Spark SQL and the DataFrame interface, creating a `SparkSession`."
      ]
    },
    {
      "cell_type": "code",
      "execution_count": 3,
      "metadata": {
        "deletable": false,
        "id": "NyH7WzP0C1Gc",
        "tags": [
          "setup"
        ]
      },
      "outputs": [],
      "source": [
        "import os\n",
        "os.environ[\"JAVA_HOME\"] = \"/usr/lib/jvm/java-8-openjdk-amd64\"\n",
        "os.environ[\"SPARK_HOME\"] = \"/content/spark-2.4.8-bin-hadoop2.7\"\n",
        "\n",
        "import findspark\n",
        "findspark.init()\n",
        "\n",
        "from pyspark.sql import SparkSession\n",
        "import random\n",
        "\n",
        "spark = SparkSession.builder.appName(\"YourTest\").master(\"local[2]\").\\\n",
        "config('spark.ui.port', random.randrange(4000,5000)).config(\"spark.driver.memory\", \"9g\").getOrCreate()"
      ]
    },
    {
      "cell_type": "markdown",
      "metadata": {
        "id": "-YSU9sArPasU"
      },
      "source": [
        "#### Data Preprocessing\n",
        "The bitcoin-tweets.csv contains total 1.09G of tweets regarding bitcoins and crpytocurrecies. The below section requires a [kaggle.json](https://www.kaggle.com/docs/api) for authentication purposes in order to download the file. "
      ]
    },
    {
      "cell_type": "code",
      "execution_count": null,
      "metadata": {
        "id": "NM8kqFNCPasV"
      },
      "outputs": [],
      "source": [
        "from google.colab import files\n",
        "\n",
        "uploaded = files.upload()\n",
        "\n",
        "#Upload kaggle account verification\n",
        "for fn in uploaded.keys():\n",
        "  print('User uploaded file \"{name}\" with length {length} bytes'.format(\n",
        "      name=fn, length=len(uploaded[fn])))\n",
        "  \n",
        "# Then move kaggle.json into the folder where the API expects to find it.\n",
        "!mkdir -p ~/.kaggle/ && mv kaggle.json ~/.kaggle/ && chmod 600 ~/.kaggle/kaggle.json\n",
        "\n",
        "#Download dataset\n",
        "!kaggle datasets download \"kaushiksuresh147/bitcoin-tweets\"\n",
        "#unzips\n",
        "!unzip bitcoin-tweets.zip"
      ]
    },
    {
      "cell_type": "markdown",
      "metadata": {
        "id": "UfccFLqePasW"
      },
      "source": [
        "Using Pyspark SQL Interface to obtain dataframe from Bitcoin_tweets.csv and first 10 rows of the dataset are showed below."
      ]
    },
    {
      "cell_type": "code",
      "execution_count": 11,
      "metadata": {
        "colab": {
          "base_uri": "https://localhost:8080/",
          "height": 930
        },
        "deletable": false,
        "id": "RWktEcnhC1Gd",
        "outputId": "e5eb391e-bb6e-49d9-a277-290ee4a4e651",
        "tags": [
          "test"
        ]
      },
      "outputs": [
        {
          "output_type": "execute_result",
          "data": {
            "text/plain": [
              "                                           user_name  \\\n",
              "0                                      DeSota Wilson   \n",
              "1                                           CryptoND   \n",
              "2                                          Tdlmatias   \n",
              "3                               Crypto is the future   \n",
              "4           Alex Kirchmaier 🇦🇹🇸🇪 #FactsSuperspreader   \n",
              "5                                          #Bitcoin\"   \n",
              "6                                ZerrBenz™ ⚔ ✪ 20732   \n",
              "7           📌 Enjoy #Cashback 10% of the Trading fee   \n",
              "8  📌 Sign up link 👉 https://t.co/T4WttWeohc… http...   \n",
              "9                                        Bitcoin-Bot   \n",
              "\n",
              "                       user_location  \\\n",
              "0                        Atlanta, GA   \n",
              "1                               None   \n",
              "2                    London, England   \n",
              "3                               None   \n",
              "4                             Europa   \n",
              "5                2016-02-03 13:15:55   \n",
              "6                      Bkk, Thailand   \n",
              "7                               None   \n",
              "8  ['Crypto', 'Binance', 'Cashback']   \n",
              "9                       Florida, USA   \n",
              "\n",
              "                                    user_description         user_created  \\\n",
              "0  Biz Consultant, real estate, fintech, startups...  2009-04-26 20:05:09   \n",
              "1  😎 BITCOINLIVE is a Dutch platform aimed at inf...  2019-10-17 20:12:10   \n",
              "2  IM Academy : The best #forex, #SelfEducation, ...  2014-11-10 10:50:37   \n",
              "3  I will post a lot of buying signals for BTC tr...  2019-09-28 16:48:12   \n",
              "4  Co-founder @RENJERJerky | Forbes 30Under30 | I...                 None   \n",
              "5                                             1249.0                 1472   \n",
              "6  I'm a cat slave 🐱 Interested in Blockchain · T...  2010-01-12 07:00:04   \n",
              "7                                               None                 None   \n",
              "8                                    Twitter Web App                False   \n",
              "9  Bot to generate Bitcoin picture as combination...  2019-12-23 16:49:16   \n",
              "\n",
              "  user_followers user_friends      user_favourites  \\\n",
              "0         8534.0         7605                 4838   \n",
              "1         6769.0         1532                25483   \n",
              "2          128.0          332                  924   \n",
              "3          625.0          129                   14   \n",
              "4           None         None                 None   \n",
              "5          10482        False  2021-02-10 23:54:06   \n",
              "6          742.0          716                 2444   \n",
              "7           None         None                 None   \n",
              "8           None         None                 None   \n",
              "9          131.0           84                 5728   \n",
              "\n",
              "                                       user_verified                 date  \\\n",
              "0                                              False  2021-02-10 23:59:04   \n",
              "1                                              False  2021-02-10 23:58:48   \n",
              "2                                              False  2021-02-10 23:54:48   \n",
              "3                                              False  2021-02-10 23:54:33   \n",
              "4                                               None                 None   \n",
              "5  This network is secured by 9 508 nodes as of t...              ['BTC']   \n",
              "6                                              False  2021-02-10 23:53:30   \n",
              "7                                               None                 None   \n",
              "8                                               None                 None   \n",
              "9                                              False  2021-02-10 23:53:17   \n",
              "\n",
              "                                                text  \\\n",
              "0  Blue Ridge Bank shares halted by NYSE after #b...   \n",
              "1  \"😎 Today, that's this #Thursday, we will do a ...   \n",
              "2  Guys evening, I have read this article about B...   \n",
              "3  $BTC A big chance in a billion! Price: \\487264...   \n",
              "4                                               None   \n",
              "5                                    Twitter Web App   \n",
              "6                       💹 Trade #Crypto on #Binance    \n",
              "7                                               None   \n",
              "8                                               None   \n",
              "9                         &lt;'fire' &amp; 'man'&gt;   \n",
              "\n",
              "                                            hashtags  \\\n",
              "0                                        ['bitcoin']   \n",
              "1   #Btc #wallet #security expe… https://t.co/go6...   \n",
              "2                                               None   \n",
              "3                 ['Bitcoin', 'FX', 'BTC', 'crypto']   \n",
              "4                                               None   \n",
              "5                                              False   \n",
              "6                                               None   \n",
              "7                                               None   \n",
              "8                                               None   \n",
              "9                                               None   \n",
              "\n",
              "                                      source           is_retweet  \n",
              "0                            Twitter Web App                False  \n",
              "1  ['Thursday', 'Btc', 'wallet', 'security']  Twitter for Android  \n",
              "2                            Twitter Web App                False  \n",
              "3                                    dlvr.it                False  \n",
              "4                                       None                 None  \n",
              "5                                       None                 None  \n",
              "6                                       None                 None  \n",
              "7                                       None                 None  \n",
              "8                                       None                 None  \n",
              "9                                       None                 None  "
            ],
            "text/html": [
              "\n",
              "  <div id=\"df-b2e9cd57-463a-465a-8be9-3cf7b172dc6c\">\n",
              "    <div class=\"colab-df-container\">\n",
              "      <div>\n",
              "<style scoped>\n",
              "    .dataframe tbody tr th:only-of-type {\n",
              "        vertical-align: middle;\n",
              "    }\n",
              "\n",
              "    .dataframe tbody tr th {\n",
              "        vertical-align: top;\n",
              "    }\n",
              "\n",
              "    .dataframe thead th {\n",
              "        text-align: right;\n",
              "    }\n",
              "</style>\n",
              "<table border=\"1\" class=\"dataframe\">\n",
              "  <thead>\n",
              "    <tr style=\"text-align: right;\">\n",
              "      <th></th>\n",
              "      <th>user_name</th>\n",
              "      <th>user_location</th>\n",
              "      <th>user_description</th>\n",
              "      <th>user_created</th>\n",
              "      <th>user_followers</th>\n",
              "      <th>user_friends</th>\n",
              "      <th>user_favourites</th>\n",
              "      <th>user_verified</th>\n",
              "      <th>date</th>\n",
              "      <th>text</th>\n",
              "      <th>hashtags</th>\n",
              "      <th>source</th>\n",
              "      <th>is_retweet</th>\n",
              "    </tr>\n",
              "  </thead>\n",
              "  <tbody>\n",
              "    <tr>\n",
              "      <th>0</th>\n",
              "      <td>DeSota Wilson</td>\n",
              "      <td>Atlanta, GA</td>\n",
              "      <td>Biz Consultant, real estate, fintech, startups...</td>\n",
              "      <td>2009-04-26 20:05:09</td>\n",
              "      <td>8534.0</td>\n",
              "      <td>7605</td>\n",
              "      <td>4838</td>\n",
              "      <td>False</td>\n",
              "      <td>2021-02-10 23:59:04</td>\n",
              "      <td>Blue Ridge Bank shares halted by NYSE after #b...</td>\n",
              "      <td>['bitcoin']</td>\n",
              "      <td>Twitter Web App</td>\n",
              "      <td>False</td>\n",
              "    </tr>\n",
              "    <tr>\n",
              "      <th>1</th>\n",
              "      <td>CryptoND</td>\n",
              "      <td>None</td>\n",
              "      <td>😎 BITCOINLIVE is a Dutch platform aimed at inf...</td>\n",
              "      <td>2019-10-17 20:12:10</td>\n",
              "      <td>6769.0</td>\n",
              "      <td>1532</td>\n",
              "      <td>25483</td>\n",
              "      <td>False</td>\n",
              "      <td>2021-02-10 23:58:48</td>\n",
              "      <td>\"😎 Today, that's this #Thursday, we will do a ...</td>\n",
              "      <td>#Btc #wallet #security expe… https://t.co/go6...</td>\n",
              "      <td>['Thursday', 'Btc', 'wallet', 'security']</td>\n",
              "      <td>Twitter for Android</td>\n",
              "    </tr>\n",
              "    <tr>\n",
              "      <th>2</th>\n",
              "      <td>Tdlmatias</td>\n",
              "      <td>London, England</td>\n",
              "      <td>IM Academy : The best #forex, #SelfEducation, ...</td>\n",
              "      <td>2014-11-10 10:50:37</td>\n",
              "      <td>128.0</td>\n",
              "      <td>332</td>\n",
              "      <td>924</td>\n",
              "      <td>False</td>\n",
              "      <td>2021-02-10 23:54:48</td>\n",
              "      <td>Guys evening, I have read this article about B...</td>\n",
              "      <td>None</td>\n",
              "      <td>Twitter Web App</td>\n",
              "      <td>False</td>\n",
              "    </tr>\n",
              "    <tr>\n",
              "      <th>3</th>\n",
              "      <td>Crypto is the future</td>\n",
              "      <td>None</td>\n",
              "      <td>I will post a lot of buying signals for BTC tr...</td>\n",
              "      <td>2019-09-28 16:48:12</td>\n",
              "      <td>625.0</td>\n",
              "      <td>129</td>\n",
              "      <td>14</td>\n",
              "      <td>False</td>\n",
              "      <td>2021-02-10 23:54:33</td>\n",
              "      <td>$BTC A big chance in a billion! Price: \\487264...</td>\n",
              "      <td>['Bitcoin', 'FX', 'BTC', 'crypto']</td>\n",
              "      <td>dlvr.it</td>\n",
              "      <td>False</td>\n",
              "    </tr>\n",
              "    <tr>\n",
              "      <th>4</th>\n",
              "      <td>Alex Kirchmaier 🇦🇹🇸🇪 #FactsSuperspreader</td>\n",
              "      <td>Europa</td>\n",
              "      <td>Co-founder @RENJERJerky | Forbes 30Under30 | I...</td>\n",
              "      <td>None</td>\n",
              "      <td>None</td>\n",
              "      <td>None</td>\n",
              "      <td>None</td>\n",
              "      <td>None</td>\n",
              "      <td>None</td>\n",
              "      <td>None</td>\n",
              "      <td>None</td>\n",
              "      <td>None</td>\n",
              "      <td>None</td>\n",
              "    </tr>\n",
              "    <tr>\n",
              "      <th>5</th>\n",
              "      <td>#Bitcoin\"</td>\n",
              "      <td>2016-02-03 13:15:55</td>\n",
              "      <td>1249.0</td>\n",
              "      <td>1472</td>\n",
              "      <td>10482</td>\n",
              "      <td>False</td>\n",
              "      <td>2021-02-10 23:54:06</td>\n",
              "      <td>This network is secured by 9 508 nodes as of t...</td>\n",
              "      <td>['BTC']</td>\n",
              "      <td>Twitter Web App</td>\n",
              "      <td>False</td>\n",
              "      <td>None</td>\n",
              "      <td>None</td>\n",
              "    </tr>\n",
              "    <tr>\n",
              "      <th>6</th>\n",
              "      <td>ZerrBenz™ ⚔ ✪ 20732</td>\n",
              "      <td>Bkk, Thailand</td>\n",
              "      <td>I'm a cat slave 🐱 Interested in Blockchain · T...</td>\n",
              "      <td>2010-01-12 07:00:04</td>\n",
              "      <td>742.0</td>\n",
              "      <td>716</td>\n",
              "      <td>2444</td>\n",
              "      <td>False</td>\n",
              "      <td>2021-02-10 23:53:30</td>\n",
              "      <td>💹 Trade #Crypto on #Binance</td>\n",
              "      <td>None</td>\n",
              "      <td>None</td>\n",
              "      <td>None</td>\n",
              "    </tr>\n",
              "    <tr>\n",
              "      <th>7</th>\n",
              "      <td>📌 Enjoy #Cashback 10% of the Trading fee</td>\n",
              "      <td>None</td>\n",
              "      <td>None</td>\n",
              "      <td>None</td>\n",
              "      <td>None</td>\n",
              "      <td>None</td>\n",
              "      <td>None</td>\n",
              "      <td>None</td>\n",
              "      <td>None</td>\n",
              "      <td>None</td>\n",
              "      <td>None</td>\n",
              "      <td>None</td>\n",
              "      <td>None</td>\n",
              "    </tr>\n",
              "    <tr>\n",
              "      <th>8</th>\n",
              "      <td>📌 Sign up link 👉 https://t.co/T4WttWeohc… http...</td>\n",
              "      <td>['Crypto', 'Binance', 'Cashback']</td>\n",
              "      <td>Twitter Web App</td>\n",
              "      <td>False</td>\n",
              "      <td>None</td>\n",
              "      <td>None</td>\n",
              "      <td>None</td>\n",
              "      <td>None</td>\n",
              "      <td>None</td>\n",
              "      <td>None</td>\n",
              "      <td>None</td>\n",
              "      <td>None</td>\n",
              "      <td>None</td>\n",
              "    </tr>\n",
              "    <tr>\n",
              "      <th>9</th>\n",
              "      <td>Bitcoin-Bot</td>\n",
              "      <td>Florida, USA</td>\n",
              "      <td>Bot to generate Bitcoin picture as combination...</td>\n",
              "      <td>2019-12-23 16:49:16</td>\n",
              "      <td>131.0</td>\n",
              "      <td>84</td>\n",
              "      <td>5728</td>\n",
              "      <td>False</td>\n",
              "      <td>2021-02-10 23:53:17</td>\n",
              "      <td>&amp;lt;'fire' &amp;amp; 'man'&amp;gt;</td>\n",
              "      <td>None</td>\n",
              "      <td>None</td>\n",
              "      <td>None</td>\n",
              "    </tr>\n",
              "  </tbody>\n",
              "</table>\n",
              "</div>\n",
              "      <button class=\"colab-df-convert\" onclick=\"convertToInteractive('df-b2e9cd57-463a-465a-8be9-3cf7b172dc6c')\"\n",
              "              title=\"Convert this dataframe to an interactive table.\"\n",
              "              style=\"display:none;\">\n",
              "        \n",
              "  <svg xmlns=\"http://www.w3.org/2000/svg\" height=\"24px\"viewBox=\"0 0 24 24\"\n",
              "       width=\"24px\">\n",
              "    <path d=\"M0 0h24v24H0V0z\" fill=\"none\"/>\n",
              "    <path d=\"M18.56 5.44l.94 2.06.94-2.06 2.06-.94-2.06-.94-.94-2.06-.94 2.06-2.06.94zm-11 1L8.5 8.5l.94-2.06 2.06-.94-2.06-.94L8.5 2.5l-.94 2.06-2.06.94zm10 10l.94 2.06.94-2.06 2.06-.94-2.06-.94-.94-2.06-.94 2.06-2.06.94z\"/><path d=\"M17.41 7.96l-1.37-1.37c-.4-.4-.92-.59-1.43-.59-.52 0-1.04.2-1.43.59L10.3 9.45l-7.72 7.72c-.78.78-.78 2.05 0 2.83L4 21.41c.39.39.9.59 1.41.59.51 0 1.02-.2 1.41-.59l7.78-7.78 2.81-2.81c.8-.78.8-2.07 0-2.86zM5.41 20L4 18.59l7.72-7.72 1.47 1.35L5.41 20z\"/>\n",
              "  </svg>\n",
              "      </button>\n",
              "      \n",
              "  <style>\n",
              "    .colab-df-container {\n",
              "      display:flex;\n",
              "      flex-wrap:wrap;\n",
              "      gap: 12px;\n",
              "    }\n",
              "\n",
              "    .colab-df-convert {\n",
              "      background-color: #E8F0FE;\n",
              "      border: none;\n",
              "      border-radius: 50%;\n",
              "      cursor: pointer;\n",
              "      display: none;\n",
              "      fill: #1967D2;\n",
              "      height: 32px;\n",
              "      padding: 0 0 0 0;\n",
              "      width: 32px;\n",
              "    }\n",
              "\n",
              "    .colab-df-convert:hover {\n",
              "      background-color: #E2EBFA;\n",
              "      box-shadow: 0px 1px 2px rgba(60, 64, 67, 0.3), 0px 1px 3px 1px rgba(60, 64, 67, 0.15);\n",
              "      fill: #174EA6;\n",
              "    }\n",
              "\n",
              "    [theme=dark] .colab-df-convert {\n",
              "      background-color: #3B4455;\n",
              "      fill: #D2E3FC;\n",
              "    }\n",
              "\n",
              "    [theme=dark] .colab-df-convert:hover {\n",
              "      background-color: #434B5C;\n",
              "      box-shadow: 0px 1px 3px 1px rgba(0, 0, 0, 0.15);\n",
              "      filter: drop-shadow(0px 1px 2px rgba(0, 0, 0, 0.3));\n",
              "      fill: #FFFFFF;\n",
              "    }\n",
              "  </style>\n",
              "\n",
              "      <script>\n",
              "        const buttonEl =\n",
              "          document.querySelector('#df-b2e9cd57-463a-465a-8be9-3cf7b172dc6c button.colab-df-convert');\n",
              "        buttonEl.style.display =\n",
              "          google.colab.kernel.accessAllowed ? 'block' : 'none';\n",
              "\n",
              "        async function convertToInteractive(key) {\n",
              "          const element = document.querySelector('#df-b2e9cd57-463a-465a-8be9-3cf7b172dc6c');\n",
              "          const dataTable =\n",
              "            await google.colab.kernel.invokeFunction('convertToInteractive',\n",
              "                                                     [key], {});\n",
              "          if (!dataTable) return;\n",
              "\n",
              "          const docLinkHtml = 'Like what you see? Visit the ' +\n",
              "            '<a target=\"_blank\" href=https://colab.research.google.com/notebooks/data_table.ipynb>data table notebook</a>'\n",
              "            + ' to learn more about interactive tables.';\n",
              "          element.innerHTML = '';\n",
              "          dataTable['output_type'] = 'display_data';\n",
              "          await google.colab.output.renderOutput(dataTable, element);\n",
              "          const docLink = document.createElement('div');\n",
              "          docLink.innerHTML = docLinkHtml;\n",
              "          element.appendChild(docLink);\n",
              "        }\n",
              "      </script>\n",
              "    </div>\n",
              "  </div>\n",
              "  "
            ]
          },
          "metadata": {},
          "execution_count": 11
        }
      ],
      "source": [
        "#Read the csv and construct pyspark dataframe\n",
        "tweets_raw = spark.read.format(\"csv\").option(\"header\",\"true\").load(\"Bitcoin_tweets.csv\")\n",
        "tweets_raw = spark.read.csv(\"./Bitcoin_tweets.csv\")\n",
        "#better visual\n",
        "tweets_raw.limit(10).toPandas()"
      ]
    },
    {
      "cell_type": "markdown",
      "source": [
        "The dimension of raw dataset is (row =  11176654, columns = 13). The sample size exceeds the need of our project goal, which might lead to extremely high computational cost. "
      ],
      "metadata": {
        "id": "ftCAj80zQYx7"
      }
    },
    {
      "cell_type": "code",
      "source": [
        "print((tweets_raw.count(), len(tweets_raw.columns)))"
      ],
      "metadata": {
        "colab": {
          "base_uri": "https://localhost:8080/"
        },
        "id": "_oVFgI64QRvb",
        "outputId": "c66307a6-813e-400b-b519-f57868120683"
      },
      "execution_count": 6,
      "outputs": [
        {
          "output_type": "stream",
          "name": "stdout",
          "text": [
            "(11804338, 13)\n"
          ]
        }
      ]
    },
    {
      "cell_type": "markdown",
      "metadata": {
        "id": "1y5Cx7NCPasX"
      },
      "source": [
        "Therefore, we cleans up the dataframe by removing samples with missing value and performs type conversion on multiple columns. "
      ]
    },
    {
      "cell_type": "code",
      "execution_count": 7,
      "metadata": {
        "colab": {
          "base_uri": "https://localhost:8080/"
        },
        "id": "JOSGNVxwTygm",
        "outputId": "c102f865-3d23-41a4-f2b1-22e4bb0e289c"
      },
      "outputs": [
        {
          "output_type": "stream",
          "name": "stdout",
          "text": [
            "The total number of tweets is: 11804338\n",
            "The total number of tweets after cleaning the data types is 497152\n",
            "Percentage of tweets removed:  0.9578839575755964\n"
          ]
        }
      ],
      "source": [
        "import pyspark.sql.functions as F\n",
        "from pyspark.sql.types import IntegerType\n",
        "#Remove all null rows\n",
        "tweets = spark.sql(\"SELECT * FROM tweet WHERE user_name != 'null' AND user_description != 'null' \\\n",
        "AND user_location != 'null' AND user_created != 'null' AND user_followers != 'null' AND user_friends != 'null' \\\n",
        "AND user_favourites != 'null' AND user_verified != 'null' AND date != 'null' AND text != 'null'  AND hashtags != 'null' \\\n",
        "AND source != 'null' AND is_retweet != 'null'\")\n",
        "#Convert string into datetime for date col\n",
        "tweets = tweets.withColumn('date', F.to_timestamp('date', 'yyyy-MM-dd'))\n",
        "tweets = tweets.withColumn('user_created', F.to_timestamp('user_created', 'yyyy-MM-dd'))\n",
        "#Convert string to Number/Int\n",
        "tweets = tweets.withColumn(\"user_followers\", tweets[\"user_followers\"].cast(IntegerType()))\n",
        "tweets = tweets.withColumn(\"user_friends\", tweets[\"user_friends\"].cast(IntegerType()))\n",
        "tweets = tweets.withColumn(\"user_favourites\", tweets[\"user_favourites\"].cast(IntegerType()))\n",
        "#Remove all null convertions that occured\n",
        "tweets = tweets.filter(\"date is not NULL AND user_created is not NULL \\\n",
        "AND user_followers is not NULL AND user_friends is not NULL\")\n",
        "#Tweet left after cleaning\n",
        "tweets_left = tweets.count()\n",
        "#Total tweet\n",
        "tweets_total = tweets_raw.count()\n",
        "print(\"The total number of tweets is: \" + str(tweets_total))\n",
        "print(\"The total number of tweets after cleaning the data types is \" + str(tweets_left))\n",
        "print(\"Percentage of tweets removed: \", 1 - (tweets_left / tweets_total))"
      ]
    },
    {
      "cell_type": "markdown",
      "metadata": {
        "id": "U9WYfF1NPasa"
      },
      "source": [
        "#### Explanatory Data Analysis\n",
        "##### Categorical Data\n",
        "Standardlizing the \"user_location\" columns into countries using \"pycountry\" package. Using Pyspark RDDs interface to achieve parallel computing in the calculation of the frequencies of words in \"hashtage\", \"locations\", and \"source\", and \"user_name\""
      ]
    },
    {
      "cell_type": "code",
      "execution_count": 36,
      "metadata": {
        "id": "hlzGguljPasb"
      },
      "outputs": [],
      "source": [
        "from nltk.stem import PorterStemmer\n",
        "from CryptoTweets.otherstr import *\n",
        "from CryptoTweets.simple_tokenize import simple_tokenize\n",
        "# Functions can be found in otherstr.py file in Github\n",
        "# sources\n",
        "sor = source(tweets).collect()\n",
        "# Hashtages\n",
        "hashs =hashtags(tweets).collect()\n",
        "# verification\n",
        "verified = user_verified(tweets).collect()\n",
        "# user name\n",
        "name = user_name(tweets).collect()\n",
        "# Locations\n",
        "loca = user_location(tweets).collect()"
      ]
    },
    {
      "cell_type": "markdown",
      "source": [
        "Here is an example of the results from the above calculations. The number indicates the frequency of each category in the dataset."
      ],
      "metadata": {
        "id": "h1QDPJNHX3-L"
      }
    },
    {
      "cell_type": "code",
      "source": [
        "loca[:10]"
      ],
      "metadata": {
        "colab": {
          "base_uri": "https://localhost:8080/"
        },
        "id": "SUySA3bHVm9W",
        "outputId": "c6ecab85-f66b-43f3-c972-4a11bcf86b34"
      },
      "execution_count": 37,
      "outputs": [
        {
          "output_type": "execute_result",
          "data": {
            "text/plain": [
              "[('others', 397175),\n",
              " ('United States', 13592),\n",
              " ('United Kingdom', 9272),\n",
              " ('Canada', 8544),\n",
              " ('India', 7791),\n",
              " ('Australia', 4415),\n",
              " ('Bangladesh', 3545),\n",
              " ('South Africa', 3314),\n",
              " ('Niger', 3206),\n",
              " ('France', 2697)]"
            ]
          },
          "metadata": {},
          "execution_count": 37
        }
      ]
    },
    {
      "cell_type": "markdown",
      "metadata": {
        "id": "SnqImmNfPasc"
      },
      "source": [
        "Source (platform of original tweets)"
      ]
    },
    {
      "cell_type": "code",
      "execution_count": 38,
      "metadata": {
        "colab": {
          "base_uri": "https://localhost:8080/",
          "height": 297
        },
        "id": "IkT7g9M8Pasd",
        "outputId": "95da8cfd-7ec9-4885-9846-5baa35116924"
      },
      "outputs": [
        {
          "output_type": "display_data",
          "data": {
            "text/plain": [
              "<Figure size 432x288 with 1 Axes>"
            ],
            "image/png": "[encoded data removed]"
          },
          "metadata": {}
        }
      ],
      "source": [
        "import matplotlib.pyplot as plt\n",
        "# Plots for tweet source\n",
        "x_t,y_t = zip(*sor)\n",
        "\n",
        "fig1, ax1 = plt.subplots()\n",
        "explode = (0.05,0,0,0)\n",
        "colors = ['#8B0000','#db6777','#e6d1d4','#e8dcde']\n",
        "ax1.pie(y_t,labels=x_t, colors = colors,  autopct='%1.1f%%', startangle=90, pctdistance=0.85, explode = explode)\n",
        "\n",
        "#draw circle\n",
        "centre_circle = plt.Circle((0,0),0.70,fc='white')\n",
        "fig = plt.gcf()\n",
        "fig.gca().add_artist(centre_circle)\n",
        "\n",
        "# Equal aspect ratio ensures that pie is drawn as a circle\n",
        "ax1.axis('equal')  \n",
        "plt.tight_layout()\n",
        "plt.show()\n",
        "\n",
        "plt.show()"
      ]
    },
    {
      "cell_type": "markdown",
      "source": [
        "User Location"
      ],
      "metadata": {
        "id": "T1jG0AhHaqT0"
      }
    },
    {
      "cell_type": "code",
      "execution_count": 39,
      "metadata": {
        "colab": {
          "base_uri": "https://localhost:8080/",
          "height": 517
        },
        "id": "llSmIz6IPasd",
        "outputId": "55fb4c02-fee3-4e4f-8c94-090764547988"
      },
      "outputs": [
        {
          "output_type": "execute_result",
          "data": {
            "text/plain": [
              "<pyecharts.render.display.HTML at 0x7f1f33670990>"
            ],
            "text/html": [
              "\n",
              "<script>\n",
              "    require.config({\n",
              "        paths: {\n",
              "            'echarts':'https://assets.pyecharts.org/assets/echarts.min'\n",
              "        }\n",
              "    });\n",
              "</script>\n",
              "\n",
              "        <div id=\"3694d008dcd341dd95a7fcf0b2556564\" style=\"width:900px; height:500px;\"></div>\n",
              "\n",
              "<script>\n",
              "        require(['echarts'], function(echarts) {\n",
              "                var chart_3694d008dcd341dd95a7fcf0b2556564 = echarts.init(\n",
              "                    document.getElementById('3694d008dcd341dd95a7fcf0b2556564'), 'white', {renderer: 'canvas'});\n",
              "                var option_3694d008dcd341dd95a7fcf0b2556564 = {\n",
              "    \"animation\": true,\n",
              "    \"animationThreshold\": 2000,\n",
              "    \"animationDuration\": 1000,\n",
              "    \"animationEasing\": \"cubicOut\",\n",
              "    \"animationDelay\": 0,\n",
              "    \"animationDurationUpdate\": 300,\n",
              "    \"animationEasingUpdate\": \"cubicOut\",\n",
              "    \"animationDelayUpdate\": 0,\n",
              "    \"color\": [\n",
              "        \"#c23531\",\n",
              "        \"#2f4554\",\n",
              "        \"#61a0a8\",\n",
              "        \"#d48265\",\n",
              "        \"#749f83\",\n",
              "        \"#ca8622\",\n",
              "        \"#bda29a\",\n",
              "        \"#6e7074\",\n",
              "        \"#546570\",\n",
              "        \"#c4ccd3\",\n",
              "        \"#f05b72\",\n",
              "        \"#ef5b9c\",\n",
              "        \"#f47920\",\n",
              "        \"#905a3d\",\n",
              "        \"#fab27b\",\n",
              "        \"#2a5caa\",\n",
              "        \"#444693\",\n",
              "        \"#726930\",\n",
              "        \"#b2d235\",\n",
              "        \"#6d8346\",\n",
              "        \"#ac6767\",\n",
              "        \"#1d953f\",\n",
              "        \"#6950a1\",\n",
              "        \"#918597\"\n",
              "    ],\n",
              "    \"series\": [\n",
              "        {\n",
              "            \"type\": \"bar\",\n",
              "            \"name\": \"Frequency\",\n",
              "            \"legendHoverLink\": true,\n",
              "            \"data\": [\n",
              "                13592,\n",
              "                9272,\n",
              "                8544,\n",
              "                7791,\n",
              "                4415,\n",
              "                3545,\n",
              "                3314,\n",
              "                3206,\n",
              "                2697,\n",
              "                2642\n",
              "            ],\n",
              "            \"showBackground\": false,\n",
              "            \"barMinHeight\": 0,\n",
              "            \"barCategoryGap\": \"20%\",\n",
              "            \"barGap\": \"30%\",\n",
              "            \"large\": false,\n",
              "            \"largeThreshold\": 400,\n",
              "            \"seriesLayoutBy\": \"column\",\n",
              "            \"datasetIndex\": 0,\n",
              "            \"clip\": true,\n",
              "            \"zlevel\": 0,\n",
              "            \"z\": 2,\n",
              "            \"label\": {\n",
              "                \"show\": true,\n",
              "                \"position\": \"top\",\n",
              "                \"margin\": 8\n",
              "            }\n",
              "        }\n",
              "    ],\n",
              "    \"legend\": [\n",
              "        {\n",
              "            \"data\": [\n",
              "                \"Frequency\"\n",
              "            ],\n",
              "            \"selected\": {\n",
              "                \"Frequency\": true\n",
              "            },\n",
              "            \"show\": true,\n",
              "            \"padding\": 5,\n",
              "            \"itemGap\": 10,\n",
              "            \"itemWidth\": 25,\n",
              "            \"itemHeight\": 14\n",
              "        }\n",
              "    ],\n",
              "    \"tooltip\": {\n",
              "        \"show\": true,\n",
              "        \"trigger\": \"item\",\n",
              "        \"triggerOn\": \"mousemove|click\",\n",
              "        \"axisPointer\": {\n",
              "            \"type\": \"line\"\n",
              "        },\n",
              "        \"showContent\": true,\n",
              "        \"alwaysShowContent\": false,\n",
              "        \"showDelay\": 0,\n",
              "        \"hideDelay\": 100,\n",
              "        \"textStyle\": {\n",
              "            \"fontSize\": 14\n",
              "        },\n",
              "        \"borderWidth\": 0,\n",
              "        \"padding\": 5\n",
              "    },\n",
              "    \"xAxis\": [\n",
              "        {\n",
              "            \"show\": true,\n",
              "            \"scale\": false,\n",
              "            \"nameLocation\": \"end\",\n",
              "            \"nameGap\": 15,\n",
              "            \"gridIndex\": 0,\n",
              "            \"inverse\": false,\n",
              "            \"offset\": 0,\n",
              "            \"splitNumber\": 5,\n",
              "            \"minInterval\": 0,\n",
              "            \"splitLine\": {\n",
              "                \"show\": false,\n",
              "                \"lineStyle\": {\n",
              "                    \"show\": true,\n",
              "                    \"width\": 1,\n",
              "                    \"opacity\": 1,\n",
              "                    \"curveness\": 0,\n",
              "                    \"type\": \"solid\"\n",
              "                }\n",
              "            },\n",
              "            \"data\": [\n",
              "                \"United States\",\n",
              "                \"United Kingdom\",\n",
              "                \"Canada\",\n",
              "                \"India\",\n",
              "                \"Australia\",\n",
              "                \"Bangladesh\",\n",
              "                \"South Africa\",\n",
              "                \"Niger\",\n",
              "                \"France\",\n",
              "                \"Germany\"\n",
              "            ]\n",
              "        }\n",
              "    ],\n",
              "    \"yAxis\": [\n",
              "        {\n",
              "            \"show\": true,\n",
              "            \"scale\": false,\n",
              "            \"nameLocation\": \"end\",\n",
              "            \"nameGap\": 15,\n",
              "            \"gridIndex\": 0,\n",
              "            \"inverse\": false,\n",
              "            \"offset\": 0,\n",
              "            \"splitNumber\": 5,\n",
              "            \"minInterval\": 0,\n",
              "            \"splitLine\": {\n",
              "                \"show\": false,\n",
              "                \"lineStyle\": {\n",
              "                    \"show\": true,\n",
              "                    \"width\": 1,\n",
              "                    \"opacity\": 1,\n",
              "                    \"curveness\": 0,\n",
              "                    \"type\": \"solid\"\n",
              "                }\n",
              "            }\n",
              "        }\n",
              "    ],\n",
              "    \"title\": [\n",
              "        {\n",
              "            \"text\": \"Top 10 User Location\",\n",
              "            \"subtext\": \"standardization and removed others\",\n",
              "            \"padding\": 5,\n",
              "            \"itemGap\": 10\n",
              "        }\n",
              "    ]\n",
              "};\n",
              "                chart_3694d008dcd341dd95a7fcf0b2556564.setOption(option_3694d008dcd341dd95a7fcf0b2556564);\n",
              "        });\n",
              "    </script>\n"
            ]
          },
          "metadata": {},
          "execution_count": 39
        }
      ],
      "source": [
        "# Importing required library\n",
        "from pyecharts.charts import Bar\n",
        "from pyecharts import options as opts\n",
        "\n",
        "\n",
        "# Obtaining x and y axis from Location lists\n",
        "x_hash,y_hash = zip(*loca)\n",
        "bar = (\n",
        " Bar(init_opts=opts.InitOpts())\n",
        " .add_xaxis(x_hash[1:11])\n",
        " .add_yaxis(\"Frequency\",y_hash[1:11])\n",
        " .set_global_opts(title_opts=opts.TitleOpts(title=\"Top 10 User Location\", subtitle=\"standardization and removed others\"))\n",
        ")\n",
        "bar.render_notebook()\n"
      ]
    },
    {
      "cell_type": "markdown",
      "source": [
        "The non-interactive plot when the above interactive plot fail to load"
      ],
      "metadata": {
        "id": "e32WkCOmG_U2"
      }
    },
    {
      "cell_type": "code",
      "source": [
        "plt.xticks(\n",
        "    rotation=45, \n",
        "    horizontalalignment='right',\n",
        "    fontweight='light',\n",
        "    fontsize='x-large'  \n",
        ")\n",
        "\n",
        "plt.bar(x_hash[1:10], y_hash[1:10])\n",
        "plt.show()"
      ],
      "metadata": {
        "colab": {
          "base_uri": "https://localhost:8080/",
          "height": 347
        },
        "id": "nF_wUo-vG9Zr",
        "outputId": "5d37be73-5d83-4856-ec53-99b987513aa0"
      },
      "execution_count": 40,
      "outputs": [
        {
          "output_type": "display_data",
          "data": {
            "text/plain": [
              "<Figure size 432x288 with 1 Axes>"
            ],
            "image/png": "[encoded data removed]"
          },
          "metadata": {
            "needs_background": "light"
          }
        }
      ]
    },
    {
      "cell_type": "markdown",
      "source": [
        "User Verification"
      ],
      "metadata": {
        "id": "tuxQmvQvjpKt"
      }
    },
    {
      "cell_type": "code",
      "execution_count": 41,
      "metadata": {
        "colab": {
          "base_uri": "https://localhost:8080/",
          "height": 307
        },
        "id": "p0dqZLi1Pase",
        "outputId": "a4534b6e-2560-4776-c35e-dd8c858e986c"
      },
      "outputs": [
        {
          "output_type": "display_data",
          "data": {
            "text/plain": [
              "<Figure size 432x288 with 1 Axes>"
            ],
            "image/png": "[encoded data removed]"
          },
          "metadata": {}
        }
      ],
      "source": [
        "# Plots for verified\n",
        "x_t,y_t = zip(*verified)\n",
        "\n",
        "fig1, ax1 = plt.subplots()\n",
        "explode = (0, 0)\n",
        "colors = ['#6067e0','#fc0303']\n",
        "ax1.pie(y_t,labels=x_t, colors = colors, explode = explode, autopct='%1.1f%%',\n",
        "        shadow=True, startangle=90)\n",
        "ax1.axis('equal')  # Equal aspect ratio ensures that pie is drawn as a circle.\n",
        "#draw circle\n",
        "centre_circle = plt.Circle((0,0),0.70,fc='white')\n",
        "fig = plt.gcf()\n",
        "fig.gca().add_artist(centre_circle)\n",
        "\n",
        "# Equal aspect ratio ensures that pie is drawn as a circle\n",
        "ax1.axis('equal')  \n",
        "plt.tight_layout()\n",
        "plt.show()\n",
        "\n",
        "plt.show()"
      ]
    },
    {
      "cell_type": "markdown",
      "source": [
        "Hashtag (Response Variable)"
      ],
      "metadata": {
        "id": "kLd3_MyRq5pw"
      }
    },
    {
      "cell_type": "code",
      "source": [
        "# Counting the frequency of each hashtags\n",
        "x_hash,y_hash = zip(*hashs)\n",
        "bar = (\n",
        " Bar(init_opts=opts.InitOpts())\n",
        " .add_xaxis(x_hash[1:11])\n",
        " .add_yaxis(\"Frequency\",y_hash[1:11])\n",
        " .set_global_opts(title_opts=opts.TitleOpts(title=\"Top 10 Hashtags in the Tweets\"))\n",
        ")\n",
        "bar.render_notebook()"
      ],
      "metadata": {
        "colab": {
          "base_uri": "https://localhost:8080/",
          "height": 517
        },
        "id": "FbbO8pDeaXpO",
        "outputId": "0d2a2f53-bc37-4ca9-9c75-d9f09594cd14"
      },
      "execution_count": 42,
      "outputs": [
        {
          "output_type": "execute_result",
          "data": {
            "text/plain": [
              "<pyecharts.render.display.HTML at 0x7f1f33555090>"
            ],
            "text/html": [
              "\n",
              "<script>\n",
              "    require.config({\n",
              "        paths: {\n",
              "            'echarts':'https://assets.pyecharts.org/assets/echarts.min'\n",
              "        }\n",
              "    });\n",
              "</script>\n",
              "\n",
              "        <div id=\"8d97781c87bf495ca55aa7e8b30493a5\" style=\"width:900px; height:500px;\"></div>\n",
              "\n",
              "<script>\n",
              "        require(['echarts'], function(echarts) {\n",
              "                var chart_8d97781c87bf495ca55aa7e8b30493a5 = echarts.init(\n",
              "                    document.getElementById('8d97781c87bf495ca55aa7e8b30493a5'), 'white', {renderer: 'canvas'});\n",
              "                var option_8d97781c87bf495ca55aa7e8b30493a5 = {\n",
              "    \"animation\": true,\n",
              "    \"animationThreshold\": 2000,\n",
              "    \"animationDuration\": 1000,\n",
              "    \"animationEasing\": \"cubicOut\",\n",
              "    \"animationDelay\": 0,\n",
              "    \"animationDurationUpdate\": 300,\n",
              "    \"animationEasingUpdate\": \"cubicOut\",\n",
              "    \"animationDelayUpdate\": 0,\n",
              "    \"color\": [\n",
              "        \"#c23531\",\n",
              "        \"#2f4554\",\n",
              "        \"#61a0a8\",\n",
              "        \"#d48265\",\n",
              "        \"#749f83\",\n",
              "        \"#ca8622\",\n",
              "        \"#bda29a\",\n",
              "        \"#6e7074\",\n",
              "        \"#546570\",\n",
              "        \"#c4ccd3\",\n",
              "        \"#f05b72\",\n",
              "        \"#ef5b9c\",\n",
              "        \"#f47920\",\n",
              "        \"#905a3d\",\n",
              "        \"#fab27b\",\n",
              "        \"#2a5caa\",\n",
              "        \"#444693\",\n",
              "        \"#726930\",\n",
              "        \"#b2d235\",\n",
              "        \"#6d8346\",\n",
              "        \"#ac6767\",\n",
              "        \"#1d953f\",\n",
              "        \"#6950a1\",\n",
              "        \"#918597\"\n",
              "    ],\n",
              "    \"series\": [\n",
              "        {\n",
              "            \"type\": \"bar\",\n",
              "            \"name\": \"Frequency\",\n",
              "            \"legendHoverLink\": true,\n",
              "            \"data\": [\n",
              "                171516,\n",
              "                76007,\n",
              "                41042,\n",
              "                33246,\n",
              "                22127,\n",
              "                20762,\n",
              "                18837,\n",
              "                17877,\n",
              "                14717,\n",
              "                12045\n",
              "            ],\n",
              "            \"showBackground\": false,\n",
              "            \"barMinHeight\": 0,\n",
              "            \"barCategoryGap\": \"20%\",\n",
              "            \"barGap\": \"30%\",\n",
              "            \"large\": false,\n",
              "            \"largeThreshold\": 400,\n",
              "            \"seriesLayoutBy\": \"column\",\n",
              "            \"datasetIndex\": 0,\n",
              "            \"clip\": true,\n",
              "            \"zlevel\": 0,\n",
              "            \"z\": 2,\n",
              "            \"label\": {\n",
              "                \"show\": true,\n",
              "                \"position\": \"top\",\n",
              "                \"margin\": 8\n",
              "            }\n",
              "        }\n",
              "    ],\n",
              "    \"legend\": [\n",
              "        {\n",
              "            \"data\": [\n",
              "                \"Frequency\"\n",
              "            ],\n",
              "            \"selected\": {\n",
              "                \"Frequency\": true\n",
              "            },\n",
              "            \"show\": true,\n",
              "            \"padding\": 5,\n",
              "            \"itemGap\": 10,\n",
              "            \"itemWidth\": 25,\n",
              "            \"itemHeight\": 14\n",
              "        }\n",
              "    ],\n",
              "    \"tooltip\": {\n",
              "        \"show\": true,\n",
              "        \"trigger\": \"item\",\n",
              "        \"triggerOn\": \"mousemove|click\",\n",
              "        \"axisPointer\": {\n",
              "            \"type\": \"line\"\n",
              "        },\n",
              "        \"showContent\": true,\n",
              "        \"alwaysShowContent\": false,\n",
              "        \"showDelay\": 0,\n",
              "        \"hideDelay\": 100,\n",
              "        \"textStyle\": {\n",
              "            \"fontSize\": 14\n",
              "        },\n",
              "        \"borderWidth\": 0,\n",
              "        \"padding\": 5\n",
              "    },\n",
              "    \"xAxis\": [\n",
              "        {\n",
              "            \"show\": true,\n",
              "            \"scale\": false,\n",
              "            \"nameLocation\": \"end\",\n",
              "            \"nameGap\": 15,\n",
              "            \"gridIndex\": 0,\n",
              "            \"inverse\": false,\n",
              "            \"offset\": 0,\n",
              "            \"splitNumber\": 5,\n",
              "            \"minInterval\": 0,\n",
              "            \"splitLine\": {\n",
              "                \"show\": false,\n",
              "                \"lineStyle\": {\n",
              "                    \"show\": true,\n",
              "                    \"width\": 1,\n",
              "                    \"opacity\": 1,\n",
              "                    \"curveness\": 0,\n",
              "                    \"type\": \"solid\"\n",
              "                }\n",
              "            },\n",
              "            \"data\": [\n",
              "                \"cryptocurrency\",\n",
              "                \"etherenum\",\n",
              "                \"dogecoin\",\n",
              "                \"binanc\",\n",
              "                \"nft\",\n",
              "                \"blockchain\",\n",
              "                \"gift\",\n",
              "                \"shop\",\n",
              "                \"altcoin\",\n",
              "                \"affiliatemarket\"\n",
              "            ]\n",
              "        }\n",
              "    ],\n",
              "    \"yAxis\": [\n",
              "        {\n",
              "            \"show\": true,\n",
              "            \"scale\": false,\n",
              "            \"nameLocation\": \"end\",\n",
              "            \"nameGap\": 15,\n",
              "            \"gridIndex\": 0,\n",
              "            \"inverse\": false,\n",
              "            \"offset\": 0,\n",
              "            \"splitNumber\": 5,\n",
              "            \"minInterval\": 0,\n",
              "            \"splitLine\": {\n",
              "                \"show\": false,\n",
              "                \"lineStyle\": {\n",
              "                    \"show\": true,\n",
              "                    \"width\": 1,\n",
              "                    \"opacity\": 1,\n",
              "                    \"curveness\": 0,\n",
              "                    \"type\": \"solid\"\n",
              "                }\n",
              "            }\n",
              "        }\n",
              "    ],\n",
              "    \"title\": [\n",
              "        {\n",
              "            \"text\": \"Top 10 Hashtags in the Tweets\",\n",
              "            \"padding\": 5,\n",
              "            \"itemGap\": 10\n",
              "        }\n",
              "    ]\n",
              "};\n",
              "                chart_8d97781c87bf495ca55aa7e8b30493a5.setOption(option_8d97781c87bf495ca55aa7e8b30493a5);\n",
              "        });\n",
              "    </script>\n"
            ]
          },
          "metadata": {},
          "execution_count": 42
        }
      ]
    },
    {
      "cell_type": "markdown",
      "source": [
        "The non-interactive plot when the above interactive plot fail to load"
      ],
      "metadata": {
        "id": "m3chL3b-HPsM"
      }
    },
    {
      "cell_type": "code",
      "source": [
        "plt.xticks(\n",
        "    rotation=45, \n",
        "    horizontalalignment='right',\n",
        "    fontweight='light',\n",
        "    fontsize='x-large'  \n",
        ")\n",
        "\n",
        "plt.bar(x_hash[1:10], y_hash[1:10])\n",
        "plt.show()"
      ],
      "metadata": {
        "colab": {
          "base_uri": "https://localhost:8080/",
          "height": 342
        },
        "id": "Fb2jG8CjHTle",
        "outputId": "2b8d17e5-5a60-428e-aa83-b426391fbc5d"
      },
      "execution_count": 43,
      "outputs": [
        {
          "output_type": "display_data",
          "data": {
            "text/plain": [
              "<Figure size 432x288 with 1 Axes>"
            ],
            "image/png": "[encoded data removed]"
          },
          "metadata": {
            "needs_background": "light"
          }
        }
      ]
    },
    {
      "cell_type": "markdown",
      "source": [
        "We decides to use four of the most frequent hashtags and \"bitcoin\" as our five response variables for text classification in supervised learning. Therefore, the goal is to classify each tweet into one of the five categories using the trained model in the future sections. "
      ],
      "metadata": {
        "id": "ZNPWRTfNq_5S"
      }
    },
    {
      "cell_type": "markdown",
      "metadata": {
        "id": "_bT8bWmRPasg"
      },
      "source": [
        "##### Numerical Variables\n",
        "Performing calculation on numerical variables in the dataset, such as \"Post date\", \"user created date\", \"Number of followers\", and others. Obtaining the frequency of possible values in the samples."
      ]
    },
    {
      "cell_type": "markdown",
      "metadata": {
        "id": "WdjkoD3WPasi"
      },
      "source": [
        "Number of tweets in recent two years"
      ]
    },
    {
      "cell_type": "code",
      "source": [
        "date_count = tweets.select(\"date\").rdd.flatMap(lambda row: [(row[0], 1)]).\\\n",
        "    reduceByKey(lambda x,y: x+y).sortBy(lambda x: x[0]).collect()\n",
        "date_x, date_y = zip(*date_count)\n",
        "plt.figure(figsize=(15, 5))\n",
        "plt.plot(date_x, date_y)\n",
        "plt.title('Total tweets by Date')\n",
        "plt.xlabel('Date')\n",
        "plt.ylabel('Number of Tweets')\n",
        "plt.show()"
      ],
      "metadata": {
        "colab": {
          "base_uri": "https://localhost:8080/",
          "height": 350
        },
        "id": "ve6Sy2tooMS1",
        "outputId": "611ee93f-ee76-4aea-ba4b-f1e7716e55a3"
      },
      "execution_count": 44,
      "outputs": [
        {
          "output_type": "display_data",
          "data": {
            "text/plain": [
              "<Figure size 1080x360 with 1 Axes>"
            ],
            "image/png": "[encoded data removed]"
          },
          "metadata": {
            "needs_background": "light"
          }
        }
      ]
    },
    {
      "cell_type": "markdown",
      "source": [
        "We also performed the time series decomposition on the samples to check possible seasonal patterns and trends.\n",
        "\n",
        "\n"
      ],
      "metadata": {
        "id": "j8JqypRF9qpe"
      }
    },
    {
      "cell_type": "code",
      "source": [
        "import pandas as pd\n",
        "from statsmodels.tsa.seasonal import seasonal_decompose\n",
        "series = pd.DataFrame(date_count)\n",
        "result = seasonal_decompose(series[1], model='additive', freq=12)\n",
        "result.plot()\n",
        "plt.show()"
      ],
      "metadata": {
        "colab": {
          "base_uri": "https://localhost:8080/",
          "height": 297
        },
        "id": "TIKARYcV2Rg7",
        "outputId": "d1d2b39a-51e5-4b80-e624-b708a0946d61"
      },
      "execution_count": 46,
      "outputs": [
        {
          "output_type": "display_data",
          "data": {
            "text/plain": [
              "<Figure size 432x288 with 4 Axes>"
            ],
            "image/png": "[encoded data removed]"
          },
          "metadata": {
            "needs_background": "light"
          }
        }
      ]
    },
    {
      "cell_type": "markdown",
      "source": [
        "There is an increasing trend at the beginning of the plot with a very low residual. However, there is no clear pattern after 07/2021."
      ],
      "metadata": {
        "id": "wsS3C3JzABnL"
      }
    },
    {
      "cell_type": "markdown",
      "source": [
        "Account Created Date\n",
        "\n",
        "Applying Log transformation to the number of account."
      ],
      "metadata": {
        "id": "Kjilxrzq_DRm"
      }
    },
    {
      "cell_type": "code",
      "source": [
        "from numpy import log as ln\n",
        "created_count = tweets.select(\"user_created\").rdd.flatMap(lambda row: [(row[0], 1)]).\\\n",
        "reduceByKey(lambda x,y: x+y).sortBy(lambda x: x[0]).collect()\n",
        "#Convert list of tuple into two lists\n",
        "date_x, date_y = zip(*created_count )\n",
        "plt.figure(figsize=(15, 5))\n",
        "plt.plot(date_x, ln(date_y))\n",
        "plt.title('Total Account Created by Date')\n",
        "plt.xlabel('Date')\n",
        "plt.ylabel('Number of Account')\n",
        "plt.show()"
      ],
      "metadata": {
        "colab": {
          "base_uri": "https://localhost:8080/",
          "height": 350
        },
        "id": "JH2GaHEn_q1Y",
        "outputId": "b17f282f-9a4a-4ab3-cdaa-0c42522d943e"
      },
      "execution_count": 47,
      "outputs": [
        {
          "output_type": "display_data",
          "data": {
            "text/plain": [
              "<Figure size 1080x360 with 1 Axes>"
            ],
            "image/png": "[encoded data removed]"
          },
          "metadata": {
            "needs_background": "light"
          }
        }
      ]
    },
    {
      "cell_type": "code",
      "source": [
        "series = pd.DataFrame(created_count)\n",
        "result = seasonal_decompose(ln(series[1]), model='additive', freq=12)\n",
        "result.plot()\n",
        "plt.show()"
      ],
      "metadata": {
        "colab": {
          "base_uri": "https://localhost:8080/",
          "height": 297
        },
        "id": "7pEUwNOFlv_X",
        "outputId": "891692bf-c027-48f2-9d74-703a8d2346ae"
      },
      "execution_count": 48,
      "outputs": [
        {
          "output_type": "display_data",
          "data": {
            "text/plain": [
              "<Figure size 432x288 with 4 Axes>"
            ],
            "image/png": "[encoded data removed]"
          },
          "metadata": {
            "needs_background": "light"
          }
        }
      ]
    },
    {
      "cell_type": "markdown",
      "source": [
        "There is no significant evidence in the time series decomposition to support the existence of a seasonal pattern in the samples."
      ],
      "metadata": {
        "id": "UrN1Fy-Fnu7M"
      }
    },
    {
      "cell_type": "markdown",
      "source": [
        "Number of followers of each tweet user"
      ],
      "metadata": {
        "id": "3LA2ShFyZMO9"
      }
    },
    {
      "cell_type": "code",
      "execution_count": 49,
      "metadata": {
        "colab": {
          "base_uri": "https://localhost:8080/",
          "height": 312
        },
        "id": "sSlLa0caPasj",
        "outputId": "653fa8e1-0656-4f4c-9ea2-760c8788c9d1"
      },
      "outputs": [
        {
          "output_type": "display_data",
          "data": {
            "text/plain": [
              "<Figure size 432x288 with 1 Axes>"
            ],
            "image/png": "[encoded data removed]"
          },
          "metadata": {}
        }
      ],
      "source": [
        "#Get the count of number of friends for the accounts\n",
        "def checker(x):\n",
        "  if x[0] < 50:\n",
        "    return ('1',x[1])\n",
        "  elif x[0] < 100:\n",
        "    return ('2',x[1])\n",
        "  elif x[0] < 200:\n",
        "    return ('3',x[1])\n",
        "  elif x[0] < 1000:\n",
        "    return ('4',x[1])\n",
        "  else:\n",
        "    return ('5',x[1])\n",
        "friends = tweets.select(\"user_friends\").rdd.flatMap(lambda row: [(row[0], 1)])\\\n",
        "    .map(lambda x: checker(x)).reduceByKey(lambda x,y: x+y).collect()\n",
        "#Convert list of tuple into two lists\n",
        "friends_x, friends_y = zip(*friends)\n",
        "fig1, ax1 = plt.subplots()\n",
        "colors = ['#ffbaba','#ff7b7b','#ff5252','#ff0000','#a70000']\n",
        "ax1.pie(friends_y,labels=['< 50','50-100','100-200','200-1000','>1000'], \\\n",
        "        autopct='%1.1f%%', colors = colors, startangle=90, pctdistance=0.85)\n",
        "\n",
        "#draw circle\n",
        "centre_circle = plt.Circle((0,0),0.70,fc='white')\n",
        "fig = plt.gcf()\n",
        "fig.gca().add_artist(centre_circle)\n",
        "\n",
        "# Equal aspect ratio ensures that pie is drawn as a circle\n",
        "ax1.axis('equal')  \n",
        "\n",
        "plt.tight_layout()\n",
        "plt.title('Total number of followers')\n",
        "plt.show()"
      ]
    },
    {
      "cell_type": "markdown",
      "source": [
        "#### Data cleaning for text classification\n",
        "After data analysis, we found that some variables can be cleaned into a more suitable format for machine learning. For example, the response variables \"hashtag\" can be eliminated into five categories. And the variable \"sources\" is a categorical variable with four levels. We converted it into indicator variables.\n"
      ],
      "metadata": {
        "id": "FZd8dGAwiRX_"
      }
    },
    {
      "cell_type": "code",
      "source": [
        "from pyspark.sql.functions import when\n",
        "from pyspark.sql.functions import monotonically_increasing_id\n",
        "from pyspark.sql.functions import udf\n",
        "from pyspark.sql.functions import year,month\n",
        "from pyspark.sql import functions as F\n",
        "\n",
        "# Cleaning response variables\n",
        "tweet_ml = tweets.withColumn('hashtags', when(tweets.hashtags.contains(\"dog\"),'Dogecoin').\\\n",
        "                              when(tweets.hashtags.contains(\"eth\"),'Etherenum').\\\n",
        "                              when(tweets.hashtags.contains(\"bnb\"),\"binance\").\\\n",
        "                              when(tweets.hashtags.contains(\"bin\"),\"binance\").\\\n",
        "                              when(tweets.hashtags.contains(\"crypto\"),'Cryptocurrency').\\\n",
        "                              when(tweets.hashtags.contains(\"btc\"),'Bitcoin').\\\n",
        "                              otherwise('other'))\n",
        "\n",
        "# Assigning unique_id to each row\n",
        "unique_id = monotonically_increasing_id()\n",
        "tweet_ml = tweet_ml.select(\"*\").withColumn(\"id\", unique_id)\n",
        "\n",
        "# Cleaning locations\n",
        "import pycountry\n",
        "def get_country(x):\n",
        "  for country in pycountry.countries:\n",
        "    if country.name in x:\n",
        "      return country.name\n",
        "  return \"others\"\n",
        "get_countryudf = udf(lambda z: get_country(z))\n",
        "\n",
        "#Creating indicator variables for categorical variables data\n",
        "tweet_ml = tweet_ml.na.drop().withColumn(\"user_location\", get_countryudf(\"user_location\"))\\\n",
        ".withColumn('user_verified', when(tweets.user_verified.contains(\"True\"),1).otherwise(0))\\\n",
        ".withColumn(\"source_Iphone\", when(tweets.source.contains(\"iPhone\"),1).otherwise(0))\\\n",
        ".withColumn(\"source_Web\", when(tweets.source.contains(\"Web\"),1).otherwise(0))\\\n",
        ".withColumn(\"source_Android\", when(tweets.source.contains(\"Android\"),1).otherwise(0))\\\n",
        ".withColumn(\"post_year\",year(tweet_ml.date))\\\n",
        ".withColumn(\"post_month\",month(tweet_ml.date))\\\n",
        ".withColumn(\"created_year\",year(tweet_ml.user_created))\\\n",
        ".withColumn(\"created_month\",month(tweet_ml.user_created)).drop('is_retweet','user_name',\"user_created\",\"date\",\"source\")\n",
        "# better visual\n",
        "tweet_ml.limit(5).toPandas()"
      ],
      "metadata": {
        "colab": {
          "base_uri": "https://localhost:8080/",
          "height": 1000
        },
        "id": "x4KnIw_VjN6s",
        "outputId": "f4f276f3-336b-4313-f0bd-79448b30b6af"
      },
      "execution_count": 52,
      "outputs": [
        {
          "output_type": "execute_result",
          "data": {
            "text/plain": [
              "  user_location                                   user_description  \\\n",
              "0        others  Biz Consultant, real estate, fintech, startups...   \n",
              "1        others  Biz Consultant, real estate, fintech, startups...   \n",
              "2        others  Persistent. to the extreme... #FREEPALESTINE #...   \n",
              "3        others                                           #Bitcoin   \n",
              "4        others  Biz Consultant, real estate, fintech, startups...   \n",
              "5        others                           CEO & PRESIDENT SG GROUP   \n",
              "6        others  Biz Consultant, real estate, fintech, startups...   \n",
              "7      Portugal  #bitcoin Entrepreneur, Master in Communication...   \n",
              "8        others  Biz Consultant, real estate, fintech, startups...   \n",
              "9        others  One bet every day. Join our team and become pa...   \n",
              "\n",
              "   user_followers  user_friends  user_favourites  user_verified  \\\n",
              "0            8534          7605             4838              0   \n",
              "1            8534          7605             4838              0   \n",
              "2            1159          2185            30852              0   \n",
              "3               4            32              139              0   \n",
              "4            8534          7605             4838              0   \n",
              "5              62           288             2656              0   \n",
              "6            8534          7605             4838              0   \n",
              "7             872           158             1080              0   \n",
              "8            8534          7605             4838              0   \n",
              "9            2019           104               71              0   \n",
              "\n",
              "                                                text        hashtags  id  \\\n",
              "0  Blue Ridge Bank shares halted by NYSE after #b...           other   0   \n",
              "1  .@Tesla’s #bitcoin investment is revolutionary...  Cryptocurrency   1   \n",
              "2  Annnd #btc #Bitcoin is headed even higher now....         Bitcoin   2   \n",
              "3  Buy #Bitcoin with 5% LIFETIME cashback on fees...  Cryptocurrency   3   \n",
              "4  #Bitcoin institutional demand accelerates in 2...  Cryptocurrency   4   \n",
              "5  #Bitcoin #BTC #ADA #DOT Mastercard Will Let Me...           other   5   \n",
              "6  After @Tesla: @Twitter considers adding #bitco...           other   6   \n",
              "7  #BTC/USD 4H. #Bitcoin consolidating between su...           other   7   \n",
              "8  The @Grayscale #Bitcoin Trust: What it is and ...           other   8   \n",
              "9  We accept #Bitcoin, #BitcoinCash #Litecoin and...        Dogecoin   9   \n",
              "\n",
              "   source_Iphone  source_Web  source_Android  post_year  post_month  \\\n",
              "0              0           1               0       2021           2   \n",
              "1              0           1               0       2021           2   \n",
              "2              0           1               0       2021           2   \n",
              "3              0           1               0       2021           2   \n",
              "4              0           1               0       2021           2   \n",
              "5              1           0               0       2021           2   \n",
              "6              0           1               0       2021           2   \n",
              "7              0           0               0       2021           2   \n",
              "8              0           1               0       2021           2   \n",
              "9              0           1               0       2021           2   \n",
              "\n",
              "   created_year  created_month  \n",
              "0          2009              4  \n",
              "1          2009              4  \n",
              "2          2009              1  \n",
              "3          2010              7  \n",
              "4          2009              4  \n",
              "5          2009              6  \n",
              "6          2009              4  \n",
              "7          2020              9  \n",
              "8          2009              4  \n",
              "9          2014             12  "
            ],
            "text/html": [
              "\n",
              "  <div id=\"df-eca29686-df36-4fbd-afd5-c88e322b5724\">\n",
              "    <div class=\"colab-df-container\">\n",
              "      <div>\n",
              "<style scoped>\n",
              "    .dataframe tbody tr th:only-of-type {\n",
              "        vertical-align: middle;\n",
              "    }\n",
              "\n",
              "    .dataframe tbody tr th {\n",
              "        vertical-align: top;\n",
              "    }\n",
              "\n",
              "    .dataframe thead th {\n",
              "        text-align: right;\n",
              "    }\n",
              "</style>\n",
              "<table border=\"1\" class=\"dataframe\">\n",
              "  <thead>\n",
              "    <tr style=\"text-align: right;\">\n",
              "      <th></th>\n",
              "      <th>user_location</th>\n",
              "      <th>user_description</th>\n",
              "      <th>user_followers</th>\n",
              "      <th>user_friends</th>\n",
              "      <th>user_favourites</th>\n",
              "      <th>user_verified</th>\n",
              "      <th>text</th>\n",
              "      <th>hashtags</th>\n",
              "      <th>id</th>\n",
              "      <th>source_Iphone</th>\n",
              "      <th>source_Web</th>\n",
              "      <th>source_Android</th>\n",
              "      <th>post_year</th>\n",
              "      <th>post_month</th>\n",
              "      <th>created_year</th>\n",
              "      <th>created_month</th>\n",
              "    </tr>\n",
              "  </thead>\n",
              "  <tbody>\n",
              "    <tr>\n",
              "      <th>0</th>\n",
              "      <td>others</td>\n",
              "      <td>Biz Consultant, real estate, fintech, startups...</td>\n",
              "      <td>8534</td>\n",
              "      <td>7605</td>\n",
              "      <td>4838</td>\n",
              "      <td>0</td>\n",
              "      <td>Blue Ridge Bank shares halted by NYSE after #b...</td>\n",
              "      <td>other</td>\n",
              "      <td>0</td>\n",
              "      <td>0</td>\n",
              "      <td>1</td>\n",
              "      <td>0</td>\n",
              "      <td>2021</td>\n",
              "      <td>2</td>\n",
              "      <td>2009</td>\n",
              "      <td>4</td>\n",
              "    </tr>\n",
              "    <tr>\n",
              "      <th>1</th>\n",
              "      <td>others</td>\n",
              "      <td>Biz Consultant, real estate, fintech, startups...</td>\n",
              "      <td>8534</td>\n",
              "      <td>7605</td>\n",
              "      <td>4838</td>\n",
              "      <td>0</td>\n",
              "      <td>.@Tesla’s #bitcoin investment is revolutionary...</td>\n",
              "      <td>Cryptocurrency</td>\n",
              "      <td>1</td>\n",
              "      <td>0</td>\n",
              "      <td>1</td>\n",
              "      <td>0</td>\n",
              "      <td>2021</td>\n",
              "      <td>2</td>\n",
              "      <td>2009</td>\n",
              "      <td>4</td>\n",
              "    </tr>\n",
              "    <tr>\n",
              "      <th>2</th>\n",
              "      <td>others</td>\n",
              "      <td>Persistent. to the extreme... #FREEPALESTINE #...</td>\n",
              "      <td>1159</td>\n",
              "      <td>2185</td>\n",
              "      <td>30852</td>\n",
              "      <td>0</td>\n",
              "      <td>Annnd #btc #Bitcoin is headed even higher now....</td>\n",
              "      <td>Bitcoin</td>\n",
              "      <td>2</td>\n",
              "      <td>0</td>\n",
              "      <td>1</td>\n",
              "      <td>0</td>\n",
              "      <td>2021</td>\n",
              "      <td>2</td>\n",
              "      <td>2009</td>\n",
              "      <td>1</td>\n",
              "    </tr>\n",
              "    <tr>\n",
              "      <th>3</th>\n",
              "      <td>others</td>\n",
              "      <td>#Bitcoin</td>\n",
              "      <td>4</td>\n",
              "      <td>32</td>\n",
              "      <td>139</td>\n",
              "      <td>0</td>\n",
              "      <td>Buy #Bitcoin with 5% LIFETIME cashback on fees...</td>\n",
              "      <td>Cryptocurrency</td>\n",
              "      <td>3</td>\n",
              "      <td>0</td>\n",
              "      <td>1</td>\n",
              "      <td>0</td>\n",
              "      <td>2021</td>\n",
              "      <td>2</td>\n",
              "      <td>2010</td>\n",
              "      <td>7</td>\n",
              "    </tr>\n",
              "    <tr>\n",
              "      <th>4</th>\n",
              "      <td>others</td>\n",
              "      <td>Biz Consultant, real estate, fintech, startups...</td>\n",
              "      <td>8534</td>\n",
              "      <td>7605</td>\n",
              "      <td>4838</td>\n",
              "      <td>0</td>\n",
              "      <td>#Bitcoin institutional demand accelerates in 2...</td>\n",
              "      <td>Cryptocurrency</td>\n",
              "      <td>4</td>\n",
              "      <td>0</td>\n",
              "      <td>1</td>\n",
              "      <td>0</td>\n",
              "      <td>2021</td>\n",
              "      <td>2</td>\n",
              "      <td>2009</td>\n",
              "      <td>4</td>\n",
              "    </tr>\n",
              "    <tr>\n",
              "      <th>5</th>\n",
              "      <td>others</td>\n",
              "      <td>CEO &amp; PRESIDENT SG GROUP</td>\n",
              "      <td>62</td>\n",
              "      <td>288</td>\n",
              "      <td>2656</td>\n",
              "      <td>0</td>\n",
              "      <td>#Bitcoin #BTC #ADA #DOT Mastercard Will Let Me...</td>\n",
              "      <td>other</td>\n",
              "      <td>5</td>\n",
              "      <td>1</td>\n",
              "      <td>0</td>\n",
              "      <td>0</td>\n",
              "      <td>2021</td>\n",
              "      <td>2</td>\n",
              "      <td>2009</td>\n",
              "      <td>6</td>\n",
              "    </tr>\n",
              "    <tr>\n",
              "      <th>6</th>\n",
              "      <td>others</td>\n",
              "      <td>Biz Consultant, real estate, fintech, startups...</td>\n",
              "      <td>8534</td>\n",
              "      <td>7605</td>\n",
              "      <td>4838</td>\n",
              "      <td>0</td>\n",
              "      <td>After @Tesla: @Twitter considers adding #bitco...</td>\n",
              "      <td>other</td>\n",
              "      <td>6</td>\n",
              "      <td>0</td>\n",
              "      <td>1</td>\n",
              "      <td>0</td>\n",
              "      <td>2021</td>\n",
              "      <td>2</td>\n",
              "      <td>2009</td>\n",
              "      <td>4</td>\n",
              "    </tr>\n",
              "    <tr>\n",
              "      <th>7</th>\n",
              "      <td>Portugal</td>\n",
              "      <td>#bitcoin Entrepreneur, Master in Communication...</td>\n",
              "      <td>872</td>\n",
              "      <td>158</td>\n",
              "      <td>1080</td>\n",
              "      <td>0</td>\n",
              "      <td>#BTC/USD 4H. #Bitcoin consolidating between su...</td>\n",
              "      <td>other</td>\n",
              "      <td>7</td>\n",
              "      <td>0</td>\n",
              "      <td>0</td>\n",
              "      <td>0</td>\n",
              "      <td>2021</td>\n",
              "      <td>2</td>\n",
              "      <td>2020</td>\n",
              "      <td>9</td>\n",
              "    </tr>\n",
              "    <tr>\n",
              "      <th>8</th>\n",
              "      <td>others</td>\n",
              "      <td>Biz Consultant, real estate, fintech, startups...</td>\n",
              "      <td>8534</td>\n",
              "      <td>7605</td>\n",
              "      <td>4838</td>\n",
              "      <td>0</td>\n",
              "      <td>The @Grayscale #Bitcoin Trust: What it is and ...</td>\n",
              "      <td>other</td>\n",
              "      <td>8</td>\n",
              "      <td>0</td>\n",
              "      <td>1</td>\n",
              "      <td>0</td>\n",
              "      <td>2021</td>\n",
              "      <td>2</td>\n",
              "      <td>2009</td>\n",
              "      <td>4</td>\n",
              "    </tr>\n",
              "    <tr>\n",
              "      <th>9</th>\n",
              "      <td>others</td>\n",
              "      <td>One bet every day. Join our team and become pa...</td>\n",
              "      <td>2019</td>\n",
              "      <td>104</td>\n",
              "      <td>71</td>\n",
              "      <td>0</td>\n",
              "      <td>We accept #Bitcoin, #BitcoinCash #Litecoin and...</td>\n",
              "      <td>Dogecoin</td>\n",
              "      <td>9</td>\n",
              "      <td>0</td>\n",
              "      <td>1</td>\n",
              "      <td>0</td>\n",
              "      <td>2021</td>\n",
              "      <td>2</td>\n",
              "      <td>2014</td>\n",
              "      <td>12</td>\n",
              "    </tr>\n",
              "  </tbody>\n",
              "</table>\n",
              "</div>\n",
              "      <button class=\"colab-df-convert\" onclick=\"convertToInteractive('df-eca29686-df36-4fbd-afd5-c88e322b5724')\"\n",
              "              title=\"Convert this dataframe to an interactive table.\"\n",
              "              style=\"display:none;\">\n",
              "        \n",
              "  <svg xmlns=\"http://www.w3.org/2000/svg\" height=\"24px\"viewBox=\"0 0 24 24\"\n",
              "       width=\"24px\">\n",
              "    <path d=\"M0 0h24v24H0V0z\" fill=\"none\"/>\n",
              "    <path d=\"M18.56 5.44l.94 2.06.94-2.06 2.06-.94-2.06-.94-.94-2.06-.94 2.06-2.06.94zm-11 1L8.5 8.5l.94-2.06 2.06-.94-2.06-.94L8.5 2.5l-.94 2.06-2.06.94zm10 10l.94 2.06.94-2.06 2.06-.94-2.06-.94-.94-2.06-.94 2.06-2.06.94z\"/><path d=\"M17.41 7.96l-1.37-1.37c-.4-.4-.92-.59-1.43-.59-.52 0-1.04.2-1.43.59L10.3 9.45l-7.72 7.72c-.78.78-.78 2.05 0 2.83L4 21.41c.39.39.9.59 1.41.59.51 0 1.02-.2 1.41-.59l7.78-7.78 2.81-2.81c.8-.78.8-2.07 0-2.86zM5.41 20L4 18.59l7.72-7.72 1.47 1.35L5.41 20z\"/>\n",
              "  </svg>\n",
              "      </button>\n",
              "      \n",
              "  <style>\n",
              "    .colab-df-container {\n",
              "      display:flex;\n",
              "      flex-wrap:wrap;\n",
              "      gap: 12px;\n",
              "    }\n",
              "\n",
              "    .colab-df-convert {\n",
              "      background-color: #E8F0FE;\n",
              "      border: none;\n",
              "      border-radius: 50%;\n",
              "      cursor: pointer;\n",
              "      display: none;\n",
              "      fill: #1967D2;\n",
              "      height: 32px;\n",
              "      padding: 0 0 0 0;\n",
              "      width: 32px;\n",
              "    }\n",
              "\n",
              "    .colab-df-convert:hover {\n",
              "      background-color: #E2EBFA;\n",
              "      box-shadow: 0px 1px 2px rgba(60, 64, 67, 0.3), 0px 1px 3px 1px rgba(60, 64, 67, 0.15);\n",
              "      fill: #174EA6;\n",
              "    }\n",
              "\n",
              "    [theme=dark] .colab-df-convert {\n",
              "      background-color: #3B4455;\n",
              "      fill: #D2E3FC;\n",
              "    }\n",
              "\n",
              "    [theme=dark] .colab-df-convert:hover {\n",
              "      background-color: #434B5C;\n",
              "      box-shadow: 0px 1px 3px 1px rgba(0, 0, 0, 0.15);\n",
              "      filter: drop-shadow(0px 1px 2px rgba(0, 0, 0, 0.3));\n",
              "      fill: #FFFFFF;\n",
              "    }\n",
              "  </style>\n",
              "\n",
              "      <script>\n",
              "        const buttonEl =\n",
              "          document.querySelector('#df-eca29686-df36-4fbd-afd5-c88e322b5724 button.colab-df-convert');\n",
              "        buttonEl.style.display =\n",
              "          google.colab.kernel.accessAllowed ? 'block' : 'none';\n",
              "\n",
              "        async function convertToInteractive(key) {\n",
              "          const element = document.querySelector('#df-eca29686-df36-4fbd-afd5-c88e322b5724');\n",
              "          const dataTable =\n",
              "            await google.colab.kernel.invokeFunction('convertToInteractive',\n",
              "                                                     [key], {});\n",
              "          if (!dataTable) return;\n",
              "\n",
              "          const docLinkHtml = 'Like what you see? Visit the ' +\n",
              "            '<a target=\"_blank\" href=https://colab.research.google.com/notebooks/data_table.ipynb>data table notebook</a>'\n",
              "            + ' to learn more about interactive tables.';\n",
              "          element.innerHTML = '';\n",
              "          dataTable['output_type'] = 'display_data';\n",
              "          await google.colab.output.renderOutput(dataTable, element);\n",
              "          const docLink = document.createElement('div');\n",
              "          docLink.innerHTML = docLinkHtml;\n",
              "          element.appendChild(docLink);\n",
              "        }\n",
              "      </script>\n",
              "    </div>\n",
              "  </div>\n",
              "  "
            ]
          },
          "metadata": {},
          "execution_count": 52
        }
      ]
    },
    {
      "cell_type": "markdown",
      "source": [
        "#### Nature Language Processing on user descriptions and tweets: Tokens\n",
        "The user descriptions and tweets can be considered natural human language. They both share some same characteristics: long sentences, emojis, and containing some unwanted symbols.\n",
        "\n",
        "To analyze these two variables, we first convert all texts into bags of words, including stemming, converting to lowercase, and deleting all possible stopwords.\n",
        "\n",
        "Then we calculate the Frequency for each words and selected the highest 20 words to be included in our text classification model.\n"
      ],
      "metadata": {
        "id": "Bcwia5M6etY8"
      }
    },
    {
      "cell_type": "code",
      "execution_count": 54,
      "metadata": {
        "id": "SqzNPuzKtv6q"
      },
      "outputs": [],
      "source": [
        "from CryptoTweets.simple_tokenize import simple_tokenize\n",
        "from nltk.stem import PorterStemmer\n",
        "import re\n",
        "# Top 20 words\n",
        "n = 20\n",
        "#Take the text\n",
        "tweets_text = tweet_ml.select(\"text\")\n",
        "#Take the user description\n",
        "tweets_ud = tweet_ml.select(\"user_description\")\n",
        "# Stemming using Porter Stemmer\n",
        "st = PorterStemmer()\n",
        "#stop words\n",
        "with open('CryptoTweets/CommonEnglishWord.txt') as f:\n",
        "  lines = f.readlines()\n",
        "  lst = list(map(lambda x: x[0:len(x)-1].lower(),lines))\n",
        "  lst.append('')\n",
        "  lst.append('-')\n",
        "  lst.append(\"it's\")\n",
        "  lst.append(\"going\")\n",
        "  lst.append(\"it’s\")\n",
        "  lst.append(\"via\")\n",
        "  lst.append(\"|\")\n",
        "  lst.append(\"&\")\n",
        "  lst.append(\"/\")\n",
        "  lst.append('•')\n",
        "  lst.append('http')\n",
        "# Remove emoji since it beyonds the scope of this scope\n",
        "def deEmojify(text):\n",
        "    regrex_pattern = re.compile(pattern = \"[\"\n",
        "        u\"\\U0001F600-\\U0001F64F\"  # emoticons\n",
        "        u\"\\U0001F300-\\U0001F5FF\"  # symbols & pictographs\n",
        "        u\"\\U0001F680-\\U0001F6FF\"  # transport & map symbols\n",
        "        u\"\\U0001F1E0-\\U0001F1FF\"  # flags (iOS)\n",
        "                           \"]+\", flags = re.UNICODE)\n",
        "    return regrex_pattern.sub(r'',text)\n",
        "# Bag of words, stemming, lowercase, stop words\n",
        "rddtext = tweets_text.rdd.flatMap(lambda x: simple_tokenize(deEmojify(x[0]))).\\\n",
        "  map(lambda x: st.stem(x)).filter(lambda x: x not in lst).filter(lambda x: len(x) > 1).\\\n",
        "  map(lambda x: (x.lower(),1)).reduceByKey(lambda x,y: x+y).sortBy(lambda x: x[1],ascending=False).cache()"
      ]
    },
    {
      "cell_type": "markdown",
      "source": [
        "Then we created variables for each of top 20 words. The value indicate the Term Frequency of each words in current text. The following table shows the resulted variables of first ten samples."
      ],
      "metadata": {
        "id": "epbsIQru1SNx"
      }
    },
    {
      "cell_type": "code",
      "source": [
        "# Calculate the frequency and return the result as tuple\n",
        "def calcfreq(t):\n",
        "  wordtup = t[1]\n",
        "  wordlist = []\n",
        "  tweet = t[0].lower()\n",
        "  for i in wordtup:\n",
        "    wordlist.append(list(i))\n",
        "  for i in wordlist:\n",
        "    if i[0] in tweet:\n",
        "      i[1] += 1\n",
        "  result = [t[0]]\n",
        "  for i in wordlist:\n",
        "    result.append(i[1])\n",
        "  return tuple(result)\n",
        "\n",
        "reinit_list = rddtext.map(lambda x: (x[0], 0)).take(n)\n",
        "most_frequent_tweet = rddtext.take(n)\n",
        "words, freq = zip(*most_frequent_tweet)\n",
        "words = list(words)\n",
        "words.insert(0,'text')\n",
        "reinit_rdd = tweets_text.rdd.map(lambda x:x[0]).map(lambda x: (x, reinit_list))\n",
        "calc = reinit_rdd.map(lambda x: calcfreq(x))\n",
        "table_tweet = calc.toDF(words)\n",
        "table_tweet.limit(5).toPandas()"
      ],
      "metadata": {
        "colab": {
          "base_uri": "https://localhost:8080/",
          "height": 612
        },
        "id": "PJyUmbfMrNzb",
        "outputId": "8c7c5b32-6007-4a72-a9ee-3936427647b2"
      },
      "execution_count": 55,
      "outputs": [
        {
          "output_type": "execute_result",
          "data": {
            "text/plain": [
              "                                                text  bitcoin  co  btc  \\\n",
              "0  Blue Ridge Bank shares halted by NYSE after #b...        1   1    0   \n",
              "1  .@Tesla’s #bitcoin investment is revolutionary...        1   1    0   \n",
              "2  Annnd #btc #Bitcoin is headed even higher now....        1   1    1   \n",
              "3  Buy #Bitcoin with 5% LIFETIME cashback on fees...        1   1    0   \n",
              "4  #Bitcoin institutional demand accelerates in 2...        1   1    1   \n",
              "\n",
              "   crypto  thi  cryptocurr  eth  ethereum  price  ...  binanc  blockchain  \\\n",
              "0       0    0           0    0         0      0  ...       0           0   \n",
              "1       1    0           0    0         0      0  ...       0           0   \n",
              "2       0    0           0    0         0      0  ...       0           0   \n",
              "3       1    0           1    0         0      0  ...       0           0   \n",
              "4       1    0           1    0         0      0  ...       0           0   \n",
              "\n",
              "   dogecoin  ha  gift  amp  wa  invest  altcoin  doge  \n",
              "0         0   1     0    0   0       0        0     0  \n",
              "1         0   0     0    0   0       1        0     0  \n",
              "2         0   1     0    0   0       0        0     0  \n",
              "3         0   1     0    0   0       0        0     0  \n",
              "4         0   0     0    0   1       0        0     0  \n",
              "\n",
              "[5 rows x 21 columns]"
            ],
            "text/html": [
              "\n",
              "  <div id=\"df-7da8d144-8147-406a-bb19-8c320269f662\">\n",
              "    <div class=\"colab-df-container\">\n",
              "      <div>\n",
              "<style scoped>\n",
              "    .dataframe tbody tr th:only-of-type {\n",
              "        vertical-align: middle;\n",
              "    }\n",
              "\n",
              "    .dataframe tbody tr th {\n",
              "        vertical-align: top;\n",
              "    }\n",
              "\n",
              "    .dataframe thead th {\n",
              "        text-align: right;\n",
              "    }\n",
              "</style>\n",
              "<table border=\"1\" class=\"dataframe\">\n",
              "  <thead>\n",
              "    <tr style=\"text-align: right;\">\n",
              "      <th></th>\n",
              "      <th>text</th>\n",
              "      <th>bitcoin</th>\n",
              "      <th>co</th>\n",
              "      <th>btc</th>\n",
              "      <th>crypto</th>\n",
              "      <th>thi</th>\n",
              "      <th>cryptocurr</th>\n",
              "      <th>eth</th>\n",
              "      <th>ethereum</th>\n",
              "      <th>price</th>\n",
              "      <th>...</th>\n",
              "      <th>binanc</th>\n",
              "      <th>blockchain</th>\n",
              "      <th>dogecoin</th>\n",
              "      <th>ha</th>\n",
              "      <th>gift</th>\n",
              "      <th>amp</th>\n",
              "      <th>wa</th>\n",
              "      <th>invest</th>\n",
              "      <th>altcoin</th>\n",
              "      <th>doge</th>\n",
              "    </tr>\n",
              "  </thead>\n",
              "  <tbody>\n",
              "    <tr>\n",
              "      <th>0</th>\n",
              "      <td>Blue Ridge Bank shares halted by NYSE after #b...</td>\n",
              "      <td>1</td>\n",
              "      <td>1</td>\n",
              "      <td>0</td>\n",
              "      <td>0</td>\n",
              "      <td>0</td>\n",
              "      <td>0</td>\n",
              "      <td>0</td>\n",
              "      <td>0</td>\n",
              "      <td>0</td>\n",
              "      <td>...</td>\n",
              "      <td>0</td>\n",
              "      <td>0</td>\n",
              "      <td>0</td>\n",
              "      <td>1</td>\n",
              "      <td>0</td>\n",
              "      <td>0</td>\n",
              "      <td>0</td>\n",
              "      <td>0</td>\n",
              "      <td>0</td>\n",
              "      <td>0</td>\n",
              "    </tr>\n",
              "    <tr>\n",
              "      <th>1</th>\n",
              "      <td>.@Tesla’s #bitcoin investment is revolutionary...</td>\n",
              "      <td>1</td>\n",
              "      <td>1</td>\n",
              "      <td>0</td>\n",
              "      <td>1</td>\n",
              "      <td>0</td>\n",
              "      <td>0</td>\n",
              "      <td>0</td>\n",
              "      <td>0</td>\n",
              "      <td>0</td>\n",
              "      <td>...</td>\n",
              "      <td>0</td>\n",
              "      <td>0</td>\n",
              "      <td>0</td>\n",
              "      <td>0</td>\n",
              "      <td>0</td>\n",
              "      <td>0</td>\n",
              "      <td>0</td>\n",
              "      <td>1</td>\n",
              "      <td>0</td>\n",
              "      <td>0</td>\n",
              "    </tr>\n",
              "    <tr>\n",
              "      <th>2</th>\n",
              "      <td>Annnd #btc #Bitcoin is headed even higher now....</td>\n",
              "      <td>1</td>\n",
              "      <td>1</td>\n",
              "      <td>1</td>\n",
              "      <td>0</td>\n",
              "      <td>0</td>\n",
              "      <td>0</td>\n",
              "      <td>0</td>\n",
              "      <td>0</td>\n",
              "      <td>0</td>\n",
              "      <td>...</td>\n",
              "      <td>0</td>\n",
              "      <td>0</td>\n",
              "      <td>0</td>\n",
              "      <td>1</td>\n",
              "      <td>0</td>\n",
              "      <td>0</td>\n",
              "      <td>0</td>\n",
              "      <td>0</td>\n",
              "      <td>0</td>\n",
              "      <td>0</td>\n",
              "    </tr>\n",
              "    <tr>\n",
              "      <th>3</th>\n",
              "      <td>Buy #Bitcoin with 5% LIFETIME cashback on fees...</td>\n",
              "      <td>1</td>\n",
              "      <td>1</td>\n",
              "      <td>0</td>\n",
              "      <td>1</td>\n",
              "      <td>0</td>\n",
              "      <td>1</td>\n",
              "      <td>0</td>\n",
              "      <td>0</td>\n",
              "      <td>0</td>\n",
              "      <td>...</td>\n",
              "      <td>0</td>\n",
              "      <td>0</td>\n",
              "      <td>0</td>\n",
              "      <td>1</td>\n",
              "      <td>0</td>\n",
              "      <td>0</td>\n",
              "      <td>0</td>\n",
              "      <td>0</td>\n",
              "      <td>0</td>\n",
              "      <td>0</td>\n",
              "    </tr>\n",
              "    <tr>\n",
              "      <th>4</th>\n",
              "      <td>#Bitcoin institutional demand accelerates in 2...</td>\n",
              "      <td>1</td>\n",
              "      <td>1</td>\n",
              "      <td>1</td>\n",
              "      <td>1</td>\n",
              "      <td>0</td>\n",
              "      <td>1</td>\n",
              "      <td>0</td>\n",
              "      <td>0</td>\n",
              "      <td>0</td>\n",
              "      <td>...</td>\n",
              "      <td>0</td>\n",
              "      <td>0</td>\n",
              "      <td>0</td>\n",
              "      <td>0</td>\n",
              "      <td>0</td>\n",
              "      <td>0</td>\n",
              "      <td>1</td>\n",
              "      <td>0</td>\n",
              "      <td>0</td>\n",
              "      <td>0</td>\n",
              "    </tr>\n",
              "  </tbody>\n",
              "</table>\n",
              "<p>5 rows × 21 columns</p>\n",
              "</div>\n",
              "      <button class=\"colab-df-convert\" onclick=\"convertToInteractive('df-7da8d144-8147-406a-bb19-8c320269f662')\"\n",
              "              title=\"Convert this dataframe to an interactive table.\"\n",
              "              style=\"display:none;\">\n",
              "        \n",
              "  <svg xmlns=\"http://www.w3.org/2000/svg\" height=\"24px\"viewBox=\"0 0 24 24\"\n",
              "       width=\"24px\">\n",
              "    <path d=\"M0 0h24v24H0V0z\" fill=\"none\"/>\n",
              "    <path d=\"M18.56 5.44l.94 2.06.94-2.06 2.06-.94-2.06-.94-.94-2.06-.94 2.06-2.06.94zm-11 1L8.5 8.5l.94-2.06 2.06-.94-2.06-.94L8.5 2.5l-.94 2.06-2.06.94zm10 10l.94 2.06.94-2.06 2.06-.94-2.06-.94-.94-2.06-.94 2.06-2.06.94z\"/><path d=\"M17.41 7.96l-1.37-1.37c-.4-.4-.92-.59-1.43-.59-.52 0-1.04.2-1.43.59L10.3 9.45l-7.72 7.72c-.78.78-.78 2.05 0 2.83L4 21.41c.39.39.9.59 1.41.59.51 0 1.02-.2 1.41-.59l7.78-7.78 2.81-2.81c.8-.78.8-2.07 0-2.86zM5.41 20L4 18.59l7.72-7.72 1.47 1.35L5.41 20z\"/>\n",
              "  </svg>\n",
              "      </button>\n",
              "      \n",
              "  <style>\n",
              "    .colab-df-container {\n",
              "      display:flex;\n",
              "      flex-wrap:wrap;\n",
              "      gap: 12px;\n",
              "    }\n",
              "\n",
              "    .colab-df-convert {\n",
              "      background-color: #E8F0FE;\n",
              "      border: none;\n",
              "      border-radius: 50%;\n",
              "      cursor: pointer;\n",
              "      display: none;\n",
              "      fill: #1967D2;\n",
              "      height: 32px;\n",
              "      padding: 0 0 0 0;\n",
              "      width: 32px;\n",
              "    }\n",
              "\n",
              "    .colab-df-convert:hover {\n",
              "      background-color: #E2EBFA;\n",
              "      box-shadow: 0px 1px 2px rgba(60, 64, 67, 0.3), 0px 1px 3px 1px rgba(60, 64, 67, 0.15);\n",
              "      fill: #174EA6;\n",
              "    }\n",
              "\n",
              "    [theme=dark] .colab-df-convert {\n",
              "      background-color: #3B4455;\n",
              "      fill: #D2E3FC;\n",
              "    }\n",
              "\n",
              "    [theme=dark] .colab-df-convert:hover {\n",
              "      background-color: #434B5C;\n",
              "      box-shadow: 0px 1px 3px 1px rgba(0, 0, 0, 0.15);\n",
              "      filter: drop-shadow(0px 1px 2px rgba(0, 0, 0, 0.3));\n",
              "      fill: #FFFFFF;\n",
              "    }\n",
              "  </style>\n",
              "\n",
              "      <script>\n",
              "        const buttonEl =\n",
              "          document.querySelector('#df-7da8d144-8147-406a-bb19-8c320269f662 button.colab-df-convert');\n",
              "        buttonEl.style.display =\n",
              "          google.colab.kernel.accessAllowed ? 'block' : 'none';\n",
              "\n",
              "        async function convertToInteractive(key) {\n",
              "          const element = document.querySelector('#df-7da8d144-8147-406a-bb19-8c320269f662');\n",
              "          const dataTable =\n",
              "            await google.colab.kernel.invokeFunction('convertToInteractive',\n",
              "                                                     [key], {});\n",
              "          if (!dataTable) return;\n",
              "\n",
              "          const docLinkHtml = 'Like what you see? Visit the ' +\n",
              "            '<a target=\"_blank\" href=https://colab.research.google.com/notebooks/data_table.ipynb>data table notebook</a>'\n",
              "            + ' to learn more about interactive tables.';\n",
              "          element.innerHTML = '';\n",
              "          dataTable['output_type'] = 'display_data';\n",
              "          await google.colab.output.renderOutput(dataTable, element);\n",
              "          const docLink = document.createElement('div');\n",
              "          docLink.innerHTML = docLinkHtml;\n",
              "          element.appendChild(docLink);\n",
              "        }\n",
              "      </script>\n",
              "    </div>\n",
              "  </div>\n",
              "  "
            ]
          },
          "metadata": {},
          "execution_count": 55
        }
      ]
    },
    {
      "cell_type": "markdown",
      "source": [
        "The follow plot shows the frequency distribution of top 20 words"
      ],
      "metadata": {
        "id": "lTCS17K0NsKu"
      }
    },
    {
      "cell_type": "code",
      "source": [
        "x_t,y_t = zip(*most_frequent_tweet)\n",
        "bar = (\n",
        " Bar(init_opts=opts.InitOpts())\n",
        " .add_xaxis(x_t)\n",
        " .add_yaxis(\"Frequency\",y_t)\n",
        " .set_global_opts(title_opts=opts.TitleOpts(title=\"Top 20 words in the Tweets\"))\n",
        ")\n",
        "bar.render_notebook()"
      ],
      "metadata": {
        "colab": {
          "base_uri": "https://localhost:8080/",
          "height": 517
        },
        "id": "UV9whfieN68p",
        "outputId": "582637dd-755f-4397-a29f-6494ab1fb839"
      },
      "execution_count": 56,
      "outputs": [
        {
          "output_type": "execute_result",
          "data": {
            "text/plain": [
              "<pyecharts.render.display.HTML at 0x7f1f31dc4990>"
            ],
            "text/html": [
              "\n",
              "<script>\n",
              "    require.config({\n",
              "        paths: {\n",
              "            'echarts':'https://assets.pyecharts.org/assets/echarts.min'\n",
              "        }\n",
              "    });\n",
              "</script>\n",
              "\n",
              "        <div id=\"0c81b88fcab84b0ebc1683a83d5ca866\" style=\"width:900px; height:500px;\"></div>\n",
              "\n",
              "<script>\n",
              "        require(['echarts'], function(echarts) {\n",
              "                var chart_0c81b88fcab84b0ebc1683a83d5ca866 = echarts.init(\n",
              "                    document.getElementById('0c81b88fcab84b0ebc1683a83d5ca866'), 'white', {renderer: 'canvas'});\n",
              "                var option_0c81b88fcab84b0ebc1683a83d5ca866 = {\n",
              "    \"animation\": true,\n",
              "    \"animationThreshold\": 2000,\n",
              "    \"animationDuration\": 1000,\n",
              "    \"animationEasing\": \"cubicOut\",\n",
              "    \"animationDelay\": 0,\n",
              "    \"animationDurationUpdate\": 300,\n",
              "    \"animationEasingUpdate\": \"cubicOut\",\n",
              "    \"animationDelayUpdate\": 0,\n",
              "    \"color\": [\n",
              "        \"#c23531\",\n",
              "        \"#2f4554\",\n",
              "        \"#61a0a8\",\n",
              "        \"#d48265\",\n",
              "        \"#749f83\",\n",
              "        \"#ca8622\",\n",
              "        \"#bda29a\",\n",
              "        \"#6e7074\",\n",
              "        \"#546570\",\n",
              "        \"#c4ccd3\",\n",
              "        \"#f05b72\",\n",
              "        \"#ef5b9c\",\n",
              "        \"#f47920\",\n",
              "        \"#905a3d\",\n",
              "        \"#fab27b\",\n",
              "        \"#2a5caa\",\n",
              "        \"#444693\",\n",
              "        \"#726930\",\n",
              "        \"#b2d235\",\n",
              "        \"#6d8346\",\n",
              "        \"#ac6767\",\n",
              "        \"#1d953f\",\n",
              "        \"#6950a1\",\n",
              "        \"#918597\"\n",
              "    ],\n",
              "    \"series\": [\n",
              "        {\n",
              "            \"type\": \"bar\",\n",
              "            \"name\": \"Frequency\",\n",
              "            \"legendHoverLink\": true,\n",
              "            \"data\": [\n",
              "                442749,\n",
              "                326597,\n",
              "                228976,\n",
              "                104846,\n",
              "                71983,\n",
              "                68579,\n",
              "                44451,\n",
              "                36081,\n",
              "                33958,\n",
              "                28528,\n",
              "                26239,\n",
              "                25499,\n",
              "                22375,\n",
              "                20703,\n",
              "                19922,\n",
              "                18472,\n",
              "                18026,\n",
              "                17181,\n",
              "                16820,\n",
              "                16101\n",
              "            ],\n",
              "            \"showBackground\": false,\n",
              "            \"barMinHeight\": 0,\n",
              "            \"barCategoryGap\": \"20%\",\n",
              "            \"barGap\": \"30%\",\n",
              "            \"large\": false,\n",
              "            \"largeThreshold\": 400,\n",
              "            \"seriesLayoutBy\": \"column\",\n",
              "            \"datasetIndex\": 0,\n",
              "            \"clip\": true,\n",
              "            \"zlevel\": 0,\n",
              "            \"z\": 2,\n",
              "            \"label\": {\n",
              "                \"show\": true,\n",
              "                \"position\": \"top\",\n",
              "                \"margin\": 8\n",
              "            }\n",
              "        }\n",
              "    ],\n",
              "    \"legend\": [\n",
              "        {\n",
              "            \"data\": [\n",
              "                \"Frequency\"\n",
              "            ],\n",
              "            \"selected\": {\n",
              "                \"Frequency\": true\n",
              "            },\n",
              "            \"show\": true,\n",
              "            \"padding\": 5,\n",
              "            \"itemGap\": 10,\n",
              "            \"itemWidth\": 25,\n",
              "            \"itemHeight\": 14\n",
              "        }\n",
              "    ],\n",
              "    \"tooltip\": {\n",
              "        \"show\": true,\n",
              "        \"trigger\": \"item\",\n",
              "        \"triggerOn\": \"mousemove|click\",\n",
              "        \"axisPointer\": {\n",
              "            \"type\": \"line\"\n",
              "        },\n",
              "        \"showContent\": true,\n",
              "        \"alwaysShowContent\": false,\n",
              "        \"showDelay\": 0,\n",
              "        \"hideDelay\": 100,\n",
              "        \"textStyle\": {\n",
              "            \"fontSize\": 14\n",
              "        },\n",
              "        \"borderWidth\": 0,\n",
              "        \"padding\": 5\n",
              "    },\n",
              "    \"xAxis\": [\n",
              "        {\n",
              "            \"show\": true,\n",
              "            \"scale\": false,\n",
              "            \"nameLocation\": \"end\",\n",
              "            \"nameGap\": 15,\n",
              "            \"gridIndex\": 0,\n",
              "            \"inverse\": false,\n",
              "            \"offset\": 0,\n",
              "            \"splitNumber\": 5,\n",
              "            \"minInterval\": 0,\n",
              "            \"splitLine\": {\n",
              "                \"show\": false,\n",
              "                \"lineStyle\": {\n",
              "                    \"show\": true,\n",
              "                    \"width\": 1,\n",
              "                    \"opacity\": 1,\n",
              "                    \"curveness\": 0,\n",
              "                    \"type\": \"solid\"\n",
              "                }\n",
              "            },\n",
              "            \"data\": [\n",
              "                \"bitcoin\",\n",
              "                \"co\",\n",
              "                \"btc\",\n",
              "                \"crypto\",\n",
              "                \"thi\",\n",
              "                \"cryptocurr\",\n",
              "                \"eth\",\n",
              "                \"ethereum\",\n",
              "                \"price\",\n",
              "                \"nft\",\n",
              "                \"binanc\",\n",
              "                \"blockchain\",\n",
              "                \"dogecoin\",\n",
              "                \"ha\",\n",
              "                \"gift\",\n",
              "                \"amp\",\n",
              "                \"wa\",\n",
              "                \"invest\",\n",
              "                \"altcoin\",\n",
              "                \"doge\"\n",
              "            ]\n",
              "        }\n",
              "    ],\n",
              "    \"yAxis\": [\n",
              "        {\n",
              "            \"show\": true,\n",
              "            \"scale\": false,\n",
              "            \"nameLocation\": \"end\",\n",
              "            \"nameGap\": 15,\n",
              "            \"gridIndex\": 0,\n",
              "            \"inverse\": false,\n",
              "            \"offset\": 0,\n",
              "            \"splitNumber\": 5,\n",
              "            \"minInterval\": 0,\n",
              "            \"splitLine\": {\n",
              "                \"show\": false,\n",
              "                \"lineStyle\": {\n",
              "                    \"show\": true,\n",
              "                    \"width\": 1,\n",
              "                    \"opacity\": 1,\n",
              "                    \"curveness\": 0,\n",
              "                    \"type\": \"solid\"\n",
              "                }\n",
              "            }\n",
              "        }\n",
              "    ],\n",
              "    \"title\": [\n",
              "        {\n",
              "            \"text\": \"Top 20 words in the Tweets\",\n",
              "            \"padding\": 5,\n",
              "            \"itemGap\": 10\n",
              "        }\n",
              "    ]\n",
              "};\n",
              "                chart_0c81b88fcab84b0ebc1683a83d5ca866.setOption(option_0c81b88fcab84b0ebc1683a83d5ca866);\n",
              "        });\n",
              "    </script>\n"
            ]
          },
          "metadata": {},
          "execution_count": 56
        }
      ]
    },
    {
      "cell_type": "markdown",
      "source": [
        "The non-interactive plot when the above interactive plot fail to load"
      ],
      "metadata": {
        "id": "iS7Dqkf0LI92"
      }
    },
    {
      "cell_type": "code",
      "source": [
        "plt.xticks(\n",
        "    rotation=45, \n",
        "    horizontalalignment='right',\n",
        "    fontweight='light',\n",
        "    fontsize='x-large'  \n",
        ")\n",
        "plt.bar(x_t, y_t)\n",
        "plt.show()"
      ],
      "metadata": {
        "colab": {
          "base_uri": "https://localhost:8080/",
          "height": 320
        },
        "id": "u_6_lXwOK-uX",
        "outputId": "03749a1f-0391-4bcb-8e16-556bbb2de246"
      },
      "execution_count": 57,
      "outputs": [
        {
          "output_type": "display_data",
          "data": {
            "text/plain": [
              "<Figure size 432x288 with 1 Axes>"
            ],
            "image/png": "[encoded data removed]"
          },
          "metadata": {
            "needs_background": "light"
          }
        }
      ]
    },
    {
      "cell_type": "code",
      "source": [
        "table_tweet = table_tweet.select(\"*\").withColumn(\"idtweet\", unique_id)\n",
        "tweet_ml = tweet_ml.join(table_tweet,tweet_ml.id == table_tweet.idtweet,'inner').drop('text','_1','idtweet')"
      ],
      "metadata": {
        "id": "tDPOIHBj77c8"
      },
      "execution_count": 58,
      "outputs": []
    },
    {
      "cell_type": "markdown",
      "source": [
        "Similiar preparation and variable creations for variable \"user description\""
      ],
      "metadata": {
        "id": "yb1iDhMc51Mr"
      }
    },
    {
      "cell_type": "code",
      "source": [
        "udrdd = tweets_ud.rdd.flatMap(lambda x: simple_tokenize(deEmojify(x[0]))).\\\n",
        "  map(lambda x: st.stem(x)).filter(lambda x: x not in lst).filter(lambda x: len(x) > 1).\\\n",
        "  map(lambda x: (x.lower(),1)).reduceByKey(lambda x,y: x+y).sortBy(lambda x: x[1],ascending=False).cache()\n",
        "reinit_udlist = udrdd.map(lambda x: (x[0],0)).take(n)\n",
        "most_frequent_ud = udrdd.take(n)\n",
        "words, freq = zip(*most_frequent_ud)\n",
        "words = list(words)\n",
        "words.insert(0,'text')\n",
        "reinit_udrdd = tweets_ud.rdd.map(lambda x:x[0]).map(lambda x: (x, reinit_udlist))\n",
        "calcud = reinit_udrdd.map(lambda x: calcfreq(x))\n",
        "table_ud = calcud.toDF(words)\n",
        "table_ud = table_ud.select(\"*\").withColumn(\"idud\", unique_id)\n",
        "table_ud = table_ud.select([F.col(c).alias(\"ud\"+c) for c in table_ud.columns])\n",
        "tweet_ml = tweet_ml.join(table_ud,tweet_ml.id == table_ud.udidud,'inner').drop('udtext','ud_1','udidud').cache()"
      ],
      "metadata": {
        "id": "YkLqz6TMp6Jm"
      },
      "execution_count": 59,
      "outputs": []
    },
    {
      "cell_type": "code",
      "source": [
        "x_t,y_t = zip(*most_frequent_ud)\n",
        "bar = (\n",
        " Bar(init_opts=opts.InitOpts())\n",
        " .add_xaxis(x_t)\n",
        " .add_yaxis(\"Frequency\",y_t)\n",
        " .set_global_opts(title_opts=opts.TitleOpts(title=\"Top 20 words in the User Descriptions\"))\n",
        ")\n",
        "bar.render_notebook()"
      ],
      "metadata": {
        "colab": {
          "base_uri": "https://localhost:8080/",
          "height": 517
        },
        "id": "uRSscJ6_urst",
        "outputId": "95aea3f2-fb57-4421-d3af-86e852dd801a"
      },
      "execution_count": 60,
      "outputs": [
        {
          "output_type": "execute_result",
          "data": {
            "text/plain": [
              "<pyecharts.render.display.HTML at 0x7f1f31f48090>"
            ],
            "text/html": [
              "\n",
              "<script>\n",
              "    require.config({\n",
              "        paths: {\n",
              "            'echarts':'https://assets.pyecharts.org/assets/echarts.min'\n",
              "        }\n",
              "    });\n",
              "</script>\n",
              "\n",
              "        <div id=\"381439a01c6c488787d31b7bed284317\" style=\"width:900px; height:500px;\"></div>\n",
              "\n",
              "<script>\n",
              "        require(['echarts'], function(echarts) {\n",
              "                var chart_381439a01c6c488787d31b7bed284317 = echarts.init(\n",
              "                    document.getElementById('381439a01c6c488787d31b7bed284317'), 'white', {renderer: 'canvas'});\n",
              "                var option_381439a01c6c488787d31b7bed284317 = {\n",
              "    \"animation\": true,\n",
              "    \"animationThreshold\": 2000,\n",
              "    \"animationDuration\": 1000,\n",
              "    \"animationEasing\": \"cubicOut\",\n",
              "    \"animationDelay\": 0,\n",
              "    \"animationDurationUpdate\": 300,\n",
              "    \"animationEasingUpdate\": \"cubicOut\",\n",
              "    \"animationDelayUpdate\": 0,\n",
              "    \"color\": [\n",
              "        \"#c23531\",\n",
              "        \"#2f4554\",\n",
              "        \"#61a0a8\",\n",
              "        \"#d48265\",\n",
              "        \"#749f83\",\n",
              "        \"#ca8622\",\n",
              "        \"#bda29a\",\n",
              "        \"#6e7074\",\n",
              "        \"#546570\",\n",
              "        \"#c4ccd3\",\n",
              "        \"#f05b72\",\n",
              "        \"#ef5b9c\",\n",
              "        \"#f47920\",\n",
              "        \"#905a3d\",\n",
              "        \"#fab27b\",\n",
              "        \"#2a5caa\",\n",
              "        \"#444693\",\n",
              "        \"#726930\",\n",
              "        \"#b2d235\",\n",
              "        \"#6d8346\",\n",
              "        \"#ac6767\",\n",
              "        \"#1d953f\",\n",
              "        \"#6950a1\",\n",
              "        \"#918597\"\n",
              "    ],\n",
              "    \"series\": [\n",
              "        {\n",
              "            \"type\": \"bar\",\n",
              "            \"name\": \"Frequency\",\n",
              "            \"legendHoverLink\": true,\n",
              "            \"data\": [\n",
              "                210136,\n",
              "                129333,\n",
              "                78451,\n",
              "                59091,\n",
              "                58586,\n",
              "                50059,\n",
              "                43675,\n",
              "                42968,\n",
              "                34820,\n",
              "                32164,\n",
              "                31355,\n",
              "                27193,\n",
              "                24923,\n",
              "                24729,\n",
              "                21688,\n",
              "                21052,\n",
              "                20221,\n",
              "                19947,\n",
              "                18904,\n",
              "                17492\n",
              "            ],\n",
              "            \"showBackground\": false,\n",
              "            \"barMinHeight\": 0,\n",
              "            \"barCategoryGap\": \"20%\",\n",
              "            \"barGap\": \"30%\",\n",
              "            \"large\": false,\n",
              "            \"largeThreshold\": 400,\n",
              "            \"seriesLayoutBy\": \"column\",\n",
              "            \"datasetIndex\": 0,\n",
              "            \"clip\": true,\n",
              "            \"zlevel\": 0,\n",
              "            \"z\": 2,\n",
              "            \"label\": {\n",
              "                \"show\": true,\n",
              "                \"position\": \"top\",\n",
              "                \"margin\": 8\n",
              "            }\n",
              "        }\n",
              "    ],\n",
              "    \"legend\": [\n",
              "        {\n",
              "            \"data\": [\n",
              "                \"Frequency\"\n",
              "            ],\n",
              "            \"selected\": {\n",
              "                \"Frequency\": true\n",
              "            },\n",
              "            \"show\": true,\n",
              "            \"padding\": 5,\n",
              "            \"itemGap\": 10,\n",
              "            \"itemWidth\": 25,\n",
              "            \"itemHeight\": 14\n",
              "        }\n",
              "    ],\n",
              "    \"tooltip\": {\n",
              "        \"show\": true,\n",
              "        \"trigger\": \"item\",\n",
              "        \"triggerOn\": \"mousemove|click\",\n",
              "        \"axisPointer\": {\n",
              "            \"type\": \"line\"\n",
              "        },\n",
              "        \"showContent\": true,\n",
              "        \"alwaysShowContent\": false,\n",
              "        \"showDelay\": 0,\n",
              "        \"hideDelay\": 100,\n",
              "        \"textStyle\": {\n",
              "            \"fontSize\": 14\n",
              "        },\n",
              "        \"borderWidth\": 0,\n",
              "        \"padding\": 5\n",
              "    },\n",
              "    \"xAxis\": [\n",
              "        {\n",
              "            \"show\": true,\n",
              "            \"scale\": false,\n",
              "            \"nameLocation\": \"end\",\n",
              "            \"nameGap\": 15,\n",
              "            \"gridIndex\": 0,\n",
              "            \"inverse\": false,\n",
              "            \"offset\": 0,\n",
              "            \"splitNumber\": 5,\n",
              "            \"minInterval\": 0,\n",
              "            \"splitLine\": {\n",
              "                \"show\": false,\n",
              "                \"lineStyle\": {\n",
              "                    \"show\": true,\n",
              "                    \"width\": 1,\n",
              "                    \"opacity\": 1,\n",
              "                    \"curveness\": 0,\n",
              "                    \"type\": \"solid\"\n",
              "                }\n",
              "            },\n",
              "            \"data\": [\n",
              "                \"bitcoin\",\n",
              "                \"crypto\",\n",
              "                \"co\",\n",
              "                \"btc\",\n",
              "                \"cryptocurr\",\n",
              "                \"blockchain\",\n",
              "                \"financi\",\n",
              "                \"news\",\n",
              "                \"eth\",\n",
              "                \"advic\",\n",
              "                \"investor\",\n",
              "                \"trader\",\n",
              "                \"tweet\",\n",
              "                \"nft\",\n",
              "                \"busi\",\n",
              "                \"ethereum\",\n",
              "                \"enthusiast\",\n",
              "                \"invest\",\n",
              "                \"latest\",\n",
              "                \"doge\"\n",
              "            ]\n",
              "        }\n",
              "    ],\n",
              "    \"yAxis\": [\n",
              "        {\n",
              "            \"show\": true,\n",
              "            \"scale\": false,\n",
              "            \"nameLocation\": \"end\",\n",
              "            \"nameGap\": 15,\n",
              "            \"gridIndex\": 0,\n",
              "            \"inverse\": false,\n",
              "            \"offset\": 0,\n",
              "            \"splitNumber\": 5,\n",
              "            \"minInterval\": 0,\n",
              "            \"splitLine\": {\n",
              "                \"show\": false,\n",
              "                \"lineStyle\": {\n",
              "                    \"show\": true,\n",
              "                    \"width\": 1,\n",
              "                    \"opacity\": 1,\n",
              "                    \"curveness\": 0,\n",
              "                    \"type\": \"solid\"\n",
              "                }\n",
              "            }\n",
              "        }\n",
              "    ],\n",
              "    \"title\": [\n",
              "        {\n",
              "            \"text\": \"Top 20 words in the User Descriptions\",\n",
              "            \"padding\": 5,\n",
              "            \"itemGap\": 10\n",
              "        }\n",
              "    ]\n",
              "};\n",
              "                chart_381439a01c6c488787d31b7bed284317.setOption(option_381439a01c6c488787d31b7bed284317);\n",
              "        });\n",
              "    </script>\n"
            ]
          },
          "metadata": {},
          "execution_count": 60
        }
      ]
    },
    {
      "cell_type": "markdown",
      "source": [
        "The non-interactive plot when the above interactive plot fail to load"
      ],
      "metadata": {
        "id": "0NF53eCvOGNp"
      }
    },
    {
      "cell_type": "code",
      "source": [
        "plt.xticks(\n",
        "    rotation=45, \n",
        "    horizontalalignment='right',\n",
        "    fontweight='light',\n",
        "    fontsize='x-large'  \n",
        ")\n",
        "plt.bar(x_t, y_t)\n",
        "plt.show()"
      ],
      "metadata": {
        "colab": {
          "base_uri": "https://localhost:8080/",
          "height": 320
        },
        "id": "wm26L4gsOB2T",
        "outputId": "1d9731a4-df04-406a-84f4-cb378c6cb818"
      },
      "execution_count": 61,
      "outputs": [
        {
          "output_type": "display_data",
          "data": {
            "text/plain": [
              "<Figure size 432x288 with 1 Axes>"
            ],
            "image/png": "[encoded data removed]"
          },
          "metadata": {
            "needs_background": "light"
          }
        }
      ]
    },
    {
      "cell_type": "markdown",
      "source": [
        "Here are the first five samples of the dataset after applying natural language processing to tweets and user descriptions. \n",
        "\n",
        "We can also calculate the TF-IDF to vectorize the top 20 words in each sample. Compare to frequency, TF-IDF has the advantage by assigning a larger weight to words that appear less in the documents. It can be a future improvement."
      ],
      "metadata": {
        "id": "zGrTJZ5-R6wR"
      }
    },
    {
      "cell_type": "code",
      "source": [
        "tweet_ml = tweet_ml.drop('user_description')\n",
        "tweet_ml.limit(5).toPandas()"
      ],
      "metadata": {
        "colab": {
          "base_uri": "https://localhost:8080/",
          "height": 300
        },
        "id": "cy5vHAtUSA3i",
        "outputId": "b93f5b09-0d72-4988-96a6-f124c8d70683"
      },
      "execution_count": 62,
      "outputs": [
        {
          "output_type": "execute_result",
          "data": {
            "text/plain": [
              "   user_location  user_followers  user_friends  user_favourites  \\\n",
              "0         others               8             0               49   \n",
              "1         others              94           189              753   \n",
              "2         others            5366           927            34484   \n",
              "3  United States              68            84              427   \n",
              "4         others             275           789             3654   \n",
              "\n",
              "   user_verified  hashtags    id  source_Iphone  source_Web  source_Android  \\\n",
              "0              0  Dogecoin    26              1           0               0   \n",
              "1              0     other    29              1           0               0   \n",
              "2              0     other   474              1           0               0   \n",
              "3              0     other   964              1           0               0   \n",
              "4              0     other  1677              1           0               0   \n",
              "\n",
              "   ...  udinvestor  udtrader  udtweet  udnft  udbusi  udethereum  \\\n",
              "0  ...           0         0        1      0       0           0   \n",
              "1  ...           0         0        0      0       0           0   \n",
              "2  ...           1         1        0      0       0           0   \n",
              "3  ...           0         0        0      0       0           0   \n",
              "4  ...           0         0        0      0       0           0   \n",
              "\n",
              "   udenthusiast  udinvest  udlatest  uddoge  \n",
              "0             0         0         0       0  \n",
              "1             0         0         0       1  \n",
              "2             0         1         0       0  \n",
              "3             0         0         0       0  \n",
              "4             0         0         0       0  \n",
              "\n",
              "[5 rows x 54 columns]"
            ],
            "text/html": [
              "\n",
              "  <div id=\"df-44c66e86-0d6f-4729-9cc9-b9d507066ebe\">\n",
              "    <div class=\"colab-df-container\">\n",
              "      <div>\n",
              "<style scoped>\n",
              "    .dataframe tbody tr th:only-of-type {\n",
              "        vertical-align: middle;\n",
              "    }\n",
              "\n",
              "    .dataframe tbody tr th {\n",
              "        vertical-align: top;\n",
              "    }\n",
              "\n",
              "    .dataframe thead th {\n",
              "        text-align: right;\n",
              "    }\n",
              "</style>\n",
              "<table border=\"1\" class=\"dataframe\">\n",
              "  <thead>\n",
              "    <tr style=\"text-align: right;\">\n",
              "      <th></th>\n",
              "      <th>user_location</th>\n",
              "      <th>user_followers</th>\n",
              "      <th>user_friends</th>\n",
              "      <th>user_favourites</th>\n",
              "      <th>user_verified</th>\n",
              "      <th>hashtags</th>\n",
              "      <th>id</th>\n",
              "      <th>source_Iphone</th>\n",
              "      <th>source_Web</th>\n",
              "      <th>source_Android</th>\n",
              "      <th>...</th>\n",
              "      <th>udinvestor</th>\n",
              "      <th>udtrader</th>\n",
              "      <th>udtweet</th>\n",
              "      <th>udnft</th>\n",
              "      <th>udbusi</th>\n",
              "      <th>udethereum</th>\n",
              "      <th>udenthusiast</th>\n",
              "      <th>udinvest</th>\n",
              "      <th>udlatest</th>\n",
              "      <th>uddoge</th>\n",
              "    </tr>\n",
              "  </thead>\n",
              "  <tbody>\n",
              "    <tr>\n",
              "      <th>0</th>\n",
              "      <td>others</td>\n",
              "      <td>8</td>\n",
              "      <td>0</td>\n",
              "      <td>49</td>\n",
              "      <td>0</td>\n",
              "      <td>Dogecoin</td>\n",
              "      <td>26</td>\n",
              "      <td>1</td>\n",
              "      <td>0</td>\n",
              "      <td>0</td>\n",
              "      <td>...</td>\n",
              "      <td>0</td>\n",
              "      <td>0</td>\n",
              "      <td>1</td>\n",
              "      <td>0</td>\n",
              "      <td>0</td>\n",
              "      <td>0</td>\n",
              "      <td>0</td>\n",
              "      <td>0</td>\n",
              "      <td>0</td>\n",
              "      <td>0</td>\n",
              "    </tr>\n",
              "    <tr>\n",
              "      <th>1</th>\n",
              "      <td>others</td>\n",
              "      <td>94</td>\n",
              "      <td>189</td>\n",
              "      <td>753</td>\n",
              "      <td>0</td>\n",
              "      <td>other</td>\n",
              "      <td>29</td>\n",
              "      <td>1</td>\n",
              "      <td>0</td>\n",
              "      <td>0</td>\n",
              "      <td>...</td>\n",
              "      <td>0</td>\n",
              "      <td>0</td>\n",
              "      <td>0</td>\n",
              "      <td>0</td>\n",
              "      <td>0</td>\n",
              "      <td>0</td>\n",
              "      <td>0</td>\n",
              "      <td>0</td>\n",
              "      <td>0</td>\n",
              "      <td>1</td>\n",
              "    </tr>\n",
              "    <tr>\n",
              "      <th>2</th>\n",
              "      <td>others</td>\n",
              "      <td>5366</td>\n",
              "      <td>927</td>\n",
              "      <td>34484</td>\n",
              "      <td>0</td>\n",
              "      <td>other</td>\n",
              "      <td>474</td>\n",
              "      <td>1</td>\n",
              "      <td>0</td>\n",
              "      <td>0</td>\n",
              "      <td>...</td>\n",
              "      <td>1</td>\n",
              "      <td>1</td>\n",
              "      <td>0</td>\n",
              "      <td>0</td>\n",
              "      <td>0</td>\n",
              "      <td>0</td>\n",
              "      <td>0</td>\n",
              "      <td>1</td>\n",
              "      <td>0</td>\n",
              "      <td>0</td>\n",
              "    </tr>\n",
              "    <tr>\n",
              "      <th>3</th>\n",
              "      <td>United States</td>\n",
              "      <td>68</td>\n",
              "      <td>84</td>\n",
              "      <td>427</td>\n",
              "      <td>0</td>\n",
              "      <td>other</td>\n",
              "      <td>964</td>\n",
              "      <td>1</td>\n",
              "      <td>0</td>\n",
              "      <td>0</td>\n",
              "      <td>...</td>\n",
              "      <td>0</td>\n",
              "      <td>0</td>\n",
              "      <td>0</td>\n",
              "      <td>0</td>\n",
              "      <td>0</td>\n",
              "      <td>0</td>\n",
              "      <td>0</td>\n",
              "      <td>0</td>\n",
              "      <td>0</td>\n",
              "      <td>0</td>\n",
              "    </tr>\n",
              "    <tr>\n",
              "      <th>4</th>\n",
              "      <td>others</td>\n",
              "      <td>275</td>\n",
              "      <td>789</td>\n",
              "      <td>3654</td>\n",
              "      <td>0</td>\n",
              "      <td>other</td>\n",
              "      <td>1677</td>\n",
              "      <td>1</td>\n",
              "      <td>0</td>\n",
              "      <td>0</td>\n",
              "      <td>...</td>\n",
              "      <td>0</td>\n",
              "      <td>0</td>\n",
              "      <td>0</td>\n",
              "      <td>0</td>\n",
              "      <td>0</td>\n",
              "      <td>0</td>\n",
              "      <td>0</td>\n",
              "      <td>0</td>\n",
              "      <td>0</td>\n",
              "      <td>0</td>\n",
              "    </tr>\n",
              "  </tbody>\n",
              "</table>\n",
              "<p>5 rows × 54 columns</p>\n",
              "</div>\n",
              "      <button class=\"colab-df-convert\" onclick=\"convertToInteractive('df-44c66e86-0d6f-4729-9cc9-b9d507066ebe')\"\n",
              "              title=\"Convert this dataframe to an interactive table.\"\n",
              "              style=\"display:none;\">\n",
              "        \n",
              "  <svg xmlns=\"http://www.w3.org/2000/svg\" height=\"24px\"viewBox=\"0 0 24 24\"\n",
              "       width=\"24px\">\n",
              "    <path d=\"M0 0h24v24H0V0z\" fill=\"none\"/>\n",
              "    <path d=\"M18.56 5.44l.94 2.06.94-2.06 2.06-.94-2.06-.94-.94-2.06-.94 2.06-2.06.94zm-11 1L8.5 8.5l.94-2.06 2.06-.94-2.06-.94L8.5 2.5l-.94 2.06-2.06.94zm10 10l.94 2.06.94-2.06 2.06-.94-2.06-.94-.94-2.06-.94 2.06-2.06.94z\"/><path d=\"M17.41 7.96l-1.37-1.37c-.4-.4-.92-.59-1.43-.59-.52 0-1.04.2-1.43.59L10.3 9.45l-7.72 7.72c-.78.78-.78 2.05 0 2.83L4 21.41c.39.39.9.59 1.41.59.51 0 1.02-.2 1.41-.59l7.78-7.78 2.81-2.81c.8-.78.8-2.07 0-2.86zM5.41 20L4 18.59l7.72-7.72 1.47 1.35L5.41 20z\"/>\n",
              "  </svg>\n",
              "      </button>\n",
              "      \n",
              "  <style>\n",
              "    .colab-df-container {\n",
              "      display:flex;\n",
              "      flex-wrap:wrap;\n",
              "      gap: 12px;\n",
              "    }\n",
              "\n",
              "    .colab-df-convert {\n",
              "      background-color: #E8F0FE;\n",
              "      border: none;\n",
              "      border-radius: 50%;\n",
              "      cursor: pointer;\n",
              "      display: none;\n",
              "      fill: #1967D2;\n",
              "      height: 32px;\n",
              "      padding: 0 0 0 0;\n",
              "      width: 32px;\n",
              "    }\n",
              "\n",
              "    .colab-df-convert:hover {\n",
              "      background-color: #E2EBFA;\n",
              "      box-shadow: 0px 1px 2px rgba(60, 64, 67, 0.3), 0px 1px 3px 1px rgba(60, 64, 67, 0.15);\n",
              "      fill: #174EA6;\n",
              "    }\n",
              "\n",
              "    [theme=dark] .colab-df-convert {\n",
              "      background-color: #3B4455;\n",
              "      fill: #D2E3FC;\n",
              "    }\n",
              "\n",
              "    [theme=dark] .colab-df-convert:hover {\n",
              "      background-color: #434B5C;\n",
              "      box-shadow: 0px 1px 3px 1px rgba(0, 0, 0, 0.15);\n",
              "      filter: drop-shadow(0px 1px 2px rgba(0, 0, 0, 0.3));\n",
              "      fill: #FFFFFF;\n",
              "    }\n",
              "  </style>\n",
              "\n",
              "      <script>\n",
              "        const buttonEl =\n",
              "          document.querySelector('#df-44c66e86-0d6f-4729-9cc9-b9d507066ebe button.colab-df-convert');\n",
              "        buttonEl.style.display =\n",
              "          google.colab.kernel.accessAllowed ? 'block' : 'none';\n",
              "\n",
              "        async function convertToInteractive(key) {\n",
              "          const element = document.querySelector('#df-44c66e86-0d6f-4729-9cc9-b9d507066ebe');\n",
              "          const dataTable =\n",
              "            await google.colab.kernel.invokeFunction('convertToInteractive',\n",
              "                                                     [key], {});\n",
              "          if (!dataTable) return;\n",
              "\n",
              "          const docLinkHtml = 'Like what you see? Visit the ' +\n",
              "            '<a target=\"_blank\" href=https://colab.research.google.com/notebooks/data_table.ipynb>data table notebook</a>'\n",
              "            + ' to learn more about interactive tables.';\n",
              "          element.innerHTML = '';\n",
              "          dataTable['output_type'] = 'display_data';\n",
              "          await google.colab.output.renderOutput(dataTable, element);\n",
              "          const docLink = document.createElement('div');\n",
              "          docLink.innerHTML = docLinkHtml;\n",
              "          element.appendChild(docLink);\n",
              "        }\n",
              "      </script>\n",
              "    </div>\n",
              "  </div>\n",
              "  "
            ]
          },
          "metadata": {},
          "execution_count": 62
        }
      ]
    },
    {
      "cell_type": "markdown",
      "source": [
        "#### Training, Testing, and Validation Dataset\n",
        "Since not all samples belong to these five response variables (hashtags = 'other' in above table), we decided to use these un-classified samples as our testing dataset to demonstrate the outcome of our training model in future sections.\n"
      ],
      "metadata": {
        "id": "Mj4OVddGQRNx"
      }
    },
    {
      "cell_type": "code",
      "source": [
        "tweet_train = tweet_ml.filter(~tweet_ml.hashtags.contains('other')).cache()\n",
        "tweet_test = tweet_ml.filter(tweet_ml.hashtags.contains('other')).cache()"
      ],
      "metadata": {
        "id": "cJuIKw4Kaba8"
      },
      "execution_count": 63,
      "outputs": []
    },
    {
      "cell_type": "markdown",
      "source": [
        "\n",
        "Here is the final distribution of the response variables in the training set in text classifications."
      ],
      "metadata": {
        "id": "uNwn8nDKacNG"
      }
    },
    {
      "cell_type": "code",
      "execution_count": 64,
      "metadata": {
        "colab": {
          "base_uri": "https://localhost:8080/",
          "height": 321
        },
        "id": "GPMjkpn9Pasf",
        "outputId": "cb137a8c-1fc0-432c-9b7a-d9d726740282"
      },
      "outputs": [
        {
          "output_type": "display_data",
          "data": {
            "text/plain": [
              "<Figure size 432x288 with 1 Axes>"
            ],
            "image/png": "[encoded data removed]"
          },
          "metadata": {
            "needs_background": "light"
          }
        }
      ],
      "source": [
        "hashtag_ml =hashtags(tweet_train).collect()\n",
        "# Cleaned Hashtag\n",
        "x_hash = []\n",
        "y_hash = []\n",
        "for i in hashtag_ml:\n",
        "  x_hash.append(i[0])\n",
        "  y_hash.append(i[1])\n",
        "\n",
        "plt.xticks(\n",
        "    rotation=45, \n",
        "    horizontalalignment='right',\n",
        "    fontweight='light',\n",
        "    fontsize='x-large'  \n",
        ")\n",
        "\n",
        "plt.bar(x_hash[1:10], y_hash[1:10])\n",
        "plt.show()"
      ]
    },
    {
      "cell_type": "markdown",
      "metadata": {
        "id": "kcP9PSjiPasp"
      },
      "source": [
        "Then spliting training dataset into training data and validation data (80% and 20%) to test the performance of the training model."
      ]
    },
    {
      "cell_type": "markdown",
      "source": [
        "#### Multinomial Regression Model\n",
        "\n",
        "Setting up the Pyspark Machine Learning environments. Removing user locations since it has too many levels which leads to extremely high computational cost."
      ],
      "metadata": {
        "id": "VBEPbfDwWI8i"
      }
    },
    {
      "cell_type": "code",
      "execution_count": 65,
      "metadata": {
        "id": "PblQ_pcS3s05"
      },
      "outputs": [],
      "source": [
        "from pyspark.ml.classification import LogisticRegression\n",
        "from pyspark.ml.feature import VectorAssembler\n",
        "from pyspark.ml.feature import StringIndexer\n",
        "\n",
        "# Y-variables\n",
        "stringIndexer = StringIndexer(inputCol=\"hashtags\", outputCol=\"label\")\n",
        "model = stringIndexer.fit(tweet_train)\n",
        "td = model.transform(tweet_train)\n",
        "\n",
        "# X-variables\n",
        "assembler = VectorAssembler(outputCol= \"features\")\\\n",
        ".setInputCols(tweet_train.drop('hashtags','id','user_location').columns)\n",
        "\n",
        "# Setting up Multinomial Logistic Regression\n",
        "lr = LogisticRegression(maxIter=10,family=\"multinomial\")\n",
        "assembler_df = assembler.transform(td)\n",
        "train, validation = assembler_df.randomSplit([0.8,0.2],2022)"
      ]
    },
    {
      "cell_type": "markdown",
      "source": [
        "Fitted a Multinomial Logestic Regression model using training data"
      ],
      "metadata": {
        "id": "-CzaB2XIWvEb"
      }
    },
    {
      "cell_type": "code",
      "source": [
        "lrModel = lr.fit(train)"
      ],
      "metadata": {
        "id": "RP5ndi2UW45c"
      },
      "execution_count": 66,
      "outputs": []
    },
    {
      "cell_type": "markdown",
      "metadata": {
        "id": "kwtP1CZIPasr"
      },
      "source": [
        "Tuning the model and checking the performance using validation data"
      ]
    },
    {
      "cell_type": "code",
      "execution_count": 67,
      "metadata": {
        "colab": {
          "base_uri": "https://localhost:8080/"
        },
        "id": "2dRGhKf21Lh8",
        "outputId": "3d8fd0ae-5979-4e20-fce9-e3ef31377b44"
      },
      "outputs": [
        {
          "output_type": "stream",
          "name": "stdout",
          "text": [
            "The accuracy of prediction in Validation Data 0.6524463640869503\n"
          ]
        }
      ],
      "source": [
        "predictions = lrModel.transform(validation)\n",
        "accuracy = predictions.filter(predictions.label == predictions.prediction).count()/float(predictions.count())\n",
        "print(\"The accuracy of prediction in Validation Data\",accuracy)"
      ]
    },
    {
      "cell_type": "markdown",
      "source": [
        "#### Random Forest\n",
        "Using the training set to train a Random Forest with 100 total trees, and number of sqrt(col) variables to choose in each trees."
      ],
      "metadata": {
        "id": "NsKKdGyqZIul"
      }
    },
    {
      "cell_type": "code",
      "source": [
        "from pyspark.ml.classification import RandomForestClassifier\n",
        "rf = RandomForestClassifier(featuresCol = 'features', labelCol = 'label',numTrees=100)\n",
        "rfModel = rf.fit(train)"
      ],
      "metadata": {
        "id": "D3VPW9v7ZT43"
      },
      "execution_count": 68,
      "outputs": []
    },
    {
      "cell_type": "markdown",
      "source": [
        "Checking the performance using validation data"
      ],
      "metadata": {
        "id": "FpneAfC1zNw9"
      }
    },
    {
      "cell_type": "code",
      "source": [
        "predictions = rfModel.transform(validation)\n",
        "accuracy = predictions.filter(predictions.label == predictions.prediction).count()/float(predictions.count())\n",
        "print(\"The accuracy of prediction in Validation Data\",accuracy)"
      ],
      "metadata": {
        "colab": {
          "base_uri": "https://localhost:8080/"
        },
        "id": "AXNJE7yKzM20",
        "outputId": "0c735d14-a049-4581-8bf3-e0bdf68f27e4"
      },
      "execution_count": 69,
      "outputs": [
        {
          "output_type": "stream",
          "name": "stdout",
          "text": [
            "The accuracy of prediction in Validation Data 0.8449691991786448\n"
          ]
        }
      ]
    },
    {
      "cell_type": "markdown",
      "source": [
        "#### Neural Network with Keras API\n",
        "Converting to Pandas Dataframe for better compatibility with Keras Packages. And creating dummy variables for response variables \"hashtags\" since the neural network requires int variables for calculation."
      ],
      "metadata": {
        "id": "jRVE0FFZFBzQ"
      }
    },
    {
      "cell_type": "code",
      "source": [
        "train_df = tweet_train.drop('id').toPandas()\n",
        "response = train_df.pop('hashtags')\n",
        "train_df = train_df.drop(columns= 'user_location')\n",
        "response = pd.get_dummies(response)"
      ],
      "metadata": {
        "id": "oPET-qSx42Hh"
      },
      "execution_count": 86,
      "outputs": []
    },
    {
      "cell_type": "markdown",
      "source": [
        "Setting up the Keras environments and a neural network model with two hidden layers, have 128 and 256 node. Setting up the Relu activation functions for non-linearity, and softmax output function for multi-class classification."
      ],
      "metadata": {
        "id": "rMhH41E3GJ9Z"
      }
    },
    {
      "cell_type": "code",
      "source": [
        "import tensorflow as tf\n",
        "from tensorflow import keras\n",
        "from tensorflow.keras import layers\n",
        "\n",
        "inputs = keras.Input(shape=(51,))\n",
        "x = layers.Dense(128, activation=\"relu\", name=\"dense_1\")(inputs)\n",
        "x = layers.Dense(256, activation=\"relu\", name=\"dense_2\")(x)\n",
        "outputs = layers.Dense(5, activation=\"softmax\", name=\"classification\")(x)\n",
        "\n",
        "model = keras.Model(inputs=inputs, outputs=outputs)\n",
        "model.summary()"
      ],
      "metadata": {
        "colab": {
          "base_uri": "https://localhost:8080/"
        },
        "id": "8WKgcqpg6Nm4",
        "outputId": "33cec5e1-ccd3-4b2e-c550-35fc76fc65e5"
      },
      "execution_count": 81,
      "outputs": [
        {
          "output_type": "stream",
          "name": "stdout",
          "text": [
            "Model: \"model_1\"\n",
            "_________________________________________________________________\n",
            " Layer (type)                Output Shape              Param #   \n",
            "=================================================================\n",
            " input_2 (InputLayer)        [(None, 51)]              0         \n",
            "                                                                 \n",
            " dense_1 (Dense)             (None, 128)               6656      \n",
            "                                                                 \n",
            " dense_2 (Dense)             (None, 256)               33024     \n",
            "                                                                 \n",
            " classification (Dense)      (None, 5)                 1285      \n",
            "                                                                 \n",
            "=================================================================\n",
            "Total params: 40,965\n",
            "Trainable params: 40,965\n",
            "Non-trainable params: 0\n",
            "_________________________________________________________________\n"
          ]
        }
      ]
    },
    {
      "cell_type": "markdown",
      "source": [
        "The above shows the structures of our final model. And fitting it with training data and tunning it with validation splits"
      ],
      "metadata": {
        "id": "Bm2Y6gQPGtkx"
      }
    },
    {
      "cell_type": "code",
      "source": [
        "model.compile(optimizer='adam',\n",
        "              loss='categorical_crossentropy',\n",
        "              metrics = 'accuracy')\n",
        "checkpoint_filepath = '/tmp/checkpoint'\n",
        "model_checkpoint_callback = tf.keras.callbacks.ModelCheckpoint(\n",
        "    filepath=checkpoint_filepath,\n",
        "    save_weights_only=True,\n",
        "    monitor='loss',\n",
        "    mode='max',\n",
        "    save_best_only=True)\n",
        "model.fit(train_df, response, batch_size=32, epochs=20, validation_split=0.2, callbacks=[model_checkpoint_callback])"
      ],
      "metadata": {
        "colab": {
          "base_uri": "https://localhost:8080/"
        },
        "id": "0v13sKBO-GBp",
        "outputId": "73b34320-3db7-4fc9-9e08-a2c2eb57e16e"
      },
      "execution_count": 89,
      "outputs": [
        {
          "output_type": "stream",
          "name": "stdout",
          "text": [
            "Epoch 1/20\n",
            "3548/3548 [==============================] - 14s 4ms/step - loss: 116.8460 - accuracy: 0.4272 - val_loss: 21.8834 - val_accuracy: 0.4696\n",
            "Epoch 2/20\n",
            "3548/3548 [==============================] - 11s 3ms/step - loss: 11.9903 - accuracy: 0.4798 - val_loss: 1.3669 - val_accuracy: 0.4488\n",
            "Epoch 3/20\n",
            "3548/3548 [==============================] - 11s 3ms/step - loss: 1.2508 - accuracy: 0.4696 - val_loss: 1.6729 - val_accuracy: 0.4723\n",
            "Epoch 4/20\n",
            "3548/3548 [==============================] - 11s 3ms/step - loss: 1.0349 - accuracy: 0.5547 - val_loss: 0.8407 - val_accuracy: 0.6537\n",
            "Epoch 5/20\n",
            "3548/3548 [==============================] - 13s 4ms/step - loss: 0.7887 - accuracy: 0.6968 - val_loss: 0.7531 - val_accuracy: 0.7269\n",
            "Epoch 6/20\n",
            "3548/3548 [==============================] - 11s 3ms/step - loss: 0.7540 - accuracy: 0.7144 - val_loss: 0.8589 - val_accuracy: 0.6768\n",
            "Epoch 7/20\n",
            "3548/3548 [==============================] - 11s 3ms/step - loss: 0.7876 - accuracy: 0.7020 - val_loss: 0.7817 - val_accuracy: 0.6801\n",
            "Epoch 8/20\n",
            "3548/3548 [==============================] - 11s 3ms/step - loss: 0.7321 - accuracy: 0.7294 - val_loss: 0.6161 - val_accuracy: 0.7643\n",
            "Epoch 9/20\n",
            "3548/3548 [==============================] - 11s 3ms/step - loss: 0.9909 - accuracy: 0.6766 - val_loss: 0.9638 - val_accuracy: 0.6175\n",
            "Epoch 10/20\n",
            "3548/3548 [==============================] - 10s 3ms/step - loss: 0.8489 - accuracy: 0.6843 - val_loss: 0.7968 - val_accuracy: 0.6997\n",
            "Epoch 11/20\n",
            "3548/3548 [==============================] - 10s 3ms/step - loss: 0.8047 - accuracy: 0.7123 - val_loss: 0.8172 - val_accuracy: 0.6729\n",
            "Epoch 12/20\n",
            "3548/3548 [==============================] - 11s 3ms/step - loss: 0.7652 - accuracy: 0.7191 - val_loss: 1.0272 - val_accuracy: 0.5862\n",
            "Epoch 13/20\n",
            "3548/3548 [==============================] - 11s 3ms/step - loss: 0.8149 - accuracy: 0.6901 - val_loss: 0.6500 - val_accuracy: 0.7623\n",
            "Epoch 14/20\n",
            "3548/3548 [==============================] - 11s 3ms/step - loss: 0.8350 - accuracy: 0.6905 - val_loss: 0.9390 - val_accuracy: 0.6809\n",
            "Epoch 15/20\n",
            "3548/3548 [==============================] - 11s 3ms/step - loss: 0.7641 - accuracy: 0.7348 - val_loss: 0.6914 - val_accuracy: 0.7622\n",
            "Epoch 16/20\n",
            "3548/3548 [==============================] - 10s 3ms/step - loss: 0.7264 - accuracy: 0.7385 - val_loss: 0.6975 - val_accuracy: 0.7328\n",
            "Epoch 17/20\n",
            "3548/3548 [==============================] - 10s 3ms/step - loss: 0.7544 - accuracy: 0.7320 - val_loss: 0.9025 - val_accuracy: 0.7154\n",
            "Epoch 18/20\n",
            "3548/3548 [==============================] - 11s 3ms/step - loss: 0.7749 - accuracy: 0.7043 - val_loss: 0.6575 - val_accuracy: 0.7617\n",
            "Epoch 19/20\n",
            "3548/3548 [==============================] - 11s 3ms/step - loss: 0.7928 - accuracy: 0.7032 - val_loss: 0.9805 - val_accuracy: 0.6677\n",
            "Epoch 20/20\n",
            "3548/3548 [==============================] - 10s 3ms/step - loss: 0.6914 - accuracy: 0.7542 - val_loss: 0.6055 - val_accuracy: 0.7811\n"
          ]
        },
        {
          "output_type": "execute_result",
          "data": {
            "text/plain": [
              "<keras.callbacks.History at 0x7f1ebf43ec10>"
            ]
          },
          "metadata": {},
          "execution_count": 89
        }
      ]
    },
    {
      "cell_type": "markdown",
      "source": [
        "The above plot demonstrates the training process of the neural network model in each iteration. To avoid overfitting, we need to use the model with the lowest validated loss (val_loss) in the above result. This model is stored in memory by checkpoint functions and is callable for future usage."
      ],
      "metadata": {
        "id": "qf4Pjxd3Ouk_"
      }
    },
    {
      "cell_type": "markdown",
      "source": [
        "#### Prediction\n",
        "We will use the testing dataset to demonstrate the outcome of three trained models and how auto-hashtaging system works in incoming tweets.\n",
        "\n",
        "Logestic Regression"
      ],
      "metadata": {
        "id": "0stFLfpCHABa"
      }
    },
    {
      "cell_type": "code",
      "execution_count": 78,
      "metadata": {
        "colab": {
          "base_uri": "https://localhost:8080/"
        },
        "id": "bnyjLV5rPasy",
        "outputId": "74e09472-d98d-43a6-a9af-62dcf882ec0a"
      },
      "outputs": [
        {
          "output_type": "stream",
          "name": "stdout",
          "text": [
            "+----+------------------------------------------------------------------------------------------------------+\n",
            "|id  |probability                                                                                           |\n",
            "+----+------------------------------------------------------------------------------------------------------+\n",
            "|29  |[0.3077313892095184,0.371686180208301,0.16157765845611455,0.15900331096889617,1.4611571697825333E-6]  |\n",
            "|474 |[0.33327388585249207,0.3741639190318949,0.1714864279527474,0.12107430591892694,1.4612439387007495E-6] |\n",
            "|964 |[0.3913783911510319,0.3027252404883092,0.17921642595022608,0.1266785265102223,1.4159002104801821E-6]  |\n",
            "|1677|[0.33295682110539726,0.3273996767104981,0.16134718703164241,0.17829488835432508,1.4267981371979524E-6]|\n",
            "|1950|[0.3600914851863604,0.24751148870741563,0.15465675775777693,0.23773885594117347,1.4124072734451633E-6]|\n",
            "|2040|[0.42485527012649427,0.26050835049863025,0.16349387679216867,0.1511411729427666,1.3296399402649282E-6]|\n",
            "|2214|[0.4419353500007448,0.2527123390106577,0.16882974288092872,0.13652119501290258,1.3730947663475665E-6] |\n",
            "|2453|[0.4589381243296783,0.14606804491493697,0.2937284738352546,0.10126408940553218,1.2675145980027649E-6] |\n",
            "|2509|[0.3321477952505388,0.37096013204945966,0.16393197503583595,0.13295870829424924,1.389369916457664E-6] |\n",
            "|2529|[0.3048276563348717,0.23617205430574892,0.2686116148297133,0.19038718971765053,1.484812015595407E-6]  |\n",
            "+----+------------------------------------------------------------------------------------------------------+\n",
            "only showing top 10 rows\n",
            "\n"
          ]
        }
      ],
      "source": [
        "from pyspark.ml.feature import IndexToString\n",
        "test = assembler.transform(tweet_test)\n",
        "test_prediction = lrModel.transform(test)\n",
        "backtoshash = IndexToString(inputCol=\"prediction\", outputCol=\"hashes\",labels=['Cryptocurrency','Bitcoin','Dogecoin','Etherenum','binance'])\n",
        "test_prediction = backtoshash.transform(test_prediction)\n",
        "test_prediction.select('id','probability').show(10,False) "
      ]
    },
    {
      "cell_type": "markdown",
      "source": [
        "The hashtags with the highest probabilities will be the classified categories for the corresponding samples (optimal Bayes)"
      ],
      "metadata": {
        "id": "oxDx7I9kQuH7"
      }
    },
    {
      "cell_type": "code",
      "source": [
        "test_prediction.select('id','hashes').show(10,False) "
      ],
      "metadata": {
        "colab": {
          "base_uri": "https://localhost:8080/"
        },
        "id": "ykxWbzm8Q6R_",
        "outputId": "d57f0473-064b-4ee6-e780-fe16b22fb44c"
      },
      "execution_count": 79,
      "outputs": [
        {
          "output_type": "stream",
          "name": "stdout",
          "text": [
            "+----+--------------+\n",
            "|id  |hashes        |\n",
            "+----+--------------+\n",
            "|29  |Bitcoin       |\n",
            "|474 |Bitcoin       |\n",
            "|964 |Cryptocurrency|\n",
            "|1677|Cryptocurrency|\n",
            "|1950|Cryptocurrency|\n",
            "|2040|Cryptocurrency|\n",
            "|2214|Cryptocurrency|\n",
            "|2453|Cryptocurrency|\n",
            "|2509|Bitcoin       |\n",
            "|2529|Cryptocurrency|\n",
            "+----+--------------+\n",
            "only showing top 10 rows\n",
            "\n"
          ]
        }
      ]
    },
    {
      "cell_type": "markdown",
      "source": [
        "Random Forest\n",
        "Similiar for Random Forest model and Neural Network Model"
      ],
      "metadata": {
        "id": "c0HGgFQAHfFl"
      }
    },
    {
      "cell_type": "code",
      "source": [
        "test_prediction = rfModel.transform(test)\n",
        "backtoshash = IndexToString(inputCol=\"prediction\", outputCol=\"hashes\",labels=['Cryptocurrency','Bitcoin','Dogecoin','Etherenum','binance'])\n",
        "test_prediction = backtoshash.transform(test_prediction)\n",
        "test_prediction.select('id','probability').show(10,False) \n",
        "\n",
        "test_prediction.select('id','hashes').show(10,False) "
      ],
      "metadata": {
        "colab": {
          "base_uri": "https://localhost:8080/"
        },
        "id": "hKUvD6RVHhq0",
        "outputId": "0c0de310-490e-48be-a9f2-7813804e6f06"
      },
      "execution_count": 75,
      "outputs": [
        {
          "output_type": "stream",
          "name": "stdout",
          "text": [
            "+----+-----------------------------------------------------------------------------------------------------+\n",
            "|id  |probability                                                                                          |\n",
            "+----+-----------------------------------------------------------------------------------------------------+\n",
            "|29  |[0.11408553240964694,0.7291978857094307,0.06664959177602166,0.055024281883508205,0.03504270822139252]|\n",
            "|474 |[0.1652564305753442,0.6331858397395639,0.08087177629844432,0.037126306578410845,0.08355964680823667] |\n",
            "|964 |[0.3305776828116616,0.36432798930213495,0.14284028703120938,0.06453066609337645,0.0977233747616177]  |\n",
            "|1677|[0.31612928358927095,0.4227445340598757,0.11989082364177438,0.05751233645147351,0.08372302225760536] |\n",
            "|1950|[0.08574619059640502,0.16340390330095428,0.03166511566726569,0.7003261461305691,0.01885864430480592] |\n",
            "|2040|[0.5943068155443776,0.2726191016966887,0.07905983918076226,0.03180926486801036,0.022204978710161125] |\n",
            "|2214|[0.6667520715299391,0.1644187178079488,0.10068119920639075,0.033609698746054184,0.03453831270966719] |\n",
            "|2453|[0.4000689206511194,0.02974922008303281,0.5285874094943018,0.028858445070719826,0.012736004700826165]|\n",
            "|2509|[0.1381026785114682,0.739044371954166,0.06888786575378644,0.027324394280704465,0.026640689499874904] |\n",
            "|2529|[0.19059071422634632,0.15944406647246737,0.554794414228412,0.05290261631835627,0.042268188754417985] |\n",
            "+----+-----------------------------------------------------------------------------------------------------+\n",
            "only showing top 10 rows\n",
            "\n",
            "+----+--------------+\n",
            "|id  |hashes        |\n",
            "+----+--------------+\n",
            "|29  |Bitcoin       |\n",
            "|474 |Bitcoin       |\n",
            "|964 |Bitcoin       |\n",
            "|1677|Bitcoin       |\n",
            "|1950|Etherenum     |\n",
            "|2040|Cryptocurrency|\n",
            "|2214|Cryptocurrency|\n",
            "|2453|Dogecoin      |\n",
            "|2509|Bitcoin       |\n",
            "|2529|Dogecoin      |\n",
            "+----+--------------+\n",
            "only showing top 10 rows\n",
            "\n"
          ]
        }
      ]
    },
    {
      "cell_type": "markdown",
      "source": [
        "Neural Network"
      ],
      "metadata": {
        "id": "OiRLDgJCJJ71"
      }
    },
    {
      "cell_type": "code",
      "source": [
        "test_df = tweet_test.drop('id').toPandas()\n",
        "response = test_df.pop('hashtags')\n",
        "test_df = test_df.drop(columns= 'user_location')\n",
        "model.load_weights(checkpoint_filepath)\n",
        "prediction = model.predict(test_df)\n",
        "prediction[:10]"
      ],
      "metadata": {
        "colab": {
          "base_uri": "https://localhost:8080/"
        },
        "id": "wZtw-mBzHupr",
        "outputId": "5dfd3b8f-c3ad-46d5-f809-d7533470c569"
      },
      "execution_count": 90,
      "outputs": [
        {
          "output_type": "execute_result",
          "data": {
            "text/plain": [
              "array([[2.35893115e-01, 3.70337307e-01, 8.22583735e-02, 3.05431724e-01,\n",
              "        6.07949682e-03],\n",
              "       [1.47559753e-04, 9.99817193e-01, 1.51092713e-12, 3.53277137e-05,\n",
              "        2.90755020e-22],\n",
              "       [3.74551356e-01, 2.91717589e-01, 1.80127278e-01, 1.19809344e-01,\n",
              "        3.37944217e-02],\n",
              "       [8.34352300e-02, 4.13003623e-01, 1.82284534e-01, 2.89828300e-01,\n",
              "        3.14484239e-02],\n",
              "       [3.59519780e-01, 4.05398160e-01, 1.29304364e-01, 1.38947032e-02,\n",
              "        9.18831453e-02],\n",
              "       [0.00000000e+00, 9.99999642e-01, 0.00000000e+00, 4.06629681e-07,\n",
              "        0.00000000e+00],\n",
              "       [9.14618373e-02, 5.94880283e-01, 1.25181660e-01, 1.41764238e-01,\n",
              "        4.67120372e-02],\n",
              "       [3.66317110e-09, 9.95616674e-01, 1.36035316e-08, 2.10694573e-03,\n",
              "        2.27643130e-03],\n",
              "       [5.13970926e-02, 3.42191756e-01, 3.40411484e-01, 9.60622579e-02,\n",
              "        1.69937387e-01],\n",
              "       [1.38813183e-01, 2.94758379e-01, 1.67302951e-01, 3.93695772e-01,\n",
              "        5.42974332e-03]], dtype=float32)"
            ]
          },
          "metadata": {},
          "execution_count": 90
        }
      ]
    },
    {
      "cell_type": "code",
      "source": [
        "import numpy as np\n",
        "label = ['Bitcoin','Cryptocurrency','Dogecoin','Etherenum','binance']\n",
        "hashtags = []\n",
        "for prob in prediction:\n",
        "  index_max = np.argmax(prob)\n",
        "  hashtags.append(label[index_max])\n",
        "hashtags[:10]"
      ],
      "metadata": {
        "colab": {
          "base_uri": "https://localhost:8080/"
        },
        "id": "qknkSnLgRZ71",
        "outputId": "2b5514ce-a63f-4ead-e112-ab505a025e54"
      },
      "execution_count": 91,
      "outputs": [
        {
          "output_type": "execute_result",
          "data": {
            "text/plain": [
              "['Cryptocurrency',\n",
              " 'Cryptocurrency',\n",
              " 'Bitcoin',\n",
              " 'Cryptocurrency',\n",
              " 'Cryptocurrency',\n",
              " 'Cryptocurrency',\n",
              " 'Cryptocurrency',\n",
              " 'Cryptocurrency',\n",
              " 'Cryptocurrency',\n",
              " 'Etherenum']"
            ]
          },
          "metadata": {},
          "execution_count": 91
        }
      ]
    },
    {
      "cell_type": "markdown",
      "source": [
        "#### Conclusion and Possible Improvement\n",
        "This project demonstrates data analysis of tweets and related information under Pyspark environments. And performing a simple text classification using three popular supervised learning models: logistic regression, Random Forest, and ANN. The Random forest model achieves 84% accuracy in the hashtag classification of the validation dataset. Therefore, the prediction can be an important metrics for an automatic tagging system for new tweets.\n",
        "\n",
        "There are alterative choices of machine learning models for text classification in this project. For exmaple, the vectorized version of the neural network, support vector machine, KNN, and others. Some of models might have a better performance than the above models. These can be a possible improvement of this project in future developments.\n",
        "\n",
        "Also, [Twitter API](https://developer.twitter.com/en/docs/twitter-api) provides more possibilities for data mining, such as but not limited to streaming, recent search,  and particular user search. Therefore, the Kaggle dataset in this project can be replace with other sources to improve the performance."
      ],
      "metadata": {
        "id": "kn2NKiPHTlh2"
      }
    }
  ],
  "metadata": {
    "colab": {
      "collapsed_sections": [],
      "name": "Report.ipynb",
      "provenance": []
    },
    "kernelspec": {
      "display_name": "Python 3",
      "language": "python",
      "name": "python3"
    },
    "language_info": {
      "codemirror_mode": {
        "name": "ipython",
        "version": 3
      },
      "file_extension": ".py",
      "mimetype": "text/x-python",
      "name": "python",
      "nbconvert_exporter": "python",
      "pygments_lexer": "ipython3",
      "version": "3.6.7"
    }
  },
  "nbformat": 4,
  "nbformat_minor": 0
}